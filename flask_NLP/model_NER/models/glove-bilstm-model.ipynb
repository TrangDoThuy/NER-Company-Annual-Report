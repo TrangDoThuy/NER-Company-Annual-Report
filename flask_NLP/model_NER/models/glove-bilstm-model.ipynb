{
 "cells": [
  {
   "cell_type": "code",
   "execution_count": 1,
   "id": "992a4016",
   "metadata": {
    "_cell_guid": "b1076dfc-b9ad-4769-8c92-a6c4dae69d19",
    "_uuid": "8f2839f25d086af736a60e9eeb907d3b93b6e0e5",
    "execution": {
     "iopub.execute_input": "2021-12-22T08:39:44.112235Z",
     "iopub.status.busy": "2021-12-22T08:39:44.110712Z",
     "iopub.status.idle": "2021-12-22T08:39:44.142129Z",
     "shell.execute_reply": "2021-12-22T08:39:44.142871Z",
     "shell.execute_reply.started": "2021-12-22T07:42:57.311828Z"
    },
    "papermill": {
     "duration": 0.053989,
     "end_time": "2021-12-22T08:39:44.143213",
     "exception": false,
     "start_time": "2021-12-22T08:39:44.089224",
     "status": "completed"
    },
    "tags": []
   },
   "outputs": [
    {
     "name": "stdout",
     "output_type": "stream",
     "text": [
      "/kaggle/input/bert-base-uncased/config.json\n",
      "/kaggle/input/bert-base-uncased/pytorch_model.bin\n",
      "/kaggle/input/bert-base-uncased/vocab.txt\n",
      "/kaggle/input/glove-emb/glove.6B.100d.txt\n",
      "/kaggle/input/ner-dataset/ner_dataset.csv\n"
     ]
    }
   ],
   "source": [
    "# This Python 3 environment comes with many helpful analytics libraries installed\n",
    "# It is defined by the kaggle/python Docker image: https://github.com/kaggle/docker-python\n",
    "# For example, here's several helpful packages to load\n",
    "\n",
    "import numpy as np # linear algebra\n",
    "import pandas as pd # data processing, CSV file I/O (e.g. pd.read_csv)\n",
    "\n",
    "# Input data files are available in the read-only \"../input/\" directory\n",
    "# For example, running this (by clicking run or pressing Shift+Enter) will list all files under the input directory\n",
    "\n",
    "import os\n",
    "for dirname, _, filenames in os.walk('/kaggle/input'):\n",
    "    for filename in filenames:\n",
    "        print(os.path.join(dirname, filename))\n",
    "\n",
    "# You can write up to 20GB to the current directory (/kaggle/working/) that gets preserved as output when you create a version using \"Save & Run All\" \n",
    "# You can also write temporary files to /kaggle/temp/, but they won't be saved outside of the current session"
   ]
  },
  {
   "cell_type": "markdown",
   "id": "d1069ff5",
   "metadata": {},
   "source": [
    "For running and training model, please find at https://www.kaggle.com/trangdothuy/ner-glove-bilstm-model"
   ]
  },
  {
   "cell_type": "code",
   "execution_count": 2,
   "id": "b9ab3114",
   "metadata": {
    "execution": {
     "iopub.execute_input": "2021-12-22T08:39:44.204015Z",
     "iopub.status.busy": "2021-12-22T08:39:44.203261Z",
     "iopub.status.idle": "2021-12-22T08:39:49.342927Z",
     "shell.execute_reply": "2021-12-22T08:39:49.341893Z",
     "shell.execute_reply.started": "2021-12-22T07:42:57.325949Z"
    },
    "papermill": {
     "duration": 5.17131,
     "end_time": "2021-12-22T08:39:49.343060",
     "exception": false,
     "start_time": "2021-12-22T08:39:44.171750",
     "status": "completed"
    },
    "tags": []
   },
   "outputs": [],
   "source": [
    "import os\n",
    "import tensorflow as tf\n",
    "from tensorflow import keras\n",
    "from keras.models import Model, Input, Sequential\n",
    "from keras.layers import LSTM,GRU, Embedding, Dense, TimeDistributed, Dropout, Bidirectional, BatchNormalization, Activation, Add\n",
    "from tensorflow.keras.utils import to_categorical\n",
    "from tensorflow.keras.optimizers import Adam\n",
    "from tensorflow.keras.layers import TextVectorization\n",
    "from numpy.random import seed"
   ]
  },
  {
   "cell_type": "code",
   "execution_count": 3,
   "id": "a21811b3",
   "metadata": {
    "execution": {
     "iopub.execute_input": "2021-12-22T08:39:49.377362Z",
     "iopub.status.busy": "2021-12-22T08:39:49.376767Z",
     "iopub.status.idle": "2021-12-22T08:39:49.941894Z",
     "shell.execute_reply": "2021-12-22T08:39:49.942367Z",
     "shell.execute_reply.started": "2021-12-22T07:42:57.334313Z"
    },
    "papermill": {
     "duration": 0.58425,
     "end_time": "2021-12-22T08:39:49.942525",
     "exception": false,
     "start_time": "2021-12-22T08:39:49.358275",
     "status": "completed"
    },
    "tags": []
   },
   "outputs": [],
   "source": [
    "from tqdm import tqdm\n",
    "import pandas as pd\n",
    "import numpy as np \n",
    "\n",
    "from sklearn import preprocessing\n",
    "from sklearn import model_selection"
   ]
  },
  {
   "cell_type": "code",
   "execution_count": 4,
   "id": "78afb6d6",
   "metadata": {
    "execution": {
     "iopub.execute_input": "2021-12-22T08:39:49.977623Z",
     "iopub.status.busy": "2021-12-22T08:39:49.974930Z",
     "iopub.status.idle": "2021-12-22T08:39:49.979877Z",
     "shell.execute_reply": "2021-12-22T08:39:49.979468Z",
     "shell.execute_reply.started": "2021-12-22T07:42:57.346438Z"
    },
    "papermill": {
     "duration": 0.022808,
     "end_time": "2021-12-22T08:39:49.979982",
     "exception": false,
     "start_time": "2021-12-22T08:39:49.957174",
     "status": "completed"
    },
    "tags": []
   },
   "outputs": [],
   "source": [
    "from tensorflow.keras.layers import TextVectorization\n",
    "\n",
    "class Config:\n",
    "    def __init__(self):\n",
    "        self.MAX_LEN = 128\n",
    "        self.TRAIN_BATCH_SIZE = 8\n",
    "        self.VALID_BATCH_SIZE = 8\n",
    "        self.EPOCHS = 20\n",
    "        self.BASE_MODEL_PATH = \"../input/bert-base-uncased\"\n",
    "        self.MODEL_PATH = \"./model.bin\"\n",
    "        self.TRAINING_FILE = \"../input/ner-dataset/ner_dataset.csv\"\n",
    "config = Config()\n",
    "\n"
   ]
  },
  {
   "cell_type": "code",
   "execution_count": 5,
   "id": "74be9919",
   "metadata": {
    "execution": {
     "iopub.execute_input": "2021-12-22T08:39:50.015501Z",
     "iopub.status.busy": "2021-12-22T08:39:50.014994Z",
     "iopub.status.idle": "2021-12-22T08:40:02.469015Z",
     "shell.execute_reply": "2021-12-22T08:40:02.468396Z",
     "shell.execute_reply.started": "2021-12-22T07:42:57.359379Z"
    },
    "papermill": {
     "duration": 12.474309,
     "end_time": "2021-12-22T08:40:02.469204",
     "exception": false,
     "start_time": "2021-12-22T08:39:49.994895",
     "status": "completed"
    },
    "tags": []
   },
   "outputs": [
    {
     "name": "stdout",
     "output_type": "stream",
     "text": [
      "Found 400000 word vectors.\n"
     ]
    }
   ],
   "source": [
    "path_to_glove_file = \"../input/glove-emb/glove.6B.100d.txt\"\n",
    "\n",
    "embeddings_index = {}\n",
    "with open(path_to_glove_file) as f:\n",
    "    for line in f:\n",
    "        word, coefs = line.split(maxsplit=1)\n",
    "        coefs = np.fromstring(coefs, \"f\", sep=\" \")\n",
    "        embeddings_index[word] = coefs\n",
    "\n",
    "print(\"Found %s word vectors.\" % len(embeddings_index))"
   ]
  },
  {
   "cell_type": "code",
   "execution_count": 6,
   "id": "f82c8e55",
   "metadata": {
    "execution": {
     "iopub.execute_input": "2021-12-22T08:40:02.510940Z",
     "iopub.status.busy": "2021-12-22T08:40:02.510394Z",
     "iopub.status.idle": "2021-12-22T08:40:12.326639Z",
     "shell.execute_reply": "2021-12-22T08:40:12.326151Z",
     "shell.execute_reply.started": "2021-12-22T07:43:09.002735Z"
    },
    "papermill": {
     "duration": 9.841903,
     "end_time": "2021-12-22T08:40:12.326769",
     "exception": false,
     "start_time": "2021-12-22T08:40:02.484866",
     "status": "completed"
    },
    "tags": []
   },
   "outputs": [
    {
     "name": "stderr",
     "output_type": "stream",
     "text": [
      "2021-12-22 08:40:09.232050: I tensorflow/stream_executor/cuda/cuda_gpu_executor.cc:937] successful NUMA node read from SysFS had negative value (-1), but there must be at least one NUMA node, so returning NUMA node zero\n",
      "2021-12-22 08:40:09.322317: I tensorflow/stream_executor/cuda/cuda_gpu_executor.cc:937] successful NUMA node read from SysFS had negative value (-1), but there must be at least one NUMA node, so returning NUMA node zero\n",
      "2021-12-22 08:40:09.323058: I tensorflow/stream_executor/cuda/cuda_gpu_executor.cc:937] successful NUMA node read from SysFS had negative value (-1), but there must be at least one NUMA node, so returning NUMA node zero\n",
      "2021-12-22 08:40:09.324335: I tensorflow/core/platform/cpu_feature_guard.cc:142] This TensorFlow binary is optimized with oneAPI Deep Neural Network Library (oneDNN) to use the following CPU instructions in performance-critical operations:  AVX2 AVX512F FMA\n",
      "To enable them in other operations, rebuild TensorFlow with the appropriate compiler flags.\n",
      "2021-12-22 08:40:09.325494: I tensorflow/stream_executor/cuda/cuda_gpu_executor.cc:937] successful NUMA node read from SysFS had negative value (-1), but there must be at least one NUMA node, so returning NUMA node zero\n",
      "2021-12-22 08:40:09.326161: I tensorflow/stream_executor/cuda/cuda_gpu_executor.cc:937] successful NUMA node read from SysFS had negative value (-1), but there must be at least one NUMA node, so returning NUMA node zero\n",
      "2021-12-22 08:40:09.326755: I tensorflow/stream_executor/cuda/cuda_gpu_executor.cc:937] successful NUMA node read from SysFS had negative value (-1), but there must be at least one NUMA node, so returning NUMA node zero\n",
      "2021-12-22 08:40:11.086525: I tensorflow/stream_executor/cuda/cuda_gpu_executor.cc:937] successful NUMA node read from SysFS had negative value (-1), but there must be at least one NUMA node, so returning NUMA node zero\n",
      "2021-12-22 08:40:11.087447: I tensorflow/stream_executor/cuda/cuda_gpu_executor.cc:937] successful NUMA node read from SysFS had negative value (-1), but there must be at least one NUMA node, so returning NUMA node zero\n",
      "2021-12-22 08:40:11.088209: I tensorflow/stream_executor/cuda/cuda_gpu_executor.cc:937] successful NUMA node read from SysFS had negative value (-1), but there must be at least one NUMA node, so returning NUMA node zero\n",
      "2021-12-22 08:40:11.088925: I tensorflow/core/common_runtime/gpu/gpu_device.cc:1510] Created device /job:localhost/replica:0/task:0/device:GPU:0 with 15403 MB memory:  -> device: 0, name: Tesla P100-PCIE-16GB, pci bus id: 0000:00:04.0, compute capability: 6.0\n",
      "2021-12-22 08:40:11.682506: I tensorflow/compiler/mlir/mlir_graph_optimization_pass.cc:185] None of the MLIR Optimization Passes are enabled (registered 2)\n"
     ]
    }
   ],
   "source": [
    "data_path = config.TRAINING_FILE\n",
    "\n",
    "df = pd.read_csv(data_path,encoding='latin-1')\n",
    "df.loc[:,\"Sentence #\"] = df[\"Sentence #\"].fillna(method=\"ffill\")\n",
    "\n",
    "sentences = df.groupby(\"Sentence #\")[\"Word\"].apply(list).values \n",
    "tag = df.groupby(\"Sentence #\")[\"Tag\"].apply(list).values\n",
    "\n",
    "vocab_dict = {'_unk_': 1, '_w_pad_': 0}\n",
    "tag_dict = {'_t_pad_': 0}\n",
    "\n",
    "tag_seqs = []\n",
    "for tag_seq in tag:\n",
    "    padded_tags = []\n",
    "    for tag_item in tag_seq:\n",
    "        padded_tags.append(tag_item)\n",
    "        if tag_item not in tag_dict:\n",
    "            tag_dict[tag_item] = len(tag_dict)\n",
    "    if len(padded_tags) < config.MAX_LEN:\n",
    "        added_len = config.MAX_LEN - len(padded_tags)\n",
    "        padded_tags += ['_t_pad_']*added_len\n",
    "    assert len(padded_tags) == config.MAX_LEN\n",
    "    tag_seqs.append(padded_tags)\n",
    "tag2idx = tag_dict\n",
    "tag_tokens = [[tag2idx[t] for t in t_seq] for t_seq in tag_seqs]\n",
    "tag_tokens = np.array([to_categorical(t_seq, num_classes=len(tag_dict)) for t_seq in tag_tokens])\n",
    "idx2tag = {v:k for k,v in tag2idx.items()} \n",
    "\n",
    "sent_list = []\n",
    "for sent in sentences:\n",
    "    sent_list.append(\" \".join(sent))\n",
    "    \n",
    "\n",
    "(\n",
    "        train_sent, \n",
    "        val_sent, \n",
    "        train_tags,\n",
    "        val_tags\n",
    "     ) = model_selection.train_test_split(sent_list, tag_tokens,random_state = 42,test_size = 0.2)\n",
    "    \n",
    "\n",
    "vectorizer = TextVectorization(max_tokens=20000, output_sequence_length=config.MAX_LEN)\n",
    "text_ds = tf.data.Dataset.from_tensor_slices(train_sent).batch(128)\n",
    "vectorizer.adapt(text_ds)\n",
    "\n",
    "voc = vectorizer.get_vocabulary()\n",
    "word_index = dict(zip(voc, range(len(voc))))"
   ]
  },
  {
   "cell_type": "code",
   "execution_count": 7,
   "id": "c1c02281",
   "metadata": {
    "execution": {
     "iopub.execute_input": "2021-12-22T08:40:12.365647Z",
     "iopub.status.busy": "2021-12-22T08:40:12.364875Z",
     "iopub.status.idle": "2021-12-22T08:40:12.409542Z",
     "shell.execute_reply": "2021-12-22T08:40:12.409994Z",
     "shell.execute_reply.started": "2021-12-22T07:43:17.163828Z"
    },
    "papermill": {
     "duration": 0.067564,
     "end_time": "2021-12-22T08:40:12.410141",
     "exception": false,
     "start_time": "2021-12-22T08:40:12.342577",
     "status": "completed"
    },
    "tags": []
   },
   "outputs": [
    {
     "name": "stdout",
     "output_type": "stream",
     "text": [
      "Converted 18358 words (1642 misses)\n"
     ]
    }
   ],
   "source": [
    "num_tokens = len(voc) + 2\n",
    "embedding_dim = 100\n",
    "hits = 0\n",
    "misses = 0\n",
    "# Prepare embedding matrix\n",
    "embedding_matrix = np.zeros((num_tokens, embedding_dim))\n",
    "for word, i in word_index.items():\n",
    "    embedding_vector = embeddings_index.get(word)\n",
    "    if embedding_vector is not None:\n",
    "        # Words not found in embedding index will be all-zeros.\n",
    "        # This includes the representation for \"padding\" and \"OOV\"\n",
    "        embedding_matrix[i] = embedding_vector\n",
    "        hits += 1\n",
    "    else:\n",
    "        misses += 1\n",
    "print(\"Converted %d words (%d misses)\" % (hits, misses))"
   ]
  },
  {
   "cell_type": "code",
   "execution_count": 8,
   "id": "28e2289b",
   "metadata": {
    "execution": {
     "iopub.execute_input": "2021-12-22T08:40:12.585604Z",
     "iopub.status.busy": "2021-12-22T08:40:12.584698Z",
     "iopub.status.idle": "2021-12-22T08:40:12.943746Z",
     "shell.execute_reply": "2021-12-22T08:40:12.943237Z",
     "shell.execute_reply.started": "2021-12-22T07:43:17.211809Z"
    },
    "papermill": {
     "duration": 0.518043,
     "end_time": "2021-12-22T08:40:12.943879",
     "exception": false,
     "start_time": "2021-12-22T08:40:12.425836",
     "status": "completed"
    },
    "tags": []
   },
   "outputs": [],
   "source": [
    "x_train = vectorizer(np.array([[s] for s in train_sent])).numpy()\n",
    "x_val = vectorizer(np.array([[s] for s in val_sent])).numpy()"
   ]
  },
  {
   "cell_type": "code",
   "execution_count": 9,
   "id": "a918fa0c",
   "metadata": {
    "execution": {
     "iopub.execute_input": "2021-12-22T08:40:12.989336Z",
     "iopub.status.busy": "2021-12-22T08:40:12.988632Z",
     "iopub.status.idle": "2021-12-22T08:40:12.991186Z",
     "shell.execute_reply": "2021-12-22T08:40:12.990733Z",
     "shell.execute_reply.started": "2021-12-22T07:43:17.618971Z"
    },
    "papermill": {
     "duration": 0.03159,
     "end_time": "2021-12-22T08:40:12.991298",
     "exception": false,
     "start_time": "2021-12-22T08:40:12.959708",
     "status": "completed"
    },
    "tags": []
   },
   "outputs": [],
   "source": [
    "def build_model(max_sent_length, vocab_size, hidden_size, embedding_size, \n",
    "                output_size, learning_rate,num_mlp_layers,activation,dropout_rate):\n",
    "    \n",
    "    \n",
    "    inputs = Input(shape=(max_sent_length,), dtype='int32')\n",
    "    emb = Embedding(input_dim=vocab_size,\n",
    "                    output_dim = embedding_size,\n",
    "                    embeddings_initializer=keras.initializers.Constant(embedding_matrix),\n",
    "                    trainable = False,\n",
    "                   )(inputs)\n",
    "    \n",
    "    bilstm_layer_1 = Bidirectional(LSTM(hidden_size,\n",
    "                   kernel_initializer=keras.initializers.glorot_uniform(seed=0),\n",
    "                   recurrent_initializer=keras.initializers.Orthogonal(gain=1.0, seed=0),\n",
    "                   return_sequences=True))(emb)\n",
    "    bilstm_layer_1_dropout = Dropout(dropout_rate, seed=0)(bilstm_layer_1)\n",
    "    bilstm_layer_2 = Bidirectional(LSTM(hidden_size,\n",
    "                   kernel_initializer=keras.initializers.glorot_uniform(seed=0),\n",
    "                   recurrent_initializer=keras.initializers.Orthogonal(gain=1.0, seed=0),\n",
    "                   return_sequences=True))(bilstm_layer_1_dropout)\n",
    "    bilstm_layer_2_dropout = Dropout(dropout_rate, seed=0)(bilstm_layer_2)\n",
    "\n",
    "    bilstm_layer_3 = Bidirectional(LSTM(hidden_size,\n",
    "                   kernel_initializer=keras.initializers.glorot_uniform(seed=0),\n",
    "                   recurrent_initializer=keras.initializers.Orthogonal(gain=1.0, seed=0),\n",
    "                   return_sequences=True))(bilstm_layer_2_dropout)\n",
    "    bilstm_layer_3_dropout = Dropout(dropout_rate, seed=0)(bilstm_layer_3)\n",
    "\n",
    "    bilstm_layer_4 = Bidirectional(LSTM(hidden_size,\n",
    "                   kernel_initializer=keras.initializers.glorot_uniform(seed=0),\n",
    "                   recurrent_initializer=keras.initializers.Orthogonal(gain=1.0, seed=0),\n",
    "                   return_sequences=True))(bilstm_layer_3_dropout)\n",
    "    bilstm_layer_4_dropout = Dropout(dropout_rate, seed=0)(bilstm_layer_4)\n",
    "    \n",
    "    h = bilstm_layer_4_dropout\n",
    "    \n",
    "    for i in range(num_mlp_layers-1):\n",
    "        new_h = Dense(hidden_size,\n",
    "                      kernel_initializer=keras.initializers.he_normal(seed=0),\n",
    "                      bias_initializer=\"zeros\",\n",
    "                      kernel_regularizer=keras.regularizers.l2(0.0))(h)\n",
    "        # add batch normalization layer\n",
    "        new_h = BatchNormalization()(new_h)\n",
    "        # add residual connection\n",
    "        if i == 0:\n",
    "            h = new_h\n",
    "        else:\n",
    "            h = Add()([h, new_h])\n",
    "        # add activation\n",
    "        h = Activation(activation)(h)\n",
    "    dense = Dense(output_size,\n",
    "              activation=\"softmax\",\n",
    "              kernel_initializer=keras.initializers.he_normal(seed=0),\n",
    "              bias_initializer=\"zeros\")(h)\n",
    "    \n",
    "    model = Model(inputs, dense)\n",
    "    model.compile(loss=\"categorical_crossentropy\", optimizer=\"Adam\", metrics=[\"accuracy\"])\n",
    "                                 \n",
    "    return model"
   ]
  },
  {
   "cell_type": "code",
   "execution_count": 10,
   "id": "534565c0",
   "metadata": {
    "execution": {
     "iopub.execute_input": "2021-12-22T08:40:13.039039Z",
     "iopub.status.busy": "2021-12-22T08:40:13.037476Z",
     "iopub.status.idle": "2021-12-22T08:40:13.039628Z",
     "shell.execute_reply": "2021-12-22T08:40:13.040011Z",
     "shell.execute_reply.started": "2021-12-22T07:43:17.636828Z"
    },
    "papermill": {
     "duration": 0.033344,
     "end_time": "2021-12-22T08:40:13.040158",
     "exception": false,
     "start_time": "2021-12-22T08:40:13.006814",
     "status": "completed"
    },
    "tags": []
   },
   "outputs": [],
   "source": [
    "import csv\n",
    "from pathlib import Path\n",
    "\n",
    "checkpointer = keras.callbacks.ModelCheckpoint(\n",
    "    filepath=os.path.join(\"models\", \"LSTM_CRF.hdf5\"),\n",
    "    monitor=\"val_accuracy\",\n",
    "    verbose=0,\n",
    "    save_best_only=True)\n",
    "\n",
    "class StepLogCallback(keras.callbacks.Callback):\n",
    "    def __init__(self):\n",
    "        self.count = 0\n",
    "        self.step_log = []\n",
    "        self.log_fpath = Path('./step_log.csv')\n",
    "    \n",
    "    def on_train_batch_end(self, batch, logs=None):\n",
    "        self.count += 1\n",
    "        self.step_log.append([self.count, logs['loss'], logs['accuracy']])\n",
    "    \n",
    "    def on_epoch_end(self, epoch, logs=None):\n",
    "        log_exists = self.log_fpath.exists()\n",
    "        with open(self.log_fpath, 'a' if log_exists else 'w', newline='') as csvfile:\n",
    "            writer = csv.writer(csvfile)\n",
    "            if not log_exists:\n",
    "                writer.writerow(['step','loss','accuracy'])\n",
    "            for log in self.step_log:\n",
    "                writer.writerow(log)\n",
    "            self.step_log.clear()\n",
    "\n",
    "class TestCallback(keras.callbacks.Callback):\n",
    "    def __init__(self, test_data, ground_file, model):\n",
    "        self.count = 0\n",
    "        self.test_data = test_data\n",
    "        self.model = model\n",
    "        self.ground_file = ground_file\n",
    "        self.epoch_log = []\n",
    "        self.log_fpath = Path('./epoch_log.csv')\n",
    "        \n",
    "    def calc_accuracy(self, preds, tags, padding_id=\"_t_pad_\"):\n",
    "        preds_flatten = preds.flatten()\n",
    "        tags_flatten = tags.flatten()\n",
    "        non_padding_idx = np.where(tags_flatten!=padding_id)[0]\n",
    "        return sum(preds_flatten[non_padding_idx]==tags_flatten[non_padding_idx])/len(non_padding_idx)\n",
    "        \n",
    "    def on_epoch_end(self, epoch, logs=None):\n",
    "        val_preds_numerical = self.model.predict(self.test_data)\n",
    "        val_preds = np.array([[idx2tag[p] for p in preds] for preds in np.argmax(val_preds_numerical,axis=2)])\n",
    "        file_dict = pkl.load(open(self.ground_file, \"rb\"))\n",
    "        val_accuracy = self.calc_accuracy(val_preds, np.array(file_dict[\"tag_seq\"]))\n",
    "        \n",
    "        print('\\nValidation Set Accuracy: %f\\n' % val_accuracy)\n",
    "        \n",
    "        self.count += 1\n",
    "        log_exists = self.log_fpath.exists()\n",
    "        with open(self.log_fpath, 'a' if log_exists else 'w', newline='') as csvfile:\n",
    "            writer = csv.writer(csvfile)\n",
    "            if not log_exists:\n",
    "                writer.writerow(['epoch','loss','train_accuracy','val_accuracy'])\n",
    "            writer.writerow([self.count, logs['loss'], logs['accuracy'], val_accuracy])\n",
    "            self.epoch_log.clear()"
   ]
  },
  {
   "cell_type": "code",
   "execution_count": 11,
   "id": "e56b5e7d",
   "metadata": {
    "execution": {
     "iopub.execute_input": "2021-12-22T08:40:13.075498Z",
     "iopub.status.busy": "2021-12-22T08:40:13.074740Z",
     "iopub.status.idle": "2021-12-22T08:40:13.076630Z",
     "shell.execute_reply": "2021-12-22T08:40:13.076983Z",
     "shell.execute_reply.started": "2021-12-22T07:43:17.656944Z"
    },
    "papermill": {
     "duration": 0.021438,
     "end_time": "2021-12-22T08:40:13.077130",
     "exception": false,
     "start_time": "2021-12-22T08:40:13.055692",
     "status": "completed"
    },
    "tags": []
   },
   "outputs": [],
   "source": [
    "input_length = config.MAX_LEN\n",
    "vocab_size = num_tokens\n",
    "hidden_size = 100\n",
    "embedding_size = 100\n",
    "output_size = train_tags.shape[2]\n",
    "learning_rate = 0.0001\n",
    "num_mlp_layers = 3\n",
    "activation = \"tanh\"\n",
    "dropout_rate = 0.5"
   ]
  },
  {
   "cell_type": "code",
   "execution_count": 12,
   "id": "36b50a3a",
   "metadata": {
    "execution": {
     "iopub.execute_input": "2021-12-22T08:40:13.118360Z",
     "iopub.status.busy": "2021-12-22T08:40:13.117556Z",
     "iopub.status.idle": "2021-12-22T08:40:14.788392Z",
     "shell.execute_reply": "2021-12-22T08:40:14.787591Z",
     "shell.execute_reply.started": "2021-12-22T07:43:17.668679Z"
    },
    "papermill": {
     "duration": 1.69548,
     "end_time": "2021-12-22T08:40:14.788593",
     "exception": false,
     "start_time": "2021-12-22T08:40:13.093113",
     "status": "completed"
    },
    "tags": []
   },
   "outputs": [
    {
     "name": "stdout",
     "output_type": "stream",
     "text": [
      "Model: \"model\"\n",
      "__________________________________________________________________________________________________\n",
      "Layer (type)                    Output Shape         Param #     Connected to                     \n",
      "==================================================================================================\n",
      "input_1 (InputLayer)            [(None, 128)]        0                                            \n",
      "__________________________________________________________________________________________________\n",
      "embedding (Embedding)           (None, 128, 100)     2000200     input_1[0][0]                    \n",
      "__________________________________________________________________________________________________\n",
      "bidirectional (Bidirectional)   (None, 128, 200)     160800      embedding[0][0]                  \n",
      "__________________________________________________________________________________________________\n",
      "dropout (Dropout)               (None, 128, 200)     0           bidirectional[0][0]              \n",
      "__________________________________________________________________________________________________\n",
      "bidirectional_1 (Bidirectional) (None, 128, 200)     240800      dropout[0][0]                    \n",
      "__________________________________________________________________________________________________\n",
      "dropout_1 (Dropout)             (None, 128, 200)     0           bidirectional_1[0][0]            \n",
      "__________________________________________________________________________________________________\n",
      "bidirectional_2 (Bidirectional) (None, 128, 200)     240800      dropout_1[0][0]                  \n",
      "__________________________________________________________________________________________________\n",
      "dropout_2 (Dropout)             (None, 128, 200)     0           bidirectional_2[0][0]            \n",
      "__________________________________________________________________________________________________\n",
      "bidirectional_3 (Bidirectional) (None, 128, 200)     240800      dropout_2[0][0]                  \n",
      "__________________________________________________________________________________________________\n",
      "dropout_3 (Dropout)             (None, 128, 200)     0           bidirectional_3[0][0]            \n",
      "__________________________________________________________________________________________________\n",
      "dense (Dense)                   (None, 128, 100)     20100       dropout_3[0][0]                  \n",
      "__________________________________________________________________________________________________\n",
      "batch_normalization (BatchNorma (None, 128, 100)     400         dense[0][0]                      \n",
      "__________________________________________________________________________________________________\n",
      "activation (Activation)         (None, 128, 100)     0           batch_normalization[0][0]        \n",
      "__________________________________________________________________________________________________\n",
      "dense_1 (Dense)                 (None, 128, 100)     10100       activation[0][0]                 \n",
      "__________________________________________________________________________________________________\n",
      "batch_normalization_1 (BatchNor (None, 128, 100)     400         dense_1[0][0]                    \n",
      "__________________________________________________________________________________________________\n",
      "add (Add)                       (None, 128, 100)     0           activation[0][0]                 \n",
      "                                                                 batch_normalization_1[0][0]      \n",
      "__________________________________________________________________________________________________\n",
      "activation_1 (Activation)       (None, 128, 100)     0           add[0][0]                        \n",
      "__________________________________________________________________________________________________\n",
      "dense_2 (Dense)                 (None, 128, 18)      1818        activation_1[0][0]               \n",
      "==================================================================================================\n",
      "Total params: 2,916,218\n",
      "Trainable params: 915,618\n",
      "Non-trainable params: 2,000,600\n",
      "__________________________________________________________________________________________________\n"
     ]
    }
   ],
   "source": [
    "np.random.seed(0)\n",
    "tf.random.set_seed(0)\n",
    "model = build_model(input_length, vocab_size, hidden_size, embedding_size, \n",
    "                    output_size, learning_rate, num_mlp_layers, activation, dropout_rate)\n",
    "model.summary()"
   ]
  },
  {
   "cell_type": "code",
   "execution_count": 13,
   "id": "e192ba31",
   "metadata": {
    "execution": {
     "iopub.execute_input": "2021-12-22T08:40:14.828461Z",
     "iopub.status.busy": "2021-12-22T08:40:14.827744Z",
     "iopub.status.idle": "2021-12-22T08:40:14.831393Z",
     "shell.execute_reply": "2021-12-22T08:40:14.830904Z",
     "shell.execute_reply.started": "2021-12-22T07:43:19.734578Z"
    },
    "papermill": {
     "duration": 0.02516,
     "end_time": "2021-12-22T08:40:14.831511",
     "exception": false,
     "start_time": "2021-12-22T08:40:14.806351",
     "status": "completed"
    },
    "tags": []
   },
   "outputs": [],
   "source": [
    "from keras.callbacks import CSVLogger\n",
    "csv_logger = CSVLogger('rnn-ner-training.log', append=False)\n",
    "earlystopping = keras.callbacks.EarlyStopping(\n",
    "    monitor='val_loss',\n",
    "    patience=5,\n",
    "    verbose=0)"
   ]
  },
  {
   "cell_type": "code",
   "execution_count": 14,
   "id": "ff14173b",
   "metadata": {
    "execution": {
     "iopub.execute_input": "2021-12-22T08:40:14.870011Z",
     "iopub.status.busy": "2021-12-22T08:40:14.869227Z",
     "iopub.status.idle": "2021-12-22T08:51:47.102518Z",
     "shell.execute_reply": "2021-12-22T08:51:47.101631Z",
     "shell.execute_reply.started": "2021-12-22T07:43:19.741173Z"
    },
    "papermill": {
     "duration": 692.254306,
     "end_time": "2021-12-22T08:51:47.102667",
     "exception": false,
     "start_time": "2021-12-22T08:40:14.848361",
     "status": "completed"
    },
    "tags": []
   },
   "outputs": [
    {
     "name": "stdout",
     "output_type": "stream",
     "text": [
      "Epoch 1/20\n"
     ]
    },
    {
     "name": "stderr",
     "output_type": "stream",
     "text": [
      "2021-12-22 08:40:25.998490: I tensorflow/stream_executor/cuda/cuda_dnn.cc:369] Loaded cuDNN version 8005\n"
     ]
    },
    {
     "name": "stdout",
     "output_type": "stream",
     "text": [
      "300/300 [==============================] - 44s 109ms/step - loss: 0.1883 - accuracy: 0.9608 - val_loss: 0.1385 - val_accuracy: 0.9683\n"
     ]
    },
    {
     "name": "stderr",
     "output_type": "stream",
     "text": [
      "/opt/conda/lib/python3.7/site-packages/keras/utils/generic_utils.py:497: CustomMaskWarning: Custom mask layers require a config and must override get_config. When loading, the custom mask layer must be passed to the custom_objects argument.\n",
      "  category=CustomMaskWarning)\n"
     ]
    },
    {
     "name": "stdout",
     "output_type": "stream",
     "text": [
      "Epoch 2/20\n",
      "300/300 [==============================] - 30s 101ms/step - loss: 0.1257 - accuracy: 0.9682 - val_loss: 0.1092 - val_accuracy: 0.9699\n",
      "Epoch 3/20\n",
      "300/300 [==============================] - 30s 101ms/step - loss: 0.1042 - accuracy: 0.9701 - val_loss: 0.0917 - val_accuracy: 0.9720\n",
      "Epoch 4/20\n",
      "300/300 [==============================] - 30s 101ms/step - loss: 0.0891 - accuracy: 0.9726 - val_loss: 0.0781 - val_accuracy: 0.9749\n",
      "Epoch 5/20\n",
      "300/300 [==============================] - 30s 101ms/step - loss: 0.0789 - accuracy: 0.9752 - val_loss: 0.0709 - val_accuracy: 0.9770\n",
      "Epoch 6/20\n",
      "300/300 [==============================] - 30s 101ms/step - loss: 0.0722 - accuracy: 0.9767 - val_loss: 0.0664 - val_accuracy: 0.9785\n",
      "Epoch 7/20\n",
      "300/300 [==============================] - 31s 102ms/step - loss: 0.0679 - accuracy: 0.9777 - val_loss: 0.0629 - val_accuracy: 0.9792\n",
      "Epoch 8/20\n",
      "300/300 [==============================] - 30s 101ms/step - loss: 0.0645 - accuracy: 0.9787 - val_loss: 0.0626 - val_accuracy: 0.9791\n",
      "Epoch 9/20\n",
      "300/300 [==============================] - 30s 99ms/step - loss: 0.0621 - accuracy: 0.9794 - val_loss: 0.0585 - val_accuracy: 0.9804\n",
      "Epoch 10/20\n",
      "300/300 [==============================] - 30s 101ms/step - loss: 0.0600 - accuracy: 0.9800 - val_loss: 0.0577 - val_accuracy: 0.9805\n",
      "Epoch 11/20\n",
      "300/300 [==============================] - 30s 100ms/step - loss: 0.0581 - accuracy: 0.9806 - val_loss: 0.0588 - val_accuracy: 0.9805\n",
      "Epoch 12/20\n",
      "300/300 [==============================] - 30s 100ms/step - loss: 0.0562 - accuracy: 0.9812 - val_loss: 0.0557 - val_accuracy: 0.9815\n",
      "Epoch 13/20\n",
      "300/300 [==============================] - 30s 100ms/step - loss: 0.0548 - accuracy: 0.9817 - val_loss: 0.0550 - val_accuracy: 0.9815\n",
      "Epoch 14/20\n",
      "300/300 [==============================] - 30s 100ms/step - loss: 0.0530 - accuracy: 0.9822 - val_loss: 0.0540 - val_accuracy: 0.9821\n",
      "Epoch 15/20\n",
      "300/300 [==============================] - 30s 100ms/step - loss: 0.0518 - accuracy: 0.9826 - val_loss: 0.0533 - val_accuracy: 0.9823\n",
      "Epoch 16/20\n",
      "300/300 [==============================] - 30s 99ms/step - loss: 0.0506 - accuracy: 0.9830 - val_loss: 0.0525 - val_accuracy: 0.9827\n",
      "Epoch 17/20\n",
      "300/300 [==============================] - 30s 100ms/step - loss: 0.0494 - accuracy: 0.9834 - val_loss: 0.0526 - val_accuracy: 0.9828\n",
      "Epoch 18/20\n",
      "300/300 [==============================] - 30s 100ms/step - loss: 0.0483 - accuracy: 0.9837 - val_loss: 0.0521 - val_accuracy: 0.9828\n",
      "Epoch 19/20\n",
      "300/300 [==============================] - 30s 100ms/step - loss: 0.0470 - accuracy: 0.9842 - val_loss: 0.0516 - val_accuracy: 0.9829\n",
      "Epoch 20/20\n",
      "300/300 [==============================] - 30s 100ms/step - loss: 0.0462 - accuracy: 0.9844 - val_loss: 0.0515 - val_accuracy: 0.9830\n"
     ]
    }
   ],
   "source": [
    "!rm -f *.csv\n",
    "history = model.fit(x_train, train_tags,\n",
    "                    batch_size=128, epochs=20, validation_data = (x_val, val_tags),\n",
    "                    callbacks=[checkpointer,csv_logger])"
   ]
  },
  {
   "cell_type": "code",
   "execution_count": 15,
   "id": "9c2470ce",
   "metadata": {
    "execution": {
     "iopub.execute_input": "2021-12-22T08:51:50.283470Z",
     "iopub.status.busy": "2021-12-22T08:51:50.282463Z",
     "iopub.status.idle": "2021-12-22T08:51:50.596627Z",
     "shell.execute_reply": "2021-12-22T08:51:50.596208Z",
     "shell.execute_reply.started": "2021-12-22T07:44:05.089417Z"
    },
    "papermill": {
     "duration": 1.919477,
     "end_time": "2021-12-22T08:51:50.596745",
     "exception": false,
     "start_time": "2021-12-22T08:51:48.677268",
     "status": "completed"
    },
    "tags": []
   },
   "outputs": [
    {
     "data": {
      "image/png": "[encoded data removed]",
      "text/plain": [
       "<Figure size 720x288 with 2 Axes>"
      ]
     },
     "metadata": {
      "needs_background": "light"
     },
     "output_type": "display_data"
    }
   ],
   "source": [
    "import matplotlib.pyplot as plt\n",
    "plt.figure(figsize=(10,4))\n",
    "plt.suptitle(\"GloVe_BiLSTM - learning_rate=0.0001\", fontsize=16)\n",
    "plt.subplot(1,2,1)\n",
    "plt.plot(history.history[\"loss\"], label=\"training\", color=\"blue\", linestyle=\"dashed\")\n",
    "plt.plot(history.history[\"val_loss\"], label=\"validation\", color=\"orange\")\n",
    "plt.xticks((0,5,10,15,20))\n",
    "plt.xlabel(\"Epoch\")\n",
    "plt.ylabel(\"Loss\")\n",
    "plt.legend()\n",
    "plt.subplot(1,2,2)\n",
    "plt.plot(history.history[\"accuracy\"], label=\"training\", color=\"blue\", linestyle=\"dashed\")\n",
    "plt.plot(history.history[\"val_accuracy\"], label=\"validation\", color=\"orange\")\n",
    "plt.xticks((0,5,10,15,20))\n",
    "plt.xlabel(\"Epoch\")\n",
    "plt.ylabel(\"Accuracy\")\n",
    "plt.legend()\n",
    "plt.show()"
   ]
  },
  {
   "cell_type": "code",
   "execution_count": 16,
   "id": "14c3ffa7",
   "metadata": {
    "execution": {
     "iopub.execute_input": "2021-12-22T08:51:54.020478Z",
     "iopub.status.busy": "2021-12-22T08:51:54.019490Z",
     "iopub.status.idle": "2021-12-22T08:51:56.015271Z",
     "shell.execute_reply": "2021-12-22T08:51:56.014347Z",
     "shell.execute_reply.started": "2021-12-22T07:44:05.407163Z"
    },
    "papermill": {
     "duration": 3.658504,
     "end_time": "2021-12-22T08:51:56.015406",
     "exception": false,
     "start_time": "2021-12-22T08:51:52.356902",
     "status": "completed"
    },
    "tags": []
   },
   "outputs": [],
   "source": [
    "# save model\n",
    "model.save('models/GloVe_BiLSTM_model.h5')"
   ]
  },
  {
   "cell_type": "markdown",
   "id": "83cd061d",
   "metadata": {
    "papermill": {
     "duration": 1.579917,
     "end_time": "2021-12-22T08:51:59.157221",
     "exception": false,
     "start_time": "2021-12-22T08:51:57.577304",
     "status": "completed"
    },
    "tags": []
   },
   "source": [
    "## Prediction"
   ]
  },
  {
   "cell_type": "code",
   "execution_count": 17,
   "id": "f8330760",
   "metadata": {
    "execution": {
     "iopub.execute_input": "2021-12-22T08:52:03.091761Z",
     "iopub.status.busy": "2021-12-22T08:52:03.090782Z",
     "iopub.status.idle": "2021-12-22T08:52:05.952355Z",
     "shell.execute_reply": "2021-12-22T08:52:05.952801Z",
     "shell.execute_reply.started": "2021-12-22T07:44:07.637285Z"
    },
    "papermill": {
     "duration": 5.038788,
     "end_time": "2021-12-22T08:52:05.952949",
     "exception": false,
     "start_time": "2021-12-22T08:52:00.914161",
     "status": "completed"
    },
    "tags": []
   },
   "outputs": [],
   "source": [
    "model =  keras.models.load_model('models/GloVe_BiLSTM_model.h5')\n"
   ]
  },
  {
   "cell_type": "code",
   "execution_count": 18,
   "id": "2570ff76",
   "metadata": {
    "execution": {
     "iopub.execute_input": "2021-12-22T08:52:09.108359Z",
     "iopub.status.busy": "2021-12-22T08:52:09.106674Z",
     "iopub.status.idle": "2021-12-22T08:52:09.108945Z",
     "shell.execute_reply": "2021-12-22T08:52:09.109392Z",
     "shell.execute_reply.started": "2021-12-22T07:45:55.736105Z"
    },
    "papermill": {
     "duration": 1.5887,
     "end_time": "2021-12-22T08:52:09.109531",
     "exception": false,
     "start_time": "2021-12-22T08:52:07.520831",
     "status": "completed"
    },
    "tags": []
   },
   "outputs": [],
   "source": [
    "idx2tag = {v:k for k,v in tag2idx.items()} "
   ]
  },
  {
   "cell_type": "code",
   "execution_count": 19,
   "id": "9c12bb9e",
   "metadata": {
    "execution": {
     "iopub.execute_input": "2021-12-22T08:52:12.329185Z",
     "iopub.status.busy": "2021-12-22T08:52:12.328289Z",
     "iopub.status.idle": "2021-12-22T08:52:16.613608Z",
     "shell.execute_reply": "2021-12-22T08:52:16.613113Z",
     "shell.execute_reply.started": "2021-12-22T07:47:16.188977Z"
    },
    "papermill": {
     "duration": 5.909988,
     "end_time": "2021-12-22T08:52:16.613737",
     "exception": false,
     "start_time": "2021-12-22T08:52:10.703749",
     "status": "completed"
    },
    "tags": []
   },
   "outputs": [
    {
     "name": "stdout",
     "output_type": "stream",
     "text": [
      "(1, 128)\n",
      "['O' 'O' 'O' 'O' 'O' 'O' 'O' 'O' 'O' 'O' 'O' 'O' 'O' 'O' 'B-tim' 'O' 'O'\n",
      " '_t_pad_' '_t_pad_' '_t_pad_' '_t_pad_' '_t_pad_' '_t_pad_' '_t_pad_'\n",
      " '_t_pad_' '_t_pad_' '_t_pad_' '_t_pad_' '_t_pad_' '_t_pad_' '_t_pad_'\n",
      " '_t_pad_' '_t_pad_' '_t_pad_' '_t_pad_' '_t_pad_' '_t_pad_' '_t_pad_'\n",
      " '_t_pad_' '_t_pad_' '_t_pad_' '_t_pad_' '_t_pad_' '_t_pad_' '_t_pad_'\n",
      " '_t_pad_' '_t_pad_' '_t_pad_' '_t_pad_' '_t_pad_' '_t_pad_' '_t_pad_'\n",
      " '_t_pad_' '_t_pad_' '_t_pad_' '_t_pad_' '_t_pad_' '_t_pad_' '_t_pad_'\n",
      " '_t_pad_' '_t_pad_' '_t_pad_' '_t_pad_' '_t_pad_' '_t_pad_' '_t_pad_'\n",
      " '_t_pad_' '_t_pad_' '_t_pad_' '_t_pad_' '_t_pad_' '_t_pad_' '_t_pad_'\n",
      " '_t_pad_' '_t_pad_' '_t_pad_' '_t_pad_' '_t_pad_' '_t_pad_' '_t_pad_'\n",
      " '_t_pad_' '_t_pad_' '_t_pad_' '_t_pad_' '_t_pad_' '_t_pad_' '_t_pad_'\n",
      " '_t_pad_' '_t_pad_' '_t_pad_' '_t_pad_' '_t_pad_' '_t_pad_' '_t_pad_'\n",
      " '_t_pad_' '_t_pad_' '_t_pad_' '_t_pad_' '_t_pad_' '_t_pad_' '_t_pad_'\n",
      " '_t_pad_' '_t_pad_' '_t_pad_' '_t_pad_' '_t_pad_' '_t_pad_' '_t_pad_'\n",
      " '_t_pad_' '_t_pad_' '_t_pad_' '_t_pad_' '_t_pad_' '_t_pad_' '_t_pad_'\n",
      " '_t_pad_' '_t_pad_' '_t_pad_' '_t_pad_' '_t_pad_' '_t_pad_' '_t_pad_'\n",
      " '_t_pad_' '_t_pad_' '_t_pad_' '_t_pad_' '_t_pad_' '_t_pad_']\n"
     ]
    }
   ],
   "source": [
    "string_input = keras.Input(shape=(1,), dtype=\"string\")\n",
    "x = vectorizer(string_input)\n",
    "preds = model(x)\n",
    "end_to_end_model = keras.Model(string_input, preds)\n",
    "\n",
    "test_preds_numerical = end_to_end_model.predict(\n",
    "    [[\"HKUST honors faculty and staff members who have served the University for at least two decades.\"]]\n",
    ")\n",
    "\n",
    "\n",
    "test_preds = np.array([[idx2tag[p] for p in preds] for preds in np.argmax(test_preds_numerical,axis=2)])\n",
    "print(test_preds.shape)\n",
    "print(test_preds[0])"
   ]
  }
 ],
 "metadata": {
  "kernelspec": {
   "display_name": "Python 3",
   "language": "python",
   "name": "python3"
  },
  "language_info": {
   "codemirror_mode": {
    "name": "ipython",
    "version": 3
   },
   "file_extension": ".py",
   "mimetype": "text/x-python",
   "name": "python",
   "nbconvert_exporter": "python",
   "pygments_lexer": "ipython3",
   "version": "3.7.12"
  },
  "papermill": {
   "default_parameters": {},
   "duration": 764.967227,
   "end_time": "2021-12-22T08:52:21.320375",
   "environment_variables": {},
   "exception": null,
   "input_path": "__notebook__.ipynb",
   "output_path": "__notebook__.ipynb",
   "parameters": {},
   "start_time": "2021-12-22T08:39:36.353148",
   "version": "2.3.3"
  }
 },
 "nbformat": 4,
 "nbformat_minor": 5
}
