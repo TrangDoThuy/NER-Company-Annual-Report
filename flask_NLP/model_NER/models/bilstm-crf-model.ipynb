{
 "cells": [
  {
   "cell_type": "code",
   "execution_count": 1,
   "id": "9f95634b",
   "metadata": {
    "_cell_guid": "b1076dfc-b9ad-4769-8c92-a6c4dae69d19",
    "_uuid": "8f2839f25d086af736a60e9eeb907d3b93b6e0e5",
    "execution": {
     "iopub.execute_input": "2021-12-23T03:26:29.758312Z",
     "iopub.status.busy": "2021-12-23T03:26:29.756343Z",
     "iopub.status.idle": "2021-12-23T03:26:29.786952Z",
     "shell.execute_reply": "2021-12-23T03:26:29.787679Z",
     "shell.execute_reply.started": "2021-12-23T03:14:45.573616Z"
    },
    "papermill": {
     "duration": 0.048111,
     "end_time": "2021-12-23T03:26:29.787983",
     "exception": false,
     "start_time": "2021-12-23T03:26:29.739872",
     "status": "completed"
    },
    "tags": []
   },
   "outputs": [
    {
     "name": "stdout",
     "output_type": "stream",
     "text": [
      "/kaggle/input/ner-dataset/ner_dataset.csv\n"
     ]
    }
   ],
   "source": [
    "# This Python 3 environment comes with many helpful analytics libraries installed\n",
    "# It is defined by the kaggle/python Docker image: https://github.com/kaggle/docker-python\n",
    "# For example, here's several helpful packages to load\n",
    "\n",
    "import numpy as np # linear algebra\n",
    "import pandas as pd # data processing, CSV file I/O (e.g. pd.read_csv)\n",
    "\n",
    "# Input data files are available in the read-only \"../input/\" directory\n",
    "# For example, running this (by clicking run or pressing Shift+Enter) will list all files under the input directory\n",
    "\n",
    "import os\n",
    "for dirname, _, filenames in os.walk('/kaggle/input'):\n",
    "    for filename in filenames:\n",
    "        print(os.path.join(dirname, filename))\n",
    "\n",
    "# You can write up to 20GB to the current directory (/kaggle/working/) that gets preserved as output when you create a version using \"Save & Run All\" \n",
    "# You can also write temporary files to /kaggle/temp/, but they won't be saved outside of the current session"
   ]
  },
  {
   "cell_type": "markdown",
   "id": "7279e7bb",
   "metadata": {},
   "source": [
    "For running and training model, please find at https://www.kaggle.com/trangdothuy/crf-for-ner"
   ]
  },
  {
   "cell_type": "code",
   "execution_count": 2,
   "id": "76c4abf6",
   "metadata": {
    "execution": {
     "iopub.execute_input": "2021-12-23T03:26:29.812481Z",
     "iopub.status.busy": "2021-12-23T03:26:29.811385Z",
     "iopub.status.idle": "2021-12-23T03:26:47.199949Z",
     "shell.execute_reply": "2021-12-23T03:26:47.199339Z",
     "shell.execute_reply.started": "2021-12-23T03:14:45.588557Z"
    },
    "papermill": {
     "duration": 17.401394,
     "end_time": "2021-12-23T03:26:47.200095",
     "exception": false,
     "start_time": "2021-12-23T03:26:29.798701",
     "status": "completed"
    },
    "tags": []
   },
   "outputs": [
    {
     "name": "stdout",
     "output_type": "stream",
     "text": [
      "Collecting plot_keras_history\r\n",
      "  Downloading plot_keras_history-1.1.30.tar.gz (8.6 kB)\r\n",
      "  Preparing metadata (setup.py) ... \u001b[?25l-\b \bdone\r\n",
      "\u001b[?25hRequirement already satisfied: matplotlib in /opt/conda/lib/python3.7/site-packages (from plot_keras_history) (3.5.0)\r\n",
      "Requirement already satisfied: pandas in /opt/conda/lib/python3.7/site-packages (from plot_keras_history) (1.3.4)\r\n",
      "Requirement already satisfied: scipy in /opt/conda/lib/python3.7/site-packages (from plot_keras_history) (1.7.2)\r\n",
      "Collecting sanitize_ml_labels>=1.0.28\r\n",
      "  Downloading sanitize_ml_labels-1.0.29.tar.gz (7.4 kB)\r\n",
      "  Preparing metadata (setup.py) ... \u001b[?25l-\b \bdone\r\n",
      "\u001b[?25hCollecting compress_json\r\n",
      "  Downloading compress_json-1.0.4.tar.gz (4.7 kB)\r\n",
      "  Preparing metadata (setup.py) ... \u001b[?25l-\b \bdone\r\n",
      "\u001b[?25hRequirement already satisfied: python-dateutil>=2.7 in /opt/conda/lib/python3.7/site-packages (from matplotlib->plot_keras_history) (2.8.0)\r\n",
      "Requirement already satisfied: fonttools>=4.22.0 in /opt/conda/lib/python3.7/site-packages (from matplotlib->plot_keras_history) (4.28.2)\r\n",
      "Requirement already satisfied: packaging>=20.0 in /opt/conda/lib/python3.7/site-packages (from matplotlib->plot_keras_history) (21.0)\r\n",
      "Requirement already satisfied: pillow>=6.2.0 in /opt/conda/lib/python3.7/site-packages (from matplotlib->plot_keras_history) (8.2.0)\r\n",
      "Requirement already satisfied: pyparsing>=2.2.1 in /opt/conda/lib/python3.7/site-packages (from matplotlib->plot_keras_history) (3.0.6)\r\n",
      "Requirement already satisfied: cycler>=0.10 in /opt/conda/lib/python3.7/site-packages (from matplotlib->plot_keras_history) (0.11.0)\r\n",
      "Requirement already satisfied: numpy>=1.17 in /opt/conda/lib/python3.7/site-packages (from matplotlib->plot_keras_history) (1.19.5)\r\n",
      "Requirement already satisfied: setuptools-scm>=4 in /opt/conda/lib/python3.7/site-packages (from matplotlib->plot_keras_history) (6.3.2)\r\n",
      "Requirement already satisfied: kiwisolver>=1.0.1 in /opt/conda/lib/python3.7/site-packages (from matplotlib->plot_keras_history) (1.3.2)\r\n",
      "Requirement already satisfied: pytz>=2017.3 in /opt/conda/lib/python3.7/site-packages (from pandas->plot_keras_history) (2021.3)\r\n",
      "Requirement already satisfied: six>=1.5 in /opt/conda/lib/python3.7/site-packages (from python-dateutil>=2.7->matplotlib->plot_keras_history) (1.16.0)\r\n",
      "Requirement already satisfied: tomli>=1.0.0 in /opt/conda/lib/python3.7/site-packages (from setuptools-scm>=4->matplotlib->plot_keras_history) (1.2.2)\r\n",
      "Requirement already satisfied: setuptools in /opt/conda/lib/python3.7/site-packages (from setuptools-scm>=4->matplotlib->plot_keras_history) (59.1.1)\r\n",
      "Building wheels for collected packages: plot-keras-history, sanitize-ml-labels, compress-json\r\n",
      "  Building wheel for plot-keras-history (setup.py) ... \u001b[?25l-\b \b\\\b \bdone\r\n",
      "\u001b[?25h  Created wheel for plot-keras-history: filename=plot_keras_history-1.1.30-py3-none-any.whl size=8793 sha256=95cd99ae22390ad38adfe920cb37cb4395c1d7b889ab1fa61e38032cc6bf94ca\r\n",
      "  Stored in directory: /root/.cache/pip/wheels/b0/60/47/8c5aa37c06be5e97879ec467bc2e6a30b315d95f662c63a503\r\n",
      "  Building wheel for sanitize-ml-labels (setup.py) ... \u001b[?25l-\b \b\\\b \bdone\r\n",
      "\u001b[?25h  Created wheel for sanitize-ml-labels: filename=sanitize_ml_labels-1.0.29-py3-none-any.whl size=7877 sha256=b349fd4c401f46002797c8cc58f75887625cd62533e9385df65cf4bc2e121c72\r\n",
      "  Stored in directory: /root/.cache/pip/wheels/c2/f5/71/d1c459da10abec864a1979b449edbf37d4a82ab3e38a3625a8\r\n",
      "  Building wheel for compress-json (setup.py) ... \u001b[?25l-\b \b\\\b \bdone\r\n",
      "\u001b[?25h  Created wheel for compress-json: filename=compress_json-1.0.4-py3-none-any.whl size=4585 sha256=ce1819a5f2c5cb5718c86273d89037b7598e816fdd38dcb903f917ad3d6acc30\r\n",
      "  Stored in directory: /root/.cache/pip/wheels/1e/ef/1e/5d403c5632b0462471a8d26049d0c138134d0255ec60ce4c14\r\n",
      "Successfully built plot-keras-history sanitize-ml-labels compress-json\r\n",
      "Installing collected packages: compress-json, sanitize-ml-labels, plot-keras-history\r\n",
      "Successfully installed compress-json-1.0.4 plot-keras-history-1.1.30 sanitize-ml-labels-1.0.29\r\n",
      "\u001b[33mWARNING: Running pip as the 'root' user can result in broken permissions and conflicting behaviour with the system package manager. It is recommended to use a virtual environment instead: https://pip.pypa.io/warnings/venv\u001b[0m\r\n"
     ]
    }
   ],
   "source": [
    "! pip install plot_keras_history"
   ]
  },
  {
   "cell_type": "code",
   "execution_count": null,
   "id": "937f1479",
   "metadata": {
    "papermill": {
     "duration": 0.017649,
     "end_time": "2021-12-23T03:26:47.235926",
     "exception": false,
     "start_time": "2021-12-23T03:26:47.218277",
     "status": "completed"
    },
    "tags": []
   },
   "outputs": [],
   "source": []
  },
  {
   "cell_type": "code",
   "execution_count": 3,
   "id": "302414d0",
   "metadata": {
    "execution": {
     "iopub.execute_input": "2021-12-23T03:26:47.280345Z",
     "iopub.status.busy": "2021-12-23T03:26:47.279432Z",
     "iopub.status.idle": "2021-12-23T03:26:53.989948Z",
     "shell.execute_reply": "2021-12-23T03:26:53.991094Z",
     "shell.execute_reply.started": "2021-12-23T03:14:52.959883Z"
    },
    "papermill": {
     "duration": 6.737601,
     "end_time": "2021-12-23T03:26:53.991375",
     "exception": false,
     "start_time": "2021-12-23T03:26:47.253774",
     "status": "completed"
    },
    "tags": []
   },
   "outputs": [],
   "source": [
    "import pickle\n",
    "import operator\n",
    "import re\n",
    "import string\n",
    "import pandas as pd\n",
    "import numpy as np\n",
    "import matplotlib.pyplot as plt\n",
    "\n",
    "from plot_keras_history import plot_history\n",
    "from sklearn.model_selection import train_test_split\n",
    "from sklearn.metrics import multilabel_confusion_matrix\n",
    "\n",
    "import tensorflow as tf \n",
    "from tensorflow import keras\n",
    "\n",
    "from keras import layers\n",
    "from keras import optimizers\n",
    "\n",
    "from keras.models import Model\n",
    "from keras.models import Input\n",
    "\n",
    "from tensorflow_addons.layers import CRF\n",
    "\n",
    "from tensorflow.keras.optimizers import Adam\n"
   ]
  },
  {
   "cell_type": "code",
   "execution_count": 4,
   "id": "b6496ec1",
   "metadata": {
    "execution": {
     "iopub.execute_input": "2021-12-23T03:26:54.065653Z",
     "iopub.status.busy": "2021-12-23T03:26:54.064589Z",
     "iopub.status.idle": "2021-12-23T03:26:55.859740Z",
     "shell.execute_reply": "2021-12-23T03:26:55.859144Z",
     "shell.execute_reply.started": "2021-12-23T03:14:52.970022Z"
    },
    "papermill": {
     "duration": 1.835292,
     "end_time": "2021-12-23T03:26:55.859895",
     "exception": false,
     "start_time": "2021-12-23T03:26:54.024603",
     "status": "completed"
    },
    "tags": []
   },
   "outputs": [
    {
     "name": "stdout",
     "output_type": "stream",
     "text": [
      "Total number of sentences in the dataset: 47,959\n",
      "Total words in the dataset: 1,048,575\n"
     ]
    }
   ],
   "source": [
    "DENSE_EMBEDDING = 50\n",
    "LSTM_UNITS = 50\n",
    "LSTM_DROPOUT = 0.1\n",
    "DENSE_UNITS = 100\n",
    "BATCH_SIZE = 256\n",
    "MAX_EPOCHS = 5\n",
    "\n",
    "MAX_SENTENCE = 128\n",
    "\n",
    "data_df = pd.read_csv(\"../input/ner-dataset/ner_dataset.csv\", encoding=\"iso-8859-1\", header=0)\n",
    "data_df = data_df.fillna(method=\"ffill\")\n",
    "data_df[\"Sentence #\"] = data_df[\"Sentence #\"].apply(lambda s: s[9:])\n",
    "data_df[\"Sentence #\"] = data_df[\"Sentence #\"].astype(\"int32\")\n",
    "\n",
    "print(\"Total number of sentences in the dataset: {:,}\".format(data_df[\"Sentence #\"].nunique()))\n",
    "print(\"Total words in the dataset: {:,}\".format(data_df.shape[0]))\n"
   ]
  },
  {
   "cell_type": "code",
   "execution_count": 5,
   "id": "b9e0e25f",
   "metadata": {
    "execution": {
     "iopub.execute_input": "2021-12-23T03:26:56.021202Z",
     "iopub.status.busy": "2021-12-23T03:26:56.013943Z",
     "iopub.status.idle": "2021-12-23T03:27:05.173516Z",
     "shell.execute_reply": "2021-12-23T03:27:05.172415Z",
     "shell.execute_reply.started": "2021-12-23T03:14:54.227617Z"
    },
    "papermill": {
     "duration": 9.29554,
     "end_time": "2021-12-23T03:27:05.173707",
     "exception": false,
     "start_time": "2021-12-23T03:26:55.878167",
     "status": "completed"
    },
    "tags": []
   },
   "outputs": [],
   "source": [
    "all_words = list(set(data_df[\"Word\"].values))\n",
    "all_tags = list(set(data_df[\"Tag\"].values))\n",
    "\n",
    "word2index = {word: idx + 2 for idx, word in enumerate(all_words)}\n",
    "word2index[\"--UNKNOWN_WORD--\"]=0\n",
    "word2index[\"--PADDING--\"]=1\n",
    "\n",
    "index2word = {idx: word for word, idx in word2index.items()}\n",
    "tag2index = {tag: idx + 1 for idx, tag in enumerate(all_tags)}\n",
    "tag2index[\"--PADDING--\"] = 0\n",
    "index2tag = {idx: word for word, idx in tag2index.items()}\n",
    "\n",
    "WORD_COUNT = len(index2word)\n",
    "\n",
    "def to_tuples(data):\n",
    "    iterator = zip(data[\"Word\"].values.tolist(),\n",
    "                   data[\"POS\"].values.tolist(),\n",
    "                   data[\"Tag\"].values.tolist())\n",
    "    return [(word, pos, tag) for word, pos, tag in iterator]\n",
    "\n",
    "sentences = data_df.groupby(\"Sentence #\").apply(to_tuples).tolist()"
   ]
  },
  {
   "cell_type": "code",
   "execution_count": 6,
   "id": "cf3fab91",
   "metadata": {
    "execution": {
     "iopub.execute_input": "2021-12-23T03:27:05.291024Z",
     "iopub.status.busy": "2021-12-23T03:27:05.270569Z",
     "iopub.status.idle": "2021-12-23T03:27:10.991030Z",
     "shell.execute_reply": "2021-12-23T03:27:10.991545Z",
     "shell.execute_reply.started": "2021-12-23T03:15:00.849910Z"
    },
    "papermill": {
     "duration": 5.799552,
     "end_time": "2021-12-23T03:27:10.991770",
     "exception": false,
     "start_time": "2021-12-23T03:27:05.192218",
     "status": "completed"
    },
    "tags": []
   },
   "outputs": [],
   "source": [
    "X = []\n",
    "for sentence in sentences:\n",
    "    text = []\n",
    "    for word in sentence:\n",
    "        text.append(word[0])\n",
    "    padded_text = text + [\"--PADDING--\"] * (MAX_SENTENCE - len(text))\n",
    "    X.append(padded_text)\n",
    "\n",
    "y = []\n",
    "for sentence in sentences:\n",
    "    tags = []\n",
    "    for word in sentence:\n",
    "        tags.append(word[2])\n",
    "    padded_tags = tags + [\"--PADDING--\"] * (MAX_SENTENCE - len(tags))\n",
    "    y.append(padded_tags)\n",
    "    \n",
    "\n",
    "X = np.array([np.array([word2index[word] for word in sentence]) for sentence in X])\n",
    "y = np.array([np.array([tag2index[tag] for tag in sentence]) for sentence in y])\n",
    "\n",
    "\n",
    "TAG_COUNT = len(tag2index)\n",
    "y = [ np.eye(TAG_COUNT)[sentence] for sentence in y]\n",
    "\n",
    "X_train, X_test, y_train, y_test = train_test_split(X, y, test_size=0.1, random_state=1234)\n",
    "\n",
    "X_train = np.stack(X_train)\n",
    "X_test = np.stack(X_test)\n",
    "y_train = np.stack(y_train)\n",
    "y_test = np.stack(y_test)"
   ]
  },
  {
   "cell_type": "code",
   "execution_count": 7,
   "id": "b1fbacf0",
   "metadata": {
    "execution": {
     "iopub.execute_input": "2021-12-23T03:27:11.037977Z",
     "iopub.status.busy": "2021-12-23T03:27:11.037337Z",
     "iopub.status.idle": "2021-12-23T03:27:15.861161Z",
     "shell.execute_reply": "2021-12-23T03:27:15.860325Z",
     "shell.execute_reply.started": "2021-12-23T03:15:50.990443Z"
    },
    "papermill": {
     "duration": 4.85016,
     "end_time": "2021-12-23T03:27:15.861366",
     "exception": false,
     "start_time": "2021-12-23T03:27:11.011206",
     "status": "completed"
    },
    "tags": []
   },
   "outputs": [
    {
     "name": "stderr",
     "output_type": "stream",
     "text": [
      "2021-12-23 03:27:11.128358: I tensorflow/stream_executor/cuda/cuda_gpu_executor.cc:937] successful NUMA node read from SysFS had negative value (-1), but there must be at least one NUMA node, so returning NUMA node zero\n",
      "2021-12-23 03:27:11.222732: I tensorflow/stream_executor/cuda/cuda_gpu_executor.cc:937] successful NUMA node read from SysFS had negative value (-1), but there must be at least one NUMA node, so returning NUMA node zero\n",
      "2021-12-23 03:27:11.223774: I tensorflow/stream_executor/cuda/cuda_gpu_executor.cc:937] successful NUMA node read from SysFS had negative value (-1), but there must be at least one NUMA node, so returning NUMA node zero\n",
      "2021-12-23 03:27:11.225354: I tensorflow/core/platform/cpu_feature_guard.cc:142] This TensorFlow binary is optimized with oneAPI Deep Neural Network Library (oneDNN) to use the following CPU instructions in performance-critical operations:  AVX2 FMA\n",
      "To enable them in other operations, rebuild TensorFlow with the appropriate compiler flags.\n",
      "2021-12-23 03:27:11.226817: I tensorflow/stream_executor/cuda/cuda_gpu_executor.cc:937] successful NUMA node read from SysFS had negative value (-1), but there must be at least one NUMA node, so returning NUMA node zero\n",
      "2021-12-23 03:27:11.227923: I tensorflow/stream_executor/cuda/cuda_gpu_executor.cc:937] successful NUMA node read from SysFS had negative value (-1), but there must be at least one NUMA node, so returning NUMA node zero\n",
      "2021-12-23 03:27:11.228900: I tensorflow/stream_executor/cuda/cuda_gpu_executor.cc:937] successful NUMA node read from SysFS had negative value (-1), but there must be at least one NUMA node, so returning NUMA node zero\n",
      "2021-12-23 03:27:13.360432: I tensorflow/stream_executor/cuda/cuda_gpu_executor.cc:937] successful NUMA node read from SysFS had negative value (-1), but there must be at least one NUMA node, so returning NUMA node zero\n",
      "2021-12-23 03:27:13.361600: I tensorflow/stream_executor/cuda/cuda_gpu_executor.cc:937] successful NUMA node read from SysFS had negative value (-1), but there must be at least one NUMA node, so returning NUMA node zero\n",
      "2021-12-23 03:27:13.362675: I tensorflow/stream_executor/cuda/cuda_gpu_executor.cc:937] successful NUMA node read from SysFS had negative value (-1), but there must be at least one NUMA node, so returning NUMA node zero\n",
      "2021-12-23 03:27:13.363620: I tensorflow/core/common_runtime/gpu/gpu_device.cc:1510] Created device /job:localhost/replica:0/task:0/device:GPU:0 with 15403 MB memory:  -> device: 0, name: Tesla P100-PCIE-16GB, pci bus id: 0000:00:04.0, compute capability: 6.0\n",
      "/opt/conda/lib/python3.7/site-packages/tensorflow/python/autograph/impl/api.py:376: UserWarning: CRF decoding models have serialization issues in TF >=2.5 . Please see isse #2476\n",
      "  return py_builtins.overload_of(f)(*args)\n"
     ]
    },
    {
     "name": "stdout",
     "output_type": "stream",
     "text": [
      "Model: \"model\"\n",
      "_________________________________________________________________\n",
      "Layer (type)                 Output Shape              Param #   \n",
      "=================================================================\n",
      "input_1 (InputLayer)         [(None, 128)]             0         \n",
      "_________________________________________________________________\n",
      "embedding (Embedding)        (None, 128, 50)           1759000   \n",
      "_________________________________________________________________\n",
      "bidirectional (Bidirectional (None, 128, 100)          40400     \n",
      "_________________________________________________________________\n",
      "time_distributed (TimeDistri (None, 128, 100)          10100     \n",
      "_________________________________________________________________\n",
      "crf (CRF)                    [(None, 128), (None, 128, 2178      \n",
      "=================================================================\n",
      "Total params: 1,811,678\n",
      "Trainable params: 1,811,678\n",
      "Non-trainable params: 0\n",
      "_________________________________________________________________\n"
     ]
    }
   ],
   "source": [
    "input_layer = layers.Input(shape=(MAX_SENTENCE,))\n",
    "\n",
    "model = layers.Embedding(WORD_COUNT, DENSE_EMBEDDING, embeddings_initializer=\"uniform\", input_length=MAX_SENTENCE)(input_layer)\n",
    "\n",
    "model = layers.Bidirectional(layers.LSTM(LSTM_UNITS, recurrent_dropout=LSTM_DROPOUT, return_sequences=True))(model)\n",
    "\n",
    "model = layers.TimeDistributed(layers.Dense(DENSE_UNITS, activation=\"relu\"))(model)\n",
    "\n",
    "crf_layer = CRF(units=TAG_COUNT)\n",
    "_, output_layer, _, _  = crf_layer(model)\n",
    "\n",
    "ner_model = Model(input_layer, output_layer)\n",
    "\n",
    "ner_model.compile(loss=\"categorical_crossentropy\", optimizer=\"Adam\", metrics=[\"accuracy\"])\n",
    "\n",
    "ner_model.summary()"
   ]
  },
  {
   "cell_type": "code",
   "execution_count": 8,
   "id": "1a3436b5",
   "metadata": {
    "execution": {
     "iopub.execute_input": "2021-12-23T03:27:15.907668Z",
     "iopub.status.busy": "2021-12-23T03:27:15.906506Z",
     "iopub.status.idle": "2021-12-23T03:45:21.147266Z",
     "shell.execute_reply": "2021-12-23T03:45:21.147890Z",
     "shell.execute_reply.started": "2021-12-23T03:19:25.305660Z"
    },
    "papermill": {
     "duration": 1085.266312,
     "end_time": "2021-12-23T03:45:21.148082",
     "exception": false,
     "start_time": "2021-12-23T03:27:15.881770",
     "status": "completed"
    },
    "tags": []
   },
   "outputs": [
    {
     "name": "stderr",
     "output_type": "stream",
     "text": [
      "2021-12-23 03:27:16.802244: I tensorflow/compiler/mlir/mlir_graph_optimization_pass.cc:185] None of the MLIR Optimization Passes are enabled (registered 2)\n"
     ]
    },
    {
     "name": "stdout",
     "output_type": "stream",
     "text": [
      "Epoch 1/5\n",
      "152/152 [==============================] - 217s 1s/step - loss: 14.6939 - accuracy: 0.1435 - val_loss: 14.8854 - val_accuracy: 0.1441\n",
      "Epoch 2/5\n",
      "152/152 [==============================] - 212s 1s/step - loss: 14.7843 - accuracy: 0.1447 - val_loss: 14.9816 - val_accuracy: 0.1441\n",
      "Epoch 3/5\n",
      "152/152 [==============================] - 211s 1s/step - loss: 14.5236 - accuracy: 0.1447 - val_loss: 14.5805 - val_accuracy: 0.1441\n",
      "Epoch 4/5\n",
      "152/152 [==============================] - 210s 1s/step - loss: 14.5124 - accuracy: 0.1447 - val_loss: 14.4807 - val_accuracy: 0.1441\n",
      "Epoch 5/5\n",
      "152/152 [==============================] - 212s 1s/step - loss: nan - accuracy: 0.1930 - val_loss: nan - val_accuracy: 0.8298\n"
     ]
    },
    {
     "name": "stderr",
     "output_type": "stream",
     "text": [
      "/opt/conda/lib/python3.7/site-packages/tensorflow/python/autograph/impl/api.py:376: UserWarning: CRF decoding models have serialization issues in TF >=2.5 . Please see isse #2476\n",
      "  return py_builtins.overload_of(f)(*args)\n"
     ]
    },
    {
     "name": "stdout",
     "output_type": "stream",
     "text": [
      "Accuracy: 0.8287/\n"
     ]
    },
    {
     "data": {
      "image/png": "[encoded data removed]",
      "text/plain": [
       "<Figure size 360x360 with 1 Axes>"
      ]
     },
     "metadata": {
      "needs_background": "light"
     },
     "output_type": "display_data"
    }
   ],
   "source": [
    "history = ner_model.fit(X_train, y_train, batch_size=BATCH_SIZE, epochs=MAX_EPOCHS, validation_split=0.1)\n",
    "\n",
    "plot_history(history.history)\n",
    "\n",
    "y_pred = ner_model.predict(X_test)\n",
    "\n",
    "y_pred = np.argmax(y_pred, axis=2)\n",
    "\n",
    "y_test = np.argmax(y_test, axis=2)\n",
    "\n",
    "accuracy = (y_pred == y_test).mean()\n",
    "\n",
    "print(\"Accuracy: {:.4f}/\".format(accuracy))"
   ]
  },
  {
   "cell_type": "code",
   "execution_count": 9,
   "id": "4122fa95",
   "metadata": {
    "execution": {
     "iopub.execute_input": "2021-12-23T03:45:21.738446Z",
     "iopub.status.busy": "2021-12-23T03:45:21.735352Z",
     "iopub.status.idle": "2021-12-23T03:45:21.975693Z",
     "shell.execute_reply": "2021-12-23T03:45:21.976349Z",
     "shell.execute_reply.started": "2021-12-23T03:15:06.331183Z"
    },
    "papermill": {
     "duration": 0.540167,
     "end_time": "2021-12-23T03:45:21.976565",
     "exception": false,
     "start_time": "2021-12-23T03:45:21.436398",
     "status": "completed"
    },
    "tags": []
   },
   "outputs": [
    {
     "name": "stdout",
     "output_type": "stream",
     "text": [
      "Tag name: I-art\n",
      "[[613854      0]\n",
      " [    34      0]]\n",
      "Tag accuracy: 1.000 \n",
      "\n",
      "Tag name: B-per\n",
      "[[612263      0]\n",
      " [  1625      0]]\n",
      "Tag accuracy: 0.997 \n",
      "\n",
      "President      : --PADDING--\n",
      "Obama          : --PADDING--\n",
      "became         : --PADDING--\n",
      "the            : --PADDING--\n",
      "first          : --PADDING--\n",
      "sitting        : --PADDING--\n",
      "American       : --PADDING--\n",
      "president      : --PADDING--\n",
      "to             : --PADDING--\n",
      "visit          : --PADDING--\n",
      "Hiroshima      : --PADDING--\n",
      "\n"
     ]
    }
   ],
   "source": [
    "def tag_conf_matrix(cm, tagid):\n",
    "    tag_name = index2tag[tagid]\n",
    "    print(\"Tag name: {}\".format(tag_name))\n",
    "    print(cm[tagid])\n",
    "    tn, fp, fn, tp = cm[tagid].ravel()\n",
    "    tag_acc = (tp + tn) / (tn + fp + fn + tp)\n",
    "    print(\"Tag accuracy: {:.3f} \\n\".format(tag_acc))\n",
    "\n",
    "matrix = multilabel_confusion_matrix(y_test.flatten(), y_pred.flatten())\n",
    "\n",
    "tag_conf_matrix(matrix, 8)\n",
    "tag_conf_matrix(matrix, 14)\n",
    "\n",
    "sentence = \"President Obama became the first sitting American president to visit Hiroshima\"\n",
    "\n",
    "re_tok = re.compile(f\"([{string.punctuation}“”¨«»®´·º½¾¿¡§£₤‘’])\")\n",
    "sentence = re_tok.sub(r\"  \", sentence).split()\n",
    "\n",
    "padded_sentence = sentence + [word2index[\"--PADDING--\"]] * (MAX_SENTENCE - len(sentence))\n",
    "padded_sentence = [word2index.get(w, 0) for w in padded_sentence]\n",
    "\n",
    "pred = ner_model.predict(np.array([padded_sentence]))\n",
    "pred = np.argmax(pred, axis=-1)\n",
    "\n",
    "retval = \"\"\n",
    "for w, p in zip(sentence, pred[0]):\n",
    "    retval = retval + \"{:15}: {:5}\".format(w, index2tag[p]) + \"\\n\"\n",
    "print(retval)"
   ]
  }
 ],
 "metadata": {
  "kernelspec": {
   "display_name": "Python 3",
   "language": "python",
   "name": "python3"
  },
  "language_info": {
   "codemirror_mode": {
    "name": "ipython",
    "version": 3
   },
   "file_extension": ".py",
   "mimetype": "text/x-python",
   "name": "python",
   "nbconvert_exporter": "python",
   "pygments_lexer": "ipython3",
   "version": "3.7.12"
  },
  "papermill": {
   "default_parameters": {},
   "duration": 1145.652078,
   "end_time": "2021-12-23T03:45:25.438145",
   "environment_variables": {},
   "exception": null,
   "input_path": "__notebook__.ipynb",
   "output_path": "__notebook__.ipynb",
   "parameters": {},
   "start_time": "2021-12-23T03:26:19.786067",
   "version": "2.3.3"
  }
 },
 "nbformat": 4,
 "nbformat_minor": 5
}
