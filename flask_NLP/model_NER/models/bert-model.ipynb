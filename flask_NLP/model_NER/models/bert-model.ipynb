{
 "cells": [
  {
   "cell_type": "code",
   "execution_count": 1,
   "id": "0914e9e8",
   "metadata": {
    "_cell_guid": "b1076dfc-b9ad-4769-8c92-a6c4dae69d19",
    "_uuid": "8f2839f25d086af736a60e9eeb907d3b93b6e0e5",
    "execution": {
     "iopub.execute_input": "2021-12-13T06:57:50.617761Z",
     "iopub.status.busy": "2021-12-13T06:57:50.609917Z",
     "iopub.status.idle": "2021-12-13T06:57:50.635744Z",
     "shell.execute_reply": "2021-12-13T06:57:50.636285Z",
     "shell.execute_reply.started": "2021-12-13T04:54:26.769680Z"
    },
    "papermill": {
     "duration": 0.038633,
     "end_time": "2021-12-13T06:57:50.636682",
     "exception": false,
     "start_time": "2021-12-13T06:57:50.598049",
     "status": "completed"
    },
    "tags": []
   },
   "outputs": [
    {
     "name": "stdout",
     "output_type": "stream",
     "text": [
      "/kaggle/input/ner-dataset/ner_dataset.csv\n",
      "/kaggle/input/bert-base-uncased/config.json\n",
      "/kaggle/input/bert-base-uncased/pytorch_model.bin\n",
      "/kaggle/input/bert-base-uncased/vocab.txt\n"
     ]
    }
   ],
   "source": [
    "# This Python 3 environment comes with many helpful analytics libraries installed\n",
    "# It is defined by the kaggle/python Docker image: https://github.com/kaggle/docker-python\n",
    "# For example, here's several helpful packages to load\n",
    "\n",
    "import numpy as np # linear algebra\n",
    "import pandas as pd # data processing, CSV file I/O (e.g. pd.read_csv)\n",
    "\n",
    "# Input data files are available in the read-only \"../input/\" directory\n",
    "# For example, running this (by clicking run or pressing Shift+Enter) will list all files under the input directory\n",
    "\n",
    "import os\n",
    "for dirname, _, filenames in os.walk('/kaggle/input'):\n",
    "    for filename in filenames:\n",
    "        print(os.path.join(dirname, filename))\n",
    "\n",
    "# You can write up to 20GB to the current directory (/kaggle/working/) that gets preserved as output when you create a version using \"Save & Run All\" \n",
    "# You can also write temporary files to /kaggle/temp/, but they won't be saved outside of the current session"
   ]
  },
  {
   "cell_type": "markdown",
   "id": "fab91bd6",
   "metadata": {},
   "source": [
    "For the running and training model, please find at https://www.kaggle.com/trangdothuy/ner-bert-model"
   ]
  },
  {
   "cell_type": "code",
   "execution_count": 2,
   "id": "3afa56b5",
   "metadata": {
    "execution": {
     "iopub.execute_input": "2021-12-13T06:57:50.657270Z",
     "iopub.status.busy": "2021-12-13T06:57:50.656771Z",
     "iopub.status.idle": "2021-12-13T06:57:56.904003Z",
     "shell.execute_reply": "2021-12-13T06:57:56.903075Z",
     "shell.execute_reply.started": "2021-12-13T04:54:26.817423Z"
    },
    "papermill": {
     "duration": 6.258255,
     "end_time": "2021-12-13T06:57:56.904143",
     "exception": false,
     "start_time": "2021-12-13T06:57:50.645888",
     "status": "completed"
    },
    "tags": []
   },
   "outputs": [],
   "source": [
    "import torch\n",
    "import torch.nn as nn\n",
    "from tqdm import tqdm\n",
    "import transformers \n",
    "\n",
    "import pandas as pd\n",
    "import numpy as np \n",
    "\n",
    "import joblib\n",
    "\n",
    "\n",
    "from sklearn import preprocessing\n",
    "from sklearn import model_selection\n",
    "\n",
    "from transformers import AdamW\n",
    "from transformers import get_linear_schedule_with_warmup"
   ]
  },
  {
   "cell_type": "code",
   "execution_count": 3,
   "id": "6b49e4df",
   "metadata": {
    "execution": {
     "iopub.execute_input": "2021-12-13T06:57:56.924223Z",
     "iopub.status.busy": "2021-12-13T06:57:56.923594Z",
     "iopub.status.idle": "2021-12-13T06:57:58.153186Z",
     "shell.execute_reply": "2021-12-13T06:57:58.152218Z",
     "shell.execute_reply.started": "2021-12-13T04:54:32.977342Z"
    },
    "papermill": {
     "duration": 1.241897,
     "end_time": "2021-12-13T06:57:58.153362",
     "exception": false,
     "start_time": "2021-12-13T06:57:56.911465",
     "status": "completed"
    },
    "tags": []
   },
   "outputs": [],
   "source": [
    "class Config:\n",
    "    def __init__(self):\n",
    "        self.MAX_LEN = 128\n",
    "        self.TRAIN_BATCH_SIZE = 8\n",
    "        self.VALID_BATCH_SIZE = 8\n",
    "        self.EPOCHS = 5\n",
    "        self.BASE_MODEL_PATH = \"../input/bert-base-uncased\"\n",
    "        self.MODEL_PATH = \"./model.bin\"\n",
    "        self.TRAINING_FILE = \"../input/ner-dataset/ner_dataset.csv\"\n",
    "        self.TOKENIZER = transformers.BertTokenizer.from_pretrained(\n",
    "                self.BASE_MODEL_PATH,\n",
    "                do_lower_case=True\n",
    "            )\n",
    "config = Config()"
   ]
  },
  {
   "cell_type": "code",
   "execution_count": 4,
   "id": "bba638f1",
   "metadata": {
    "execution": {
     "iopub.execute_input": "2021-12-13T06:57:58.183833Z",
     "iopub.status.busy": "2021-12-13T06:57:58.182292Z",
     "iopub.status.idle": "2021-12-13T06:57:58.184420Z",
     "shell.execute_reply": "2021-12-13T06:57:58.184814Z",
     "shell.execute_reply.started": "2021-12-13T04:54:34.153751Z"
    },
    "papermill": {
     "duration": 0.023966,
     "end_time": "2021-12-13T06:57:58.184943",
     "exception": false,
     "start_time": "2021-12-13T06:57:58.160977",
     "status": "completed"
    },
    "tags": []
   },
   "outputs": [],
   "source": [
    "class EntityDataset:\n",
    "    def __init__(self,texts,tags):\n",
    "        # texts: [[\"hi\",\",\",\"I\",\"am\",\"learning\"],[\"hello\",\" \",\"nice\",\"to\",\"meet\",\"you\"]]\n",
    "        # pos/tags: [[1 2 3 4 5],[2 3 4 5 6]]\n",
    "        self.texts = texts\n",
    "        self.tags = tags\n",
    "\n",
    "    def __len__(self):\n",
    "        return len(self.texts)\n",
    "    def __getitem__(self,item):\n",
    "        text = self.texts[item]\n",
    "        tags = self.tags[item]\n",
    "\n",
    "\n",
    "        ids = []\n",
    "        target_tag = tags\n",
    "        valid_mask = []\n",
    "\n",
    "        for i,s in enumerate(text):\n",
    "            inputs = config.TOKENIZER.tokenize(s)\n",
    "            for j,token in enumerate(inputs):\n",
    "                if j == 0:\n",
    "                    valid_mask.append(1)\n",
    "                else:\n",
    "                    valid_mask.append(0)\n",
    "            # hello: he ##llo\n",
    "            ids.extend(inputs)\n",
    "            \n",
    "        ids = config.TOKENIZER.convert_tokens_to_ids(ids)\n",
    "        ids = ids[:config.MAX_LEN -2]\n",
    "        valid_mask = valid_mask[:config.MAX_LEN -2]\n",
    "        target_tag = target_tag[:config.MAX_LEN -2]\n",
    "\n",
    "        mask = [1]*len(ids)\n",
    "\n",
    "        ids = [101] + ids + [102]\n",
    "        target_tag = [0] + target_tag + [0]\n",
    "        valid_mask = [1] + valid_mask + [1]\n",
    "        mask = [0]+mask+[0]\n",
    "\n",
    "        token_type_ids = [0]*config.MAX_LEN\n",
    "\n",
    "        padding_len = config.MAX_LEN - len(ids)\n",
    "\n",
    "        ids = ids + [0]*padding_len\n",
    "        mask = mask + [0]*padding_len\n",
    "        valid_mask = valid_mask + [0]*padding_len\n",
    "        \n",
    "        other_padding_len = config.MAX_LEN - len(target_tag)\n",
    "        target_tag = target_tag + [0]*other_padding_len\n",
    "\n",
    "        assert len(ids) == config.MAX_LEN \n",
    "        assert len(mask) == config.MAX_LEN \n",
    "        assert len(token_type_ids) == config.MAX_LEN \n",
    "        assert len(target_tag) == config.MAX_LEN \n",
    "        assert len(valid_mask) == config.MAX_LEN \n",
    "\n",
    "        return {\n",
    "            \"ids\":torch.tensor(ids, dtype=torch.long),\n",
    "            \"mask\":torch.tensor(mask, dtype=torch.long),\n",
    "            \"token_type_ids\":torch.tensor(token_type_ids, dtype=torch.long),\n",
    "            \"target_tag\":torch.tensor(target_tag, dtype=torch.long),\n",
    "            \"valid_mask\":torch.tensor(valid_mask, dtype=torch.long)\n",
    "        }"
   ]
  },
  {
   "cell_type": "code",
   "execution_count": 5,
   "id": "061430b0",
   "metadata": {
    "execution": {
     "iopub.execute_input": "2021-12-13T06:57:58.210710Z",
     "iopub.status.busy": "2021-12-13T06:57:58.203274Z",
     "iopub.status.idle": "2021-12-13T06:57:58.212668Z",
     "shell.execute_reply": "2021-12-13T06:57:58.213084Z",
     "shell.execute_reply.started": "2021-12-13T04:54:34.172438Z"
    },
    "papermill": {
     "duration": 0.021027,
     "end_time": "2021-12-13T06:57:58.213212",
     "exception": false,
     "start_time": "2021-12-13T06:57:58.192185",
     "status": "completed"
    },
    "tags": []
   },
   "outputs": [],
   "source": [
    "def train_fn(data_loader,model, optimizer, device, scheduler):\n",
    "    model.train()\n",
    "    final_loss = 0\n",
    "    final_accuracy = 0\n",
    "    for data in tqdm(data_loader,total=len(data_loader)):\n",
    "        for k,v in data.items():\n",
    "            data[k] = v.to(device)\n",
    "        optimizer.zero_grad()\n",
    "        _,loss,accuracy_score = model(**data)\n",
    "        loss.backward()\n",
    "        optimizer.step()\n",
    "        scheduler.step()\n",
    "        final_loss += loss.item()\n",
    "        final_accuracy += accuracy_score\n",
    "    return final_loss/len(data_loader), final_accuracy/len(data_loader)\n",
    "\n",
    "def eval_fn(data_loader,model, device):\n",
    "    model.eval()\n",
    "    final_loss = 0\n",
    "    final_accuracy = 0\n",
    "    for data in tqdm(data_loader,total=len(data_loader)):\n",
    "        for k,v in data.items():\n",
    "            data[k] = v.to(device)\n",
    "        _,loss,accuracy_score = model(**data)\n",
    "        final_loss += loss.item()\n",
    "        final_accuracy += accuracy_score\n",
    "    return final_loss/len(data_loader), final_accuracy/len(data_loader)"
   ]
  },
  {
   "cell_type": "code",
   "execution_count": 6,
   "id": "2dd73cd4",
   "metadata": {
    "execution": {
     "iopub.execute_input": "2021-12-13T06:57:58.239246Z",
     "iopub.status.busy": "2021-12-13T06:57:58.238516Z",
     "iopub.status.idle": "2021-12-13T06:57:58.240502Z",
     "shell.execute_reply": "2021-12-13T06:57:58.240875Z",
     "shell.execute_reply.started": "2021-12-13T04:58:38.371168Z"
    },
    "papermill": {
     "duration": 0.020215,
     "end_time": "2021-12-13T06:57:58.241000",
     "exception": false,
     "start_time": "2021-12-13T06:57:58.220785",
     "status": "completed"
    },
    "tags": []
   },
   "outputs": [],
   "source": [
    "def loss_fn(output,target,mask, num_lables):\n",
    "    lfn = nn.CrossEntropyLoss()\n",
    "    active_loss = mask.view(-1) == 1\n",
    "    active_logits = output.view(-1,num_lables)\n",
    "    active_labels = torch.where(\n",
    "        active_loss,\n",
    "        target.view(-1),\n",
    "        torch.tensor(lfn.ignore_index).type_as(target)\n",
    "    )\n",
    "    loss = lfn(active_logits,active_labels)\n",
    "    return loss\n",
    "\n",
    "def accuracy_fn(output,target,mask):\n",
    "    output = output.argmax(2)\n",
    "    real_output = torch.flatten(mask*output)\n",
    "    real_target = torch.flatten(mask*target)\n",
    "    score = 0.0\n",
    "    total = 0\n",
    "    for i in range(len(real_target)):\n",
    "        if real_target[i] !=0:\n",
    "            total += 1\n",
    "            if real_target[i] == real_output[i]:\n",
    "                score +=1\n",
    "    return score/total\n",
    "\n",
    "\n",
    "class EntityModel(nn.Module):\n",
    "    def __init__(self, num_tag):\n",
    "        super(EntityModel, self).__init__()\n",
    "        self.num_tag = num_tag\n",
    "        self.bert = transformers.BertModel.from_pretrained(config.BASE_MODEL_PATH,return_dict=False)\n",
    "        self.bert_drop_1 = nn.Dropout(0.3)\n",
    "        self.out_tag = nn.Linear(768,self.num_tag)\n",
    "\n",
    "\n",
    "    def forward(self,ids,mask,token_type_ids,target_tag,valid_mask):\n",
    "        o1, _ = self.bert(ids,attention_mask=mask,token_type_ids=token_type_ids)\n",
    "        bo_tag = self.bert_drop_1(o1)\n",
    "        tag = self.out_tag(bo_tag)\n",
    "        tag, mask = valid_sequence_output(tag,valid_mask,mask)\n",
    "        loss = loss_fn(tag,target_tag,mask,self.num_tag)\n",
    "        accuracy_score = accuracy_fn(tag,target_tag,mask)\n",
    "        return tag,loss,accuracy_score\n",
    "\n",
    "\n",
    "\n",
    "\n"
   ]
  },
  {
   "cell_type": "code",
   "execution_count": 7,
   "id": "d53d98f2",
   "metadata": {
    "execution": {
     "iopub.execute_input": "2021-12-13T06:57:58.262167Z",
     "iopub.status.busy": "2021-12-13T06:57:58.261472Z",
     "iopub.status.idle": "2021-12-13T06:57:58.263424Z",
     "shell.execute_reply": "2021-12-13T06:57:58.263834Z",
     "shell.execute_reply.started": "2021-12-13T04:54:34.209026Z"
    },
    "papermill": {
     "duration": 0.015991,
     "end_time": "2021-12-13T06:57:58.263951",
     "exception": false,
     "start_time": "2021-12-13T06:57:58.247960",
     "status": "completed"
    },
    "tags": []
   },
   "outputs": [],
   "source": [
    "def valid_sequence_output(sequence_output, valid_mask, attention_mask): # convert token back to word\n",
    "\n",
    "    batch_size, max_len, feat_dim = sequence_output.shape\n",
    "    valid_output = torch.zeros(batch_size, max_len, feat_dim, dtype = torch.float,\n",
    "                                device='cuda' if torch.cuda.is_available() else 'cpu')\n",
    "    valid_attention_mask = torch.zeros(batch_size, max_len, dtype = torch.float,\n",
    "                                device='cuda' if torch.cuda.is_available() else 'cpu')\n",
    "\n",
    "\n",
    "    for i in range(batch_size):\n",
    "        jj = -1\n",
    "        for j in range(max_len):\n",
    "            if valid_mask[i][j].item() == 1:\n",
    "                jj += 1\n",
    "                valid_output[i][jj] = sequence_output[i][j]*attention_mask[i][j]\n",
    "                valid_attention_mask[i][jj] = attention_mask[i][j]\n",
    "\n",
    "    return valid_output, valid_attention_mask"
   ]
  },
  {
   "cell_type": "code",
   "execution_count": 8,
   "id": "e8b33bb3",
   "metadata": {
    "execution": {
     "iopub.execute_input": "2021-12-13T06:57:58.281210Z",
     "iopub.status.busy": "2021-12-13T06:57:58.280303Z",
     "iopub.status.idle": "2021-12-13T08:47:43.234455Z",
     "shell.execute_reply": "2021-12-13T08:47:43.234872Z",
     "shell.execute_reply.started": "2021-12-13T04:58:44.482881Z"
    },
    "papermill": {
     "duration": 6584.963991,
     "end_time": "2021-12-13T08:47:43.235029",
     "exception": false,
     "start_time": "2021-12-13T06:57:58.271038",
     "status": "completed"
    },
    "tags": []
   },
   "outputs": [
    {
     "name": "stderr",
     "output_type": "stream",
     "text": [
      "/opt/conda/lib/python3.7/site-packages/torch/utils/data/dataloader.py:481: UserWarning: This DataLoader will create 4 worker processes in total. Our suggested max number of worker in current system is 2, which is smaller than what this DataLoader is going to create. Please be aware that excessive worker creation might get DataLoader running slow or even freeze, lower the worker number to avoid potential slowness/freeze if necessary.\n",
      "  cpuset_checked))\n",
      "Some weights of the model checkpoint at ../input/bert-base-uncased were not used when initializing BertModel: ['cls.predictions.decoder.weight', 'cls.seq_relationship.bias', 'cls.predictions.transform.dense.weight', 'cls.predictions.transform.LayerNorm.bias', 'cls.predictions.transform.dense.bias', 'cls.predictions.transform.LayerNorm.weight', 'cls.predictions.bias', 'cls.seq_relationship.weight']\n",
      "- This IS expected if you are initializing BertModel from the checkpoint of a model trained on another task or with another architecture (e.g. initializing a BertForSequenceClassification model from a BertForPreTraining model).\n",
      "- This IS NOT expected if you are initializing BertModel from the checkpoint of a model that you expect to be exactly identical (initializing a BertForSequenceClassification model from a BertForSequenceClassification model).\n",
      "100%|██████████| 5396/5396 [20:29<00:00,  4.39it/s]\n",
      "100%|██████████| 600/600 [01:08<00:00,  8.73it/s]\n"
     ]
    },
    {
     "name": "stdout",
     "output_type": "stream",
     "text": [
      "Train loss = 0.14828284037911477 Valid loss = 0.11032563085202128 \n",
      "Train accuracy = 0.9577647240863649 Valid accuracy = 0.9669378639908852 \n"
     ]
    },
    {
     "name": "stderr",
     "output_type": "stream",
     "text": [
      "100%|██████████| 5396/5396 [20:47<00:00,  4.32it/s]\n",
      "100%|██████████| 600/600 [01:11<00:00,  8.34it/s]\n"
     ]
    },
    {
     "name": "stdout",
     "output_type": "stream",
     "text": [
      "Train loss = 0.0887160514691457 Valid loss = 0.10306722436333075 \n",
      "Train accuracy = 0.9717434213362232 Valid accuracy = 0.969253397322971 \n"
     ]
    },
    {
     "name": "stderr",
     "output_type": "stream",
     "text": [
      "100%|██████████| 5396/5396 [20:47<00:00,  4.32it/s]\n",
      "100%|██████████| 600/600 [01:09<00:00,  8.61it/s]\n"
     ]
    },
    {
     "name": "stdout",
     "output_type": "stream",
     "text": [
      "Train loss = 0.06107330893135426 Valid loss = 0.11108806977863424 \n",
      "Train accuracy = 0.9798689126053608 Valid accuracy = 0.9693798444612899 \n"
     ]
    },
    {
     "name": "stderr",
     "output_type": "stream",
     "text": [
      "100%|██████████| 5396/5396 [20:37<00:00,  4.36it/s]\n",
      "100%|██████████| 600/600 [01:10<00:00,  8.53it/s]\n"
     ]
    },
    {
     "name": "stdout",
     "output_type": "stream",
     "text": [
      "Train loss = 0.04180912206113089 Valid loss = 0.12080193618836348 \n",
      "Train accuracy = 0.9859815984289952 Valid accuracy = 0.9685225265075691 \n"
     ]
    },
    {
     "name": "stderr",
     "output_type": "stream",
     "text": [
      "100%|██████████| 5396/5396 [20:52<00:00,  4.31it/s]\n",
      "100%|██████████| 600/600 [01:11<00:00,  8.41it/s]"
     ]
    },
    {
     "name": "stdout",
     "output_type": "stream",
     "text": [
      "Train loss = 0.029854682460441307 Valid loss = 0.130639520433906 \n",
      "Train accuracy = 0.9899851181249356 Valid accuracy = 0.9694952657440757 \n"
     ]
    },
    {
     "name": "stderr",
     "output_type": "stream",
     "text": [
      "\n"
     ]
    }
   ],
   "source": [
    "\n",
    "def process_data(data_path):\n",
    "    df = pd.read_csv(data_path,encoding='latin-1')\n",
    "    df.loc[:,\"Sentence #\"] = df[\"Sentence #\"].fillna(method=\"ffill\")\n",
    "\n",
    "    \n",
    "    enc_tag = preprocessing.LabelEncoder()\n",
    "    tag_list = list(df[\"Tag\"])\n",
    "    tag_list.insert(0,\"0\")\n",
    "    \n",
    "    enc_tag.fit(tag_list)\n",
    "    df.loc[:,\"Tag\"] = enc_tag.transform(df[\"Tag\"])\n",
    "\n",
    "    sentences = df.groupby(\"Sentence #\")[\"Word\"].apply(list).values \n",
    "    tag = df.groupby(\"Sentence #\")[\"Tag\"].apply(list).values\n",
    "\n",
    "    return sentences, tag, enc_tag\n",
    "\n",
    "\n",
    "if __name__ == '__main__':\n",
    "    sentences, tag, enc_tag = process_data(config.TRAINING_FILE)\n",
    "    \n",
    "    meta_data = {\n",
    "        \"enc_tag\": enc_tag\n",
    "    }\n",
    "\n",
    "    joblib.dump(meta_data,\"meta.bin\")\n",
    "\n",
    "    num_tag = len(list(enc_tag.classes_))\n",
    "\n",
    "    (\n",
    "        train_sentences, \n",
    "        test_sentences, \n",
    "        train_tag,\n",
    "        test_tag\n",
    "     ) = model_selection.train_test_split(sentences,tag,random_state = 42,test_size = 0.1)\n",
    "\n",
    "    train_dataset = EntityDataset(texts = train_sentences, tags =train_tag)\n",
    "    valid_dataset = EntityDataset(texts = test_sentences, tags = test_tag)\n",
    "\n",
    "    train_data_loader = torch.utils.data.DataLoader(train_dataset,batch_size=config.TRAIN_BATCH_SIZE,num_workers = 4)\n",
    "    valid_data_loader = torch.utils.data.DataLoader(valid_dataset,batch_size=config.VALID_BATCH_SIZE,num_workers=1)\n",
    "\n",
    "    device = torch.device(\"cuda\")\n",
    "    model = EntityModel(num_tag = num_tag)\n",
    "    model.to(device)\n",
    "\n",
    "\n",
    "    # print(\"========================================\")\n",
    "    # print(summary(model,\n",
    "    #  torch.ones(8,128,dtype = torch.long,device='cuda'),\n",
    "    #  torch.ones(8,128,dtype = torch.long,device='cuda'),\n",
    "    #  torch.ones(8,128,dtype = torch.long,device='cuda'),\n",
    "    #  torch.ones(8,128,dtype = torch.long,device='cuda'),\n",
    "    #  torch.ones(8,128,dtype = torch.long,device='cuda'),\n",
    "    #  torch.ones(8,128,dtype = torch.long,device='cuda')\n",
    "    #  ))\n",
    "\n",
    "    param_optimizer = list(model.named_parameters())\n",
    "    no_decay = [\"bias\",\"LayerNorm.bias\",\"LayerNorm.weight\"]\n",
    "    optimizer_parameters = [{\n",
    "        \"params\":[p for n,p in param_optimizer if not any(nd in n for nd in no_decay)],\n",
    "        \"weight_decay\":0.001,\n",
    "    },{\n",
    "        \"params\":[p for n,p in param_optimizer if any(nd in n for nd in no_decay)],\n",
    "        \"weight_decay\":0.0,\n",
    "    }]\n",
    "    num_train_steps = int(len(train_sentences)/config.TRAIN_BATCH_SIZE*config.EPOCHS)\n",
    "    optimizer = AdamW(optimizer_parameters,lr=3e-5)\n",
    "    scheduler = get_linear_schedule_with_warmup(\n",
    "        optimizer,num_warmup_steps=0,num_training_steps=num_train_steps\n",
    "    )\n",
    "\n",
    "    best_loss = np.inf\n",
    "    for epoch in range(config.EPOCHS):\n",
    "        train_loss, train_accuracy = train_fn(train_data_loader,model,optimizer,device, scheduler)\n",
    "        test_loss, test_accuracy = eval_fn(valid_data_loader,model,device)\n",
    "        print(f\"Train loss = {train_loss} Valid loss = {test_loss} \")\n",
    "        print(f\"Train accuracy = {train_accuracy} Valid accuracy = {test_accuracy} \")\n",
    "        if test_loss < best_loss:\n",
    "            torch.save(model.state_dict(),config.MODEL_PATH)\n",
    "            best_loss = test_loss\n"
   ]
  }
 ],
 "metadata": {
  "kernelspec": {
   "display_name": "Python 3",
   "language": "python",
   "name": "python3"
  },
  "language_info": {
   "codemirror_mode": {
    "name": "ipython",
    "version": 3
   },
   "file_extension": ".py",
   "mimetype": "text/x-python",
   "name": "python",
   "nbconvert_exporter": "python",
   "pygments_lexer": "ipython3",
   "version": "3.7.12"
  },
  "papermill": {
   "default_parameters": {},
   "duration": 6612.790727,
   "end_time": "2021-12-13T08:47:54.597761",
   "environment_variables": {},
   "exception": null,
   "input_path": "__notebook__.ipynb",
   "output_path": "__notebook__.ipynb",
   "parameters": {},
   "start_time": "2021-12-13T06:57:41.807034",
   "version": "2.3.3"
  }
 },
 "nbformat": 4,
 "nbformat_minor": 5
}
