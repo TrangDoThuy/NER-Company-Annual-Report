{
 "cells": [
  {
   "cell_type": "code",
   "execution_count": 1,
   "id": "95bb6694",
   "metadata": {
    "_cell_guid": "b1076dfc-b9ad-4769-8c92-a6c4dae69d19",
    "_uuid": "8f2839f25d086af736a60e9eeb907d3b93b6e0e5",
    "execution": {
     "iopub.execute_input": "2021-12-23T01:44:27.100976Z",
     "iopub.status.busy": "2021-12-23T01:44:27.098023Z",
     "iopub.status.idle": "2021-12-23T01:44:27.131367Z",
     "shell.execute_reply": "2021-12-23T01:44:27.132551Z",
     "shell.execute_reply.started": "2021-12-23T01:23:59.34615Z"
    },
    "papermill": {
     "duration": 0.059341,
     "end_time": "2021-12-23T01:44:27.132885",
     "exception": false,
     "start_time": "2021-12-23T01:44:27.073544",
     "status": "completed"
    },
    "tags": []
   },
   "outputs": [
    {
     "name": "stdout",
     "output_type": "stream",
     "text": [
      "/kaggle/input/ner-dataset/ner_dataset.csv\n",
      "/kaggle/input/bert-base-uncased/config.json\n",
      "/kaggle/input/bert-base-uncased/pytorch_model.bin\n",
      "/kaggle/input/bert-base-uncased/vocab.txt\n",
      "/kaggle/input/glove-emb/glove.6B.100d.txt\n"
     ]
    }
   ],
   "source": [
    "# This Python 3 environment comes with many helpful analytics libraries installed\n",
    "# It is defined by the kaggle/python Docker image: https://github.com/kaggle/docker-python\n",
    "# For example, here's several helpful packages to load\n",
    "\n",
    "import numpy as np # linear algebra\n",
    "import pandas as pd # data processing, CSV file I/O (e.g. pd.read_csv)\n",
    "\n",
    "# Input data files are available in the read-only \"../input/\" directory\n",
    "# For example, running this (by clicking run or pressing Shift+Enter) will list all files under the input directory\n",
    "\n",
    "import os\n",
    "for dirname, _, filenames in os.walk('/kaggle/input'):\n",
    "    for filename in filenames:\n",
    "        print(os.path.join(dirname, filename))\n",
    "\n",
    "# You can write up to 20GB to the current directory (/kaggle/working/) that gets preserved as output when you create a version using \"Save & Run All\" \n",
    "# You can also write temporary files to /kaggle/temp/, but they won't be saved outside of the current session"
   ]
  },
  {
   "cell_type": "markdown",
   "id": "de1b8809",
   "metadata": {},
   "source": [
    "For running and training the model, please find at https://www.kaggle.com/trangdothuy/ner-glove-bigru-model"
   ]
  },
  {
   "cell_type": "code",
   "execution_count": 2,
   "id": "c9a6031e",
   "metadata": {
    "execution": {
     "iopub.execute_input": "2021-12-23T01:44:27.195598Z",
     "iopub.status.busy": "2021-12-23T01:44:27.194815Z",
     "iopub.status.idle": "2021-12-23T01:44:31.941146Z",
     "shell.execute_reply": "2021-12-23T01:44:31.940077Z",
     "shell.execute_reply.started": "2021-12-23T01:23:59.405747Z"
    },
    "papermill": {
     "duration": 4.780473,
     "end_time": "2021-12-23T01:44:31.941284",
     "exception": false,
     "start_time": "2021-12-23T01:44:27.160811",
     "status": "completed"
    },
    "tags": []
   },
   "outputs": [],
   "source": [
    "import os\n",
    "import tensorflow as tf\n",
    "from tensorflow import keras\n",
    "from keras.models import Model, Input, Sequential\n",
    "from keras.layers import LSTM,GRU, Embedding, Dense, TimeDistributed, Dropout, Bidirectional, BatchNormalization, Activation, Add\n",
    "from tensorflow.keras.utils import to_categorical\n",
    "from tensorflow.keras.optimizers import Adam\n",
    "from tensorflow.keras.layers import TextVectorization\n",
    "from numpy.random import seed"
   ]
  },
  {
   "cell_type": "code",
   "execution_count": 3,
   "id": "d560973c",
   "metadata": {
    "execution": {
     "iopub.execute_input": "2021-12-23T01:44:31.974481Z",
     "iopub.status.busy": "2021-12-23T01:44:31.973839Z",
     "iopub.status.idle": "2021-12-23T01:44:32.533779Z",
     "shell.execute_reply": "2021-12-23T01:44:32.533285Z",
     "shell.execute_reply.started": "2021-12-23T01:24:04.336351Z"
    },
    "papermill": {
     "duration": 0.577993,
     "end_time": "2021-12-23T01:44:32.533937",
     "exception": false,
     "start_time": "2021-12-23T01:44:31.955944",
     "status": "completed"
    },
    "tags": []
   },
   "outputs": [],
   "source": [
    "from tqdm import tqdm\n",
    "import pandas as pd\n",
    "import numpy as np \n",
    "\n",
    "from sklearn import preprocessing\n",
    "from sklearn import model_selection"
   ]
  },
  {
   "cell_type": "code",
   "execution_count": 4,
   "id": "1e13859d",
   "metadata": {
    "execution": {
     "iopub.execute_input": "2021-12-23T01:44:32.569114Z",
     "iopub.status.busy": "2021-12-23T01:44:32.568358Z",
     "iopub.status.idle": "2021-12-23T01:44:32.570352Z",
     "shell.execute_reply": "2021-12-23T01:44:32.570721Z",
     "shell.execute_reply.started": "2021-12-23T01:24:04.891103Z"
    },
    "papermill": {
     "duration": 0.022229,
     "end_time": "2021-12-23T01:44:32.570843",
     "exception": false,
     "start_time": "2021-12-23T01:44:32.548614",
     "status": "completed"
    },
    "tags": []
   },
   "outputs": [],
   "source": [
    "from tensorflow.keras.layers import TextVectorization\n",
    "\n",
    "class Config:\n",
    "    def __init__(self):\n",
    "        self.MAX_LEN = 128\n",
    "        self.TRAIN_BATCH_SIZE = 8\n",
    "        self.VALID_BATCH_SIZE = 8\n",
    "        self.EPOCHS = 20\n",
    "        self.BASE_MODEL_PATH = \"../input/bert-base-uncased\"\n",
    "        self.MODEL_PATH = \"./model.bin\"\n",
    "        self.TRAINING_FILE = \"../input/ner-dataset/ner_dataset.csv\"\n",
    "config = Config()\n",
    "\n"
   ]
  },
  {
   "cell_type": "code",
   "execution_count": 5,
   "id": "614afb13",
   "metadata": {
    "execution": {
     "iopub.execute_input": "2021-12-23T01:44:32.604205Z",
     "iopub.status.busy": "2021-12-23T01:44:32.603668Z",
     "iopub.status.idle": "2021-12-23T01:44:44.944231Z",
     "shell.execute_reply": "2021-12-23T01:44:44.944766Z",
     "shell.execute_reply.started": "2021-12-23T01:24:04.898403Z"
    },
    "papermill": {
     "duration": 12.359873,
     "end_time": "2021-12-23T01:44:44.944980",
     "exception": false,
     "start_time": "2021-12-23T01:44:32.585107",
     "status": "completed"
    },
    "tags": []
   },
   "outputs": [
    {
     "name": "stdout",
     "output_type": "stream",
     "text": [
      "Found 400000 word vectors.\n"
     ]
    }
   ],
   "source": [
    "path_to_glove_file = \"../input/glove-emb/glove.6B.100d.txt\"\n",
    "\n",
    "embeddings_index = {}\n",
    "with open(path_to_glove_file) as f:\n",
    "    for line in f:\n",
    "        word, coefs = line.split(maxsplit=1)\n",
    "        coefs = np.fromstring(coefs, \"f\", sep=\" \")\n",
    "        embeddings_index[word] = coefs\n",
    "\n",
    "print(\"Found %s word vectors.\" % len(embeddings_index))"
   ]
  },
  {
   "cell_type": "code",
   "execution_count": 6,
   "id": "22a6d0a3",
   "metadata": {
    "execution": {
     "iopub.execute_input": "2021-12-23T01:44:44.986647Z",
     "iopub.status.busy": "2021-12-23T01:44:44.986119Z",
     "iopub.status.idle": "2021-12-23T01:44:55.058029Z",
     "shell.execute_reply": "2021-12-23T01:44:55.057547Z",
     "shell.execute_reply.started": "2021-12-23T01:24:17.47614Z"
    },
    "papermill": {
     "duration": 10.098063,
     "end_time": "2021-12-23T01:44:55.058175",
     "exception": false,
     "start_time": "2021-12-23T01:44:44.960112",
     "status": "completed"
    },
    "tags": []
   },
   "outputs": [
    {
     "name": "stderr",
     "output_type": "stream",
     "text": [
      "2021-12-23 01:44:51.939907: I tensorflow/stream_executor/cuda/cuda_gpu_executor.cc:937] successful NUMA node read from SysFS had negative value (-1), but there must be at least one NUMA node, so returning NUMA node zero\n",
      "2021-12-23 01:44:52.038361: I tensorflow/stream_executor/cuda/cuda_gpu_executor.cc:937] successful NUMA node read from SysFS had negative value (-1), but there must be at least one NUMA node, so returning NUMA node zero\n",
      "2021-12-23 01:44:52.039073: I tensorflow/stream_executor/cuda/cuda_gpu_executor.cc:937] successful NUMA node read from SysFS had negative value (-1), but there must be at least one NUMA node, so returning NUMA node zero\n",
      "2021-12-23 01:44:52.040178: I tensorflow/core/platform/cpu_feature_guard.cc:142] This TensorFlow binary is optimized with oneAPI Deep Neural Network Library (oneDNN) to use the following CPU instructions in performance-critical operations:  AVX2 AVX512F FMA\n",
      "To enable them in other operations, rebuild TensorFlow with the appropriate compiler flags.\n",
      "2021-12-23 01:44:52.041487: I tensorflow/stream_executor/cuda/cuda_gpu_executor.cc:937] successful NUMA node read from SysFS had negative value (-1), but there must be at least one NUMA node, so returning NUMA node zero\n",
      "2021-12-23 01:44:52.042165: I tensorflow/stream_executor/cuda/cuda_gpu_executor.cc:937] successful NUMA node read from SysFS had negative value (-1), but there must be at least one NUMA node, so returning NUMA node zero\n",
      "2021-12-23 01:44:52.042769: I tensorflow/stream_executor/cuda/cuda_gpu_executor.cc:937] successful NUMA node read from SysFS had negative value (-1), but there must be at least one NUMA node, so returning NUMA node zero\n",
      "2021-12-23 01:44:53.832571: I tensorflow/stream_executor/cuda/cuda_gpu_executor.cc:937] successful NUMA node read from SysFS had negative value (-1), but there must be at least one NUMA node, so returning NUMA node zero\n",
      "2021-12-23 01:44:53.833401: I tensorflow/stream_executor/cuda/cuda_gpu_executor.cc:937] successful NUMA node read from SysFS had negative value (-1), but there must be at least one NUMA node, so returning NUMA node zero\n",
      "2021-12-23 01:44:53.834067: I tensorflow/stream_executor/cuda/cuda_gpu_executor.cc:937] successful NUMA node read from SysFS had negative value (-1), but there must be at least one NUMA node, so returning NUMA node zero\n",
      "2021-12-23 01:44:53.834671: I tensorflow/core/common_runtime/gpu/gpu_device.cc:1510] Created device /job:localhost/replica:0/task:0/device:GPU:0 with 15403 MB memory:  -> device: 0, name: Tesla P100-PCIE-16GB, pci bus id: 0000:00:04.0, compute capability: 6.0\n",
      "2021-12-23 01:44:54.419300: I tensorflow/compiler/mlir/mlir_graph_optimization_pass.cc:185] None of the MLIR Optimization Passes are enabled (registered 2)\n"
     ]
    }
   ],
   "source": [
    "data_path = config.TRAINING_FILE\n",
    "\n",
    "df = pd.read_csv(data_path,encoding='latin-1')\n",
    "df.loc[:,\"Sentence #\"] = df[\"Sentence #\"].fillna(method=\"ffill\")\n",
    "\n",
    "sentences = df.groupby(\"Sentence #\")[\"Word\"].apply(list).values \n",
    "tag = df.groupby(\"Sentence #\")[\"Tag\"].apply(list).values\n",
    "\n",
    "vocab_dict = {'_unk_': 1, '_w_pad_': 0}\n",
    "tag_dict = {'_t_pad_': 0}\n",
    "\n",
    "tag_seqs = []\n",
    "for tag_seq in tag:\n",
    "    padded_tags = []\n",
    "    for tag_item in tag_seq:\n",
    "        padded_tags.append(tag_item)\n",
    "        if tag_item not in tag_dict:\n",
    "            tag_dict[tag_item] = len(tag_dict)\n",
    "    if len(padded_tags) < config.MAX_LEN:\n",
    "        added_len = config.MAX_LEN - len(padded_tags)\n",
    "        padded_tags += ['_t_pad_']*added_len\n",
    "    assert len(padded_tags) == config.MAX_LEN\n",
    "    tag_seqs.append(padded_tags)\n",
    "tag2idx = tag_dict\n",
    "tag_tokens = [[tag2idx[t] for t in t_seq] for t_seq in tag_seqs]\n",
    "tag_tokens = np.array([to_categorical(t_seq, num_classes=len(tag_dict)) for t_seq in tag_tokens])\n",
    "idx2tag = {v:k for k,v in tag2idx.items()} \n",
    "\n",
    "sent_list = []\n",
    "for sent in sentences:\n",
    "    sent_list.append(\" \".join(sent))\n",
    "    \n",
    "\n",
    "(\n",
    "        train_sent, \n",
    "        val_sent, \n",
    "        train_tags,\n",
    "        val_tags\n",
    "     ) = model_selection.train_test_split(sent_list, tag_tokens,random_state = 42,test_size = 0.2)\n",
    "    \n",
    "\n",
    "vectorizer = TextVectorization(max_tokens=20000, output_sequence_length=config.MAX_LEN)\n",
    "text_ds = tf.data.Dataset.from_tensor_slices(train_sent).batch(128)\n",
    "vectorizer.adapt(text_ds)\n",
    "\n",
    "voc = vectorizer.get_vocabulary()\n",
    "word_index = dict(zip(voc, range(len(voc))))"
   ]
  },
  {
   "cell_type": "code",
   "execution_count": 7,
   "id": "97152c77",
   "metadata": {
    "execution": {
     "iopub.execute_input": "2021-12-23T01:44:55.095064Z",
     "iopub.status.busy": "2021-12-23T01:44:55.094274Z",
     "iopub.status.idle": "2021-12-23T01:44:55.151277Z",
     "shell.execute_reply": "2021-12-23T01:44:55.151915Z",
     "shell.execute_reply.started": "2021-12-23T01:24:27.387563Z"
    },
    "papermill": {
     "duration": 0.078608,
     "end_time": "2021-12-23T01:44:55.152075",
     "exception": false,
     "start_time": "2021-12-23T01:44:55.073467",
     "status": "completed"
    },
    "tags": []
   },
   "outputs": [
    {
     "name": "stdout",
     "output_type": "stream",
     "text": [
      "Converted 18358 words (1642 misses)\n"
     ]
    }
   ],
   "source": [
    "num_tokens = len(voc) + 2\n",
    "embedding_dim = 100\n",
    "hits = 0\n",
    "misses = 0\n",
    "# Prepare embedding matrix\n",
    "embedding_matrix = np.zeros((num_tokens, embedding_dim))\n",
    "for word, i in word_index.items():\n",
    "    embedding_vector = embeddings_index.get(word)\n",
    "    if embedding_vector is not None:\n",
    "        # Words not found in embedding index will be all-zeros.\n",
    "        # This includes the representation for \"padding\" and \"OOV\"\n",
    "        embedding_matrix[i] = embedding_vector\n",
    "        hits += 1\n",
    "    else:\n",
    "        misses += 1\n",
    "print(\"Converted %d words (%d misses)\" % (hits, misses))"
   ]
  },
  {
   "cell_type": "code",
   "execution_count": 8,
   "id": "61693acd",
   "metadata": {
    "execution": {
     "iopub.execute_input": "2021-12-23T01:44:55.190429Z",
     "iopub.status.busy": "2021-12-23T01:44:55.189033Z",
     "iopub.status.idle": "2021-12-23T01:44:55.690052Z",
     "shell.execute_reply": "2021-12-23T01:44:55.690555Z",
     "shell.execute_reply.started": "2021-12-23T01:24:27.447395Z"
    },
    "papermill": {
     "duration": 0.521517,
     "end_time": "2021-12-23T01:44:55.690711",
     "exception": false,
     "start_time": "2021-12-23T01:44:55.169194",
     "status": "completed"
    },
    "tags": []
   },
   "outputs": [],
   "source": [
    "x_train = vectorizer(np.array([[s] for s in train_sent])).numpy()\n",
    "x_val = vectorizer(np.array([[s] for s in val_sent])).numpy()"
   ]
  },
  {
   "cell_type": "code",
   "execution_count": 9,
   "id": "88e6fcd9",
   "metadata": {
    "execution": {
     "iopub.execute_input": "2021-12-23T01:44:55.725407Z",
     "iopub.status.busy": "2021-12-23T01:44:55.724561Z",
     "iopub.status.idle": "2021-12-23T01:44:55.737644Z",
     "shell.execute_reply": "2021-12-23T01:44:55.738040Z",
     "shell.execute_reply.started": "2021-12-23T01:24:27.997643Z"
    },
    "papermill": {
     "duration": 0.031708,
     "end_time": "2021-12-23T01:44:55.738171",
     "exception": false,
     "start_time": "2021-12-23T01:44:55.706463",
     "status": "completed"
    },
    "tags": []
   },
   "outputs": [],
   "source": [
    "def build_model(max_sent_length, vocab_size, hidden_size, embedding_size, \n",
    "                output_size, learning_rate,num_mlp_layers,activation,dropout_rate):\n",
    "    \n",
    "    \n",
    "    inputs = Input(shape=(max_sent_length,), dtype='int32')\n",
    "    emb = Embedding(input_dim=vocab_size,\n",
    "                    output_dim = embedding_size,\n",
    "                    embeddings_initializer=keras.initializers.Constant(embedding_matrix),\n",
    "                    trainable = False,\n",
    "                   )(inputs)\n",
    "    \n",
    "    bilstm_layer_1 = Bidirectional(GRU(hidden_size,\n",
    "                   kernel_initializer=keras.initializers.glorot_uniform(seed=0),\n",
    "                   recurrent_initializer=keras.initializers.Orthogonal(gain=1.0, seed=0),\n",
    "                   return_sequences=True))(emb)\n",
    "    bilstm_layer_1_dropout = Dropout(dropout_rate, seed=0)(bilstm_layer_1)\n",
    "    bilstm_layer_2 = Bidirectional(GRU(hidden_size,\n",
    "                   kernel_initializer=keras.initializers.glorot_uniform(seed=0),\n",
    "                   recurrent_initializer=keras.initializers.Orthogonal(gain=1.0, seed=0),\n",
    "                   return_sequences=True))(bilstm_layer_1_dropout)\n",
    "    bilstm_layer_2_dropout = Dropout(dropout_rate, seed=0)(bilstm_layer_2)\n",
    "\n",
    "    bilstm_layer_3 = Bidirectional(GRU(hidden_size,\n",
    "                   kernel_initializer=keras.initializers.glorot_uniform(seed=0),\n",
    "                   recurrent_initializer=keras.initializers.Orthogonal(gain=1.0, seed=0),\n",
    "                   return_sequences=True))(bilstm_layer_2_dropout)\n",
    "    bilstm_layer_3_dropout = Dropout(dropout_rate, seed=0)(bilstm_layer_3)\n",
    "\n",
    "    bilstm_layer_4 = Bidirectional(GRU(hidden_size,\n",
    "                   kernel_initializer=keras.initializers.glorot_uniform(seed=0),\n",
    "                   recurrent_initializer=keras.initializers.Orthogonal(gain=1.0, seed=0),\n",
    "                   return_sequences=True))(bilstm_layer_3_dropout)\n",
    "    bilstm_layer_4_dropout = Dropout(dropout_rate, seed=0)(bilstm_layer_4)\n",
    "    \n",
    "    h = bilstm_layer_4_dropout\n",
    "    \n",
    "    for i in range(num_mlp_layers-1):\n",
    "        new_h = Dense(hidden_size,\n",
    "                      kernel_initializer=keras.initializers.he_normal(seed=0),\n",
    "                      bias_initializer=\"zeros\",\n",
    "                      kernel_regularizer=keras.regularizers.l2(0.0))(h)\n",
    "        # add batch normalization layer\n",
    "        new_h = BatchNormalization()(new_h)\n",
    "        # add residual connection\n",
    "        if i == 0:\n",
    "            h = new_h\n",
    "        else:\n",
    "            h = Add()([h, new_h])\n",
    "        # add activation\n",
    "        h = Activation(activation)(h)\n",
    "    dense = Dense(output_size,\n",
    "              activation=\"softmax\",\n",
    "              kernel_initializer=keras.initializers.he_normal(seed=0),\n",
    "              bias_initializer=\"zeros\")(h)\n",
    "    \n",
    "    model = Model(inputs, dense)\n",
    "    model.compile(loss=\"categorical_crossentropy\", optimizer=\"Adam\", metrics=[\"accuracy\"])\n",
    "                                 \n",
    "    return model"
   ]
  },
  {
   "cell_type": "code",
   "execution_count": 10,
   "id": "7229a57b",
   "metadata": {
    "execution": {
     "iopub.execute_input": "2021-12-23T01:44:55.783954Z",
     "iopub.status.busy": "2021-12-23T01:44:55.776331Z",
     "iopub.status.idle": "2021-12-23T01:44:55.786127Z",
     "shell.execute_reply": "2021-12-23T01:44:55.785705Z",
     "shell.execute_reply.started": "2021-12-23T01:24:28.016768Z"
    },
    "papermill": {
     "duration": 0.03274,
     "end_time": "2021-12-23T01:44:55.786235",
     "exception": false,
     "start_time": "2021-12-23T01:44:55.753495",
     "status": "completed"
    },
    "tags": []
   },
   "outputs": [],
   "source": [
    "import csv\n",
    "from pathlib import Path\n",
    "\n",
    "checkpointer = keras.callbacks.ModelCheckpoint(\n",
    "    filepath=os.path.join(\"models\", \"GloVe_GRU_CRF.hdf5\"),\n",
    "    monitor=\"val_accuracy\",\n",
    "    verbose=0,\n",
    "    save_best_only=True)\n",
    "\n",
    "class StepLogCallback(keras.callbacks.Callback):\n",
    "    def __init__(self):\n",
    "        self.count = 0\n",
    "        self.step_log = []\n",
    "        self.log_fpath = Path('./step_log.csv')\n",
    "    \n",
    "    def on_train_batch_end(self, batch, logs=None):\n",
    "        self.count += 1\n",
    "        self.step_log.append([self.count, logs['loss'], logs['accuracy']])\n",
    "    \n",
    "    def on_epoch_end(self, epoch, logs=None):\n",
    "        log_exists = self.log_fpath.exists()\n",
    "        with open(self.log_fpath, 'a' if log_exists else 'w', newline='') as csvfile:\n",
    "            writer = csv.writer(csvfile)\n",
    "            if not log_exists:\n",
    "                writer.writerow(['step','loss','accuracy'])\n",
    "            for log in self.step_log:\n",
    "                writer.writerow(log)\n",
    "            self.step_log.clear()\n",
    "\n",
    "class TestCallback(keras.callbacks.Callback):\n",
    "    def __init__(self, test_data, ground_file, model):\n",
    "        self.count = 0\n",
    "        self.test_data = test_data\n",
    "        self.model = model\n",
    "        self.ground_file = ground_file\n",
    "        self.epoch_log = []\n",
    "        self.log_fpath = Path('./epoch_log.csv')\n",
    "        \n",
    "    def calc_accuracy(self, preds, tags, padding_id=\"_t_pad_\"):\n",
    "        preds_flatten = preds.flatten()\n",
    "        tags_flatten = tags.flatten()\n",
    "        non_padding_idx = np.where(tags_flatten!=padding_id)[0]\n",
    "        return sum(preds_flatten[non_padding_idx]==tags_flatten[non_padding_idx])/len(non_padding_idx)\n",
    "        \n",
    "    def on_epoch_end(self, epoch, logs=None):\n",
    "        val_preds_numerical = self.model.predict(self.test_data)\n",
    "        val_preds = np.array([[idx2tag[p] for p in preds] for preds in np.argmax(val_preds_numerical,axis=2)])\n",
    "        file_dict = pkl.load(open(self.ground_file, \"rb\"))\n",
    "        val_accuracy = self.calc_accuracy(val_preds, np.array(file_dict[\"tag_seq\"]))\n",
    "        \n",
    "        print('\\nValidation Set Accuracy: %f\\n' % val_accuracy)\n",
    "        \n",
    "        self.count += 1\n",
    "        log_exists = self.log_fpath.exists()\n",
    "        with open(self.log_fpath, 'a' if log_exists else 'w', newline='') as csvfile:\n",
    "            writer = csv.writer(csvfile)\n",
    "            if not log_exists:\n",
    "                writer.writerow(['epoch','loss','train_accuracy','val_accuracy'])\n",
    "            writer.writerow([self.count, logs['loss'], logs['accuracy'], val_accuracy])\n",
    "            self.epoch_log.clear()"
   ]
  },
  {
   "cell_type": "code",
   "execution_count": 11,
   "id": "19f57338",
   "metadata": {
    "execution": {
     "iopub.execute_input": "2021-12-23T01:44:55.822398Z",
     "iopub.status.busy": "2021-12-23T01:44:55.820881Z",
     "iopub.status.idle": "2021-12-23T01:44:55.823048Z",
     "shell.execute_reply": "2021-12-23T01:44:55.823445Z",
     "shell.execute_reply.started": "2021-12-23T01:24:28.044896Z"
    },
    "papermill": {
     "duration": 0.021805,
     "end_time": "2021-12-23T01:44:55.823566",
     "exception": false,
     "start_time": "2021-12-23T01:44:55.801761",
     "status": "completed"
    },
    "tags": []
   },
   "outputs": [],
   "source": [
    "input_length = config.MAX_LEN\n",
    "vocab_size = num_tokens\n",
    "hidden_size = 100\n",
    "embedding_size = 100\n",
    "output_size = train_tags.shape[2]\n",
    "learning_rate = 0.0001\n",
    "num_mlp_layers = 3\n",
    "activation = \"tanh\"\n",
    "dropout_rate = 0.5"
   ]
  },
  {
   "cell_type": "code",
   "execution_count": 12,
   "id": "d559e382",
   "metadata": {
    "execution": {
     "iopub.execute_input": "2021-12-23T01:44:55.866397Z",
     "iopub.status.busy": "2021-12-23T01:44:55.865491Z",
     "iopub.status.idle": "2021-12-23T01:44:57.304567Z",
     "shell.execute_reply": "2021-12-23T01:44:57.304048Z",
     "shell.execute_reply.started": "2021-12-23T01:24:28.052272Z"
    },
    "papermill": {
     "duration": 1.464452,
     "end_time": "2021-12-23T01:44:57.304712",
     "exception": false,
     "start_time": "2021-12-23T01:44:55.840260",
     "status": "completed"
    },
    "tags": []
   },
   "outputs": [
    {
     "name": "stdout",
     "output_type": "stream",
     "text": [
      "Model: \"model\"\n",
      "__________________________________________________________________________________________________\n",
      "Layer (type)                    Output Shape         Param #     Connected to                     \n",
      "==================================================================================================\n",
      "input_1 (InputLayer)            [(None, 128)]        0                                            \n",
      "__________________________________________________________________________________________________\n",
      "embedding (Embedding)           (None, 128, 100)     2000200     input_1[0][0]                    \n",
      "__________________________________________________________________________________________________\n",
      "bidirectional (Bidirectional)   (None, 128, 200)     121200      embedding[0][0]                  \n",
      "__________________________________________________________________________________________________\n",
      "dropout (Dropout)               (None, 128, 200)     0           bidirectional[0][0]              \n",
      "__________________________________________________________________________________________________\n",
      "bidirectional_1 (Bidirectional) (None, 128, 200)     181200      dropout[0][0]                    \n",
      "__________________________________________________________________________________________________\n",
      "dropout_1 (Dropout)             (None, 128, 200)     0           bidirectional_1[0][0]            \n",
      "__________________________________________________________________________________________________\n",
      "bidirectional_2 (Bidirectional) (None, 128, 200)     181200      dropout_1[0][0]                  \n",
      "__________________________________________________________________________________________________\n",
      "dropout_2 (Dropout)             (None, 128, 200)     0           bidirectional_2[0][0]            \n",
      "__________________________________________________________________________________________________\n",
      "bidirectional_3 (Bidirectional) (None, 128, 200)     181200      dropout_2[0][0]                  \n",
      "__________________________________________________________________________________________________\n",
      "dropout_3 (Dropout)             (None, 128, 200)     0           bidirectional_3[0][0]            \n",
      "__________________________________________________________________________________________________\n",
      "dense (Dense)                   (None, 128, 100)     20100       dropout_3[0][0]                  \n",
      "__________________________________________________________________________________________________\n",
      "batch_normalization (BatchNorma (None, 128, 100)     400         dense[0][0]                      \n",
      "__________________________________________________________________________________________________\n",
      "activation (Activation)         (None, 128, 100)     0           batch_normalization[0][0]        \n",
      "__________________________________________________________________________________________________\n",
      "dense_1 (Dense)                 (None, 128, 100)     10100       activation[0][0]                 \n",
      "__________________________________________________________________________________________________\n",
      "batch_normalization_1 (BatchNor (None, 128, 100)     400         dense_1[0][0]                    \n",
      "__________________________________________________________________________________________________\n",
      "add (Add)                       (None, 128, 100)     0           activation[0][0]                 \n",
      "                                                                 batch_normalization_1[0][0]      \n",
      "__________________________________________________________________________________________________\n",
      "activation_1 (Activation)       (None, 128, 100)     0           add[0][0]                        \n",
      "__________________________________________________________________________________________________\n",
      "dense_2 (Dense)                 (None, 128, 18)      1818        activation_1[0][0]               \n",
      "==================================================================================================\n",
      "Total params: 2,697,818\n",
      "Trainable params: 697,218\n",
      "Non-trainable params: 2,000,600\n",
      "__________________________________________________________________________________________________\n"
     ]
    }
   ],
   "source": [
    "np.random.seed(0)\n",
    "tf.random.set_seed(0)\n",
    "model = build_model(input_length, vocab_size, hidden_size, embedding_size, \n",
    "                    output_size, learning_rate, num_mlp_layers, activation, dropout_rate)\n",
    "model.summary()"
   ]
  },
  {
   "cell_type": "code",
   "execution_count": 13,
   "id": "42585046",
   "metadata": {
    "execution": {
     "iopub.execute_input": "2021-12-23T01:44:57.343231Z",
     "iopub.status.busy": "2021-12-23T01:44:57.341348Z",
     "iopub.status.idle": "2021-12-23T01:44:57.343802Z",
     "shell.execute_reply": "2021-12-23T01:44:57.344236Z",
     "shell.execute_reply.started": "2021-12-23T01:24:29.526987Z"
    },
    "papermill": {
     "duration": 0.023024,
     "end_time": "2021-12-23T01:44:57.344362",
     "exception": false,
     "start_time": "2021-12-23T01:44:57.321338",
     "status": "completed"
    },
    "tags": []
   },
   "outputs": [],
   "source": [
    "from keras.callbacks import CSVLogger\n",
    "csv_logger = CSVLogger('glove-gru-training.log', append=False)\n",
    "earlystopping = keras.callbacks.EarlyStopping(\n",
    "    monitor='val_loss',\n",
    "    patience=5,\n",
    "    verbose=0)"
   ]
  },
  {
   "cell_type": "code",
   "execution_count": 14,
   "id": "75bd4a95",
   "metadata": {
    "execution": {
     "iopub.execute_input": "2021-12-23T01:44:57.381165Z",
     "iopub.status.busy": "2021-12-23T01:44:57.380379Z",
     "iopub.status.idle": "2021-12-23T02:00:17.467969Z",
     "shell.execute_reply": "2021-12-23T02:00:17.468439Z",
     "shell.execute_reply.started": "2021-12-23T01:24:29.536548Z"
    },
    "papermill": {
     "duration": 920.108557,
     "end_time": "2021-12-23T02:00:17.468602",
     "exception": false,
     "start_time": "2021-12-23T01:44:57.360045",
     "status": "completed"
    },
    "tags": []
   },
   "outputs": [
    {
     "name": "stdout",
     "output_type": "stream",
     "text": [
      "Epoch 1/30\n"
     ]
    },
    {
     "name": "stderr",
     "output_type": "stream",
     "text": [
      "2021-12-23 01:45:08.212784: I tensorflow/stream_executor/cuda/cuda_dnn.cc:369] Loaded cuDNN version 8005\n"
     ]
    },
    {
     "name": "stdout",
     "output_type": "stream",
     "text": [
      "300/300 [==============================] - 42s 105ms/step - loss: 0.1774 - accuracy: 0.9622 - val_loss: 0.1307 - val_accuracy: 0.9679\n"
     ]
    },
    {
     "name": "stderr",
     "output_type": "stream",
     "text": [
      "/opt/conda/lib/python3.7/site-packages/keras/utils/generic_utils.py:497: CustomMaskWarning: Custom mask layers require a config and must override get_config. When loading, the custom mask layer must be passed to the custom_objects argument.\n",
      "  category=CustomMaskWarning)\n"
     ]
    },
    {
     "name": "stdout",
     "output_type": "stream",
     "text": [
      "Epoch 2/30\n",
      "300/300 [==============================] - 29s 97ms/step - loss: 0.1162 - accuracy: 0.9690 - val_loss: 0.1014 - val_accuracy: 0.9708\n",
      "Epoch 3/30\n",
      "300/300 [==============================] - 29s 97ms/step - loss: 0.0941 - accuracy: 0.9717 - val_loss: 0.0812 - val_accuracy: 0.9744\n",
      "Epoch 4/30\n",
      "300/300 [==============================] - 29s 97ms/step - loss: 0.0806 - accuracy: 0.9748 - val_loss: 0.0725 - val_accuracy: 0.9762\n",
      "Epoch 5/30\n",
      "300/300 [==============================] - 29s 97ms/step - loss: 0.0734 - accuracy: 0.9765 - val_loss: 0.0681 - val_accuracy: 0.9776\n",
      "Epoch 6/30\n",
      "300/300 [==============================] - 29s 97ms/step - loss: 0.0691 - accuracy: 0.9775 - val_loss: 0.0640 - val_accuracy: 0.9787\n",
      "Epoch 7/30\n",
      "300/300 [==============================] - 29s 97ms/step - loss: 0.0660 - accuracy: 0.9783 - val_loss: 0.0610 - val_accuracy: 0.9798\n",
      "Epoch 8/30\n",
      "300/300 [==============================] - 29s 97ms/step - loss: 0.0636 - accuracy: 0.9789 - val_loss: 0.0605 - val_accuracy: 0.9798\n",
      "Epoch 9/30\n",
      "300/300 [==============================] - 29s 96ms/step - loss: 0.0613 - accuracy: 0.9796 - val_loss: 0.0576 - val_accuracy: 0.9807\n",
      "Epoch 10/30\n",
      "300/300 [==============================] - 29s 95ms/step - loss: 0.0593 - accuracy: 0.9801 - val_loss: 0.0566 - val_accuracy: 0.9811\n",
      "Epoch 11/30\n",
      "300/300 [==============================] - 29s 97ms/step - loss: 0.0574 - accuracy: 0.9808 - val_loss: 0.0581 - val_accuracy: 0.9808\n",
      "Epoch 12/30\n",
      "300/300 [==============================] - 29s 97ms/step - loss: 0.0556 - accuracy: 0.9813 - val_loss: 0.0566 - val_accuracy: 0.9814\n",
      "Epoch 13/30\n",
      "300/300 [==============================] - 29s 96ms/step - loss: 0.0542 - accuracy: 0.9818 - val_loss: 0.0548 - val_accuracy: 0.9817\n",
      "Epoch 14/30\n",
      "300/300 [==============================] - 29s 97ms/step - loss: 0.0528 - accuracy: 0.9824 - val_loss: 0.0546 - val_accuracy: 0.9823\n",
      "Epoch 15/30\n",
      "300/300 [==============================] - 29s 96ms/step - loss: 0.0516 - accuracy: 0.9828 - val_loss: 0.0536 - val_accuracy: 0.9826\n",
      "Epoch 16/30\n",
      "300/300 [==============================] - 29s 97ms/step - loss: 0.0502 - accuracy: 0.9833 - val_loss: 0.0532 - val_accuracy: 0.9828\n",
      "Epoch 17/30\n",
      "300/300 [==============================] - 29s 97ms/step - loss: 0.0491 - accuracy: 0.9836 - val_loss: 0.0553 - val_accuracy: 0.9826\n",
      "Epoch 18/30\n",
      "300/300 [==============================] - 29s 96ms/step - loss: 0.0483 - accuracy: 0.9838 - val_loss: 0.0539 - val_accuracy: 0.9828\n",
      "Epoch 19/30\n",
      "300/300 [==============================] - 28s 94ms/step - loss: 0.0471 - accuracy: 0.9843 - val_loss: 0.0560 - val_accuracy: 0.9825\n",
      "Epoch 20/30\n",
      "300/300 [==============================] - 29s 98ms/step - loss: 0.0459 - accuracy: 0.9847 - val_loss: 0.0527 - val_accuracy: 0.9831\n",
      "Epoch 21/30\n",
      "300/300 [==============================] - 29s 96ms/step - loss: 0.0449 - accuracy: 0.9850 - val_loss: 0.0541 - val_accuracy: 0.9832\n",
      "Epoch 22/30\n",
      "300/300 [==============================] - 29s 95ms/step - loss: 0.0437 - accuracy: 0.9854 - val_loss: 0.0569 - val_accuracy: 0.9829\n",
      "Epoch 23/30\n",
      "300/300 [==============================] - 29s 97ms/step - loss: 0.0430 - accuracy: 0.9857 - val_loss: 0.0575 - val_accuracy: 0.9830\n",
      "Epoch 24/30\n",
      "300/300 [==============================] - 29s 96ms/step - loss: 0.0421 - accuracy: 0.9859 - val_loss: 0.0604 - val_accuracy: 0.9824\n",
      "Epoch 25/30\n",
      "300/300 [==============================] - 29s 95ms/step - loss: 0.0411 - accuracy: 0.9863 - val_loss: 0.0569 - val_accuracy: 0.9829\n",
      "Epoch 26/30\n",
      "300/300 [==============================] - 29s 96ms/step - loss: 0.0404 - accuracy: 0.9865 - val_loss: 0.0586 - val_accuracy: 0.9830\n",
      "Epoch 27/30\n",
      "300/300 [==============================] - 28s 95ms/step - loss: 0.0398 - accuracy: 0.9868 - val_loss: 0.0579 - val_accuracy: 0.9829\n",
      "Epoch 28/30\n",
      "300/300 [==============================] - 29s 97ms/step - loss: 0.0388 - accuracy: 0.9871 - val_loss: 0.0584 - val_accuracy: 0.9829\n",
      "Epoch 29/30\n",
      "300/300 [==============================] - 29s 96ms/step - loss: 0.0381 - accuracy: 0.9873 - val_loss: 0.0611 - val_accuracy: 0.9831\n",
      "Epoch 30/30\n",
      "300/300 [==============================] - 31s 103ms/step - loss: 0.0373 - accuracy: 0.9876 - val_loss: 0.0584 - val_accuracy: 0.9829\n"
     ]
    }
   ],
   "source": [
    "!rm -f *.csv\n",
    "history = model.fit(x_train, train_tags,\n",
    "                    batch_size=128, epochs=30, validation_data = (x_val, val_tags),\n",
    "                    callbacks=[checkpointer,csv_logger])"
   ]
  },
  {
   "cell_type": "code",
   "execution_count": 15,
   "id": "eff544bd",
   "metadata": {
    "execution": {
     "iopub.execute_input": "2021-12-23T02:00:22.214870Z",
     "iopub.status.busy": "2021-12-23T02:00:22.213833Z",
     "iopub.status.idle": "2021-12-23T02:00:22.508702Z",
     "shell.execute_reply": "2021-12-23T02:00:22.509185Z",
     "shell.execute_reply.started": "2021-12-23T01:26:09.478431Z"
    },
    "papermill": {
     "duration": 2.668958,
     "end_time": "2021-12-23T02:00:22.509443",
     "exception": false,
     "start_time": "2021-12-23T02:00:19.840485",
     "status": "completed"
    },
    "tags": []
   },
   "outputs": [
    {
     "data": {
      "image/png": "[encoded data removed]",
      "text/plain": [
       "<Figure size 720x288 with 2 Axes>"
      ]
     },
     "metadata": {
      "needs_background": "light"
     },
     "output_type": "display_data"
    }
   ],
   "source": [
    "import matplotlib.pyplot as plt\n",
    "plt.figure(figsize=(10,4))\n",
    "plt.suptitle(\"GloVe_GRU - learning_rate=0.0001\", fontsize=16)\n",
    "plt.subplot(1,2,1)\n",
    "plt.plot(history.history[\"loss\"], label=\"training\", color=\"blue\", linestyle=\"dashed\")\n",
    "plt.plot(history.history[\"val_loss\"], label=\"validation\", color=\"orange\")\n",
    "plt.xticks((0,5,10,15,20))\n",
    "plt.xlabel(\"Epoch\")\n",
    "plt.ylabel(\"Loss\")\n",
    "plt.legend()\n",
    "plt.subplot(1,2,2)\n",
    "plt.plot(history.history[\"accuracy\"], label=\"training\", color=\"blue\", linestyle=\"dashed\")\n",
    "plt.plot(history.history[\"val_accuracy\"], label=\"validation\", color=\"orange\")\n",
    "plt.xticks((0,5,10,15,20))\n",
    "plt.xlabel(\"Epoch\")\n",
    "plt.ylabel(\"Accuracy\")\n",
    "plt.legend()\n",
    "plt.show()"
   ]
  },
  {
   "cell_type": "code",
   "execution_count": 16,
   "id": "b584c137",
   "metadata": {
    "execution": {
     "iopub.execute_input": "2021-12-23T02:00:27.502436Z",
     "iopub.status.busy": "2021-12-23T02:00:27.501211Z",
     "iopub.status.idle": "2021-12-23T02:00:29.477044Z",
     "shell.execute_reply": "2021-12-23T02:00:29.477526Z",
     "shell.execute_reply.started": "2021-12-23T01:26:09.480588Z"
    },
    "papermill": {
     "duration": 4.327417,
     "end_time": "2021-12-23T02:00:29.477679",
     "exception": false,
     "start_time": "2021-12-23T02:00:25.150262",
     "status": "completed"
    },
    "tags": []
   },
   "outputs": [],
   "source": [
    "# save model\n",
    "model.save('models/GloVe_GRU_model.h5')"
   ]
  },
  {
   "cell_type": "markdown",
   "id": "2b33ec39",
   "metadata": {
    "papermill": {
     "duration": 2.361597,
     "end_time": "2021-12-23T02:00:34.158874",
     "exception": false,
     "start_time": "2021-12-23T02:00:31.797277",
     "status": "completed"
    },
    "tags": []
   },
   "source": [
    "## Prediction"
   ]
  },
  {
   "cell_type": "code",
   "execution_count": 17,
   "id": "c359f9b9",
   "metadata": {
    "execution": {
     "iopub.execute_input": "2021-12-23T02:00:40.271137Z",
     "iopub.status.busy": "2021-12-23T02:00:40.255829Z",
     "iopub.status.idle": "2021-12-23T02:00:41.843789Z",
     "shell.execute_reply": "2021-12-23T02:00:41.844373Z",
     "shell.execute_reply.started": "2021-12-23T01:26:09.482559Z"
    },
    "papermill": {
     "duration": 5.118038,
     "end_time": "2021-12-23T02:00:41.844550",
     "exception": false,
     "start_time": "2021-12-23T02:00:36.726512",
     "status": "completed"
    },
    "tags": []
   },
   "outputs": [],
   "source": [
    "model =  keras.models.load_model('models/GloVe_GRU_model.h5')\n"
   ]
  },
  {
   "cell_type": "code",
   "execution_count": 18,
   "id": "92f42927",
   "metadata": {
    "execution": {
     "iopub.execute_input": "2021-12-23T02:00:46.758953Z",
     "iopub.status.busy": "2021-12-23T02:00:46.757336Z",
     "iopub.status.idle": "2021-12-23T02:00:46.759521Z",
     "shell.execute_reply": "2021-12-23T02:00:46.759930Z",
     "shell.execute_reply.started": "2021-12-23T01:26:09.484491Z"
    },
    "papermill": {
     "duration": 2.584292,
     "end_time": "2021-12-23T02:00:46.760071",
     "exception": false,
     "start_time": "2021-12-23T02:00:44.175779",
     "status": "completed"
    },
    "tags": []
   },
   "outputs": [],
   "source": [
    "idx2tag = {v:k for k,v in tag2idx.items()} "
   ]
  },
  {
   "cell_type": "code",
   "execution_count": 19,
   "id": "f34321f4",
   "metadata": {
    "execution": {
     "iopub.execute_input": "2021-12-23T02:00:51.952025Z",
     "iopub.status.busy": "2021-12-23T02:00:51.951219Z",
     "iopub.status.idle": "2021-12-23T02:00:55.506772Z",
     "shell.execute_reply": "2021-12-23T02:00:55.507383Z",
     "shell.execute_reply.started": "2021-12-23T01:26:09.486472Z"
    },
    "papermill": {
     "duration": 5.906049,
     "end_time": "2021-12-23T02:00:55.507584",
     "exception": false,
     "start_time": "2021-12-23T02:00:49.601535",
     "status": "completed"
    },
    "tags": []
   },
   "outputs": [
    {
     "name": "stdout",
     "output_type": "stream",
     "text": [
      "(1, 128)\n",
      "['O' 'O' 'O' 'O' 'O' 'O' 'O' 'O' 'O' 'O' 'O' 'O' 'O' 'O' 'B-tim' 'O' 'O'\n",
      " '_t_pad_' '_t_pad_' '_t_pad_' '_t_pad_' '_t_pad_' '_t_pad_' '_t_pad_'\n",
      " '_t_pad_' '_t_pad_' '_t_pad_' '_t_pad_' '_t_pad_' '_t_pad_' '_t_pad_'\n",
      " '_t_pad_' '_t_pad_' '_t_pad_' '_t_pad_' '_t_pad_' '_t_pad_' '_t_pad_'\n",
      " '_t_pad_' '_t_pad_' '_t_pad_' '_t_pad_' '_t_pad_' '_t_pad_' '_t_pad_'\n",
      " '_t_pad_' '_t_pad_' '_t_pad_' '_t_pad_' '_t_pad_' '_t_pad_' '_t_pad_'\n",
      " '_t_pad_' '_t_pad_' '_t_pad_' '_t_pad_' '_t_pad_' '_t_pad_' '_t_pad_'\n",
      " '_t_pad_' '_t_pad_' '_t_pad_' '_t_pad_' '_t_pad_' '_t_pad_' '_t_pad_'\n",
      " '_t_pad_' '_t_pad_' '_t_pad_' '_t_pad_' '_t_pad_' '_t_pad_' '_t_pad_'\n",
      " '_t_pad_' '_t_pad_' '_t_pad_' '_t_pad_' '_t_pad_' '_t_pad_' '_t_pad_'\n",
      " '_t_pad_' '_t_pad_' '_t_pad_' '_t_pad_' '_t_pad_' '_t_pad_' '_t_pad_'\n",
      " '_t_pad_' '_t_pad_' '_t_pad_' '_t_pad_' '_t_pad_' '_t_pad_' '_t_pad_'\n",
      " '_t_pad_' '_t_pad_' '_t_pad_' '_t_pad_' '_t_pad_' '_t_pad_' '_t_pad_'\n",
      " '_t_pad_' '_t_pad_' '_t_pad_' '_t_pad_' '_t_pad_' '_t_pad_' '_t_pad_'\n",
      " '_t_pad_' '_t_pad_' '_t_pad_' '_t_pad_' '_t_pad_' '_t_pad_' '_t_pad_'\n",
      " '_t_pad_' '_t_pad_' '_t_pad_' '_t_pad_' '_t_pad_' '_t_pad_' '_t_pad_'\n",
      " '_t_pad_' '_t_pad_' '_t_pad_' '_t_pad_' '_t_pad_' '_t_pad_']\n"
     ]
    }
   ],
   "source": [
    "string_input = keras.Input(shape=(1,), dtype=\"string\")\n",
    "x = vectorizer(string_input)\n",
    "preds = model(x)\n",
    "end_to_end_model = keras.Model(string_input, preds)\n",
    "\n",
    "test_preds_numerical = end_to_end_model.predict(\n",
    "    [[\"HKUST honors faculty and staff members who have served the University for at least two decades.\"]]\n",
    ")\n",
    "\n",
    "\n",
    "test_preds = np.array([[idx2tag[p] for p in preds] for preds in np.argmax(test_preds_numerical,axis=2)])\n",
    "print(test_preds.shape)\n",
    "print(test_preds[0])"
   ]
  }
 ],
 "metadata": {
  "kernelspec": {
   "display_name": "Python 3",
   "language": "python",
   "name": "python3"
  },
  "language_info": {
   "codemirror_mode": {
    "name": "ipython",
    "version": 3
   },
   "file_extension": ".py",
   "mimetype": "text/x-python",
   "name": "python",
   "nbconvert_exporter": "python",
   "pygments_lexer": "ipython3",
   "version": "3.7.12"
  },
  "papermill": {
   "default_parameters": {},
   "duration": 1002.60404,
   "end_time": "2021-12-23T02:01:01.267739",
   "environment_variables": {},
   "exception": null,
   "input_path": "__notebook__.ipynb",
   "output_path": "__notebook__.ipynb",
   "parameters": {},
   "start_time": "2021-12-23T01:44:18.663699",
   "version": "2.3.3"
  }
 },
 "nbformat": 4,
 "nbformat_minor": 5
}
