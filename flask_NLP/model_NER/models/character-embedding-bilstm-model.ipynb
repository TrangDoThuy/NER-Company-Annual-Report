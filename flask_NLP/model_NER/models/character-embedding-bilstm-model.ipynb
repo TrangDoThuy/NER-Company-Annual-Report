{
 "cells": [
  {
   "cell_type": "code",
   "execution_count": 1,
   "id": "2e3e95f5",
   "metadata": {
    "_cell_guid": "b1076dfc-b9ad-4769-8c92-a6c4dae69d19",
    "_uuid": "8f2839f25d086af736a60e9eeb907d3b93b6e0e5",
    "execution": {
     "iopub.execute_input": "2021-12-22T02:55:47.235102Z",
     "iopub.status.busy": "2021-12-22T02:55:47.233310Z",
     "iopub.status.idle": "2021-12-22T02:55:47.256029Z",
     "shell.execute_reply": "2021-12-22T02:55:47.256632Z",
     "shell.execute_reply.started": "2021-12-22T02:44:28.608654Z"
    },
    "papermill": {
     "duration": 0.050339,
     "end_time": "2021-12-22T02:55:47.256929",
     "exception": false,
     "start_time": "2021-12-22T02:55:47.206590",
     "status": "completed"
    },
    "tags": []
   },
   "outputs": [
    {
     "name": "stdout",
     "output_type": "stream",
     "text": [
      "/kaggle/input/bert-base-uncased/config.json\n",
      "/kaggle/input/bert-base-uncased/pytorch_model.bin\n",
      "/kaggle/input/bert-base-uncased/vocab.txt\n",
      "/kaggle/input/ner-dataset/ner_dataset.csv\n"
     ]
    }
   ],
   "source": [
    "# This Python 3 environment comes with many helpful analytics libraries installed\n",
    "# It is defined by the kaggle/python Docker image: https://github.com/kaggle/docker-python\n",
    "# For example, here's several helpful packages to load\n",
    "\n",
    "import numpy as np # linear algebra\n",
    "import pandas as pd # data processing, CSV file I/O (e.g. pd.read_csv)\n",
    "\n",
    "# Input data files are available in the read-only \"../input/\" directory\n",
    "# For example, running this (by clicking run or pressing Shift+Enter) will list all files under the input directory\n",
    "\n",
    "import os\n",
    "for dirname, _, filenames in os.walk('/kaggle/input'):\n",
    "    for filename in filenames:\n",
    "        print(os.path.join(dirname, filename))\n",
    "\n",
    "# You can write up to 20GB to the current directory (/kaggle/working/) that gets preserved as output when you create a version using \"Save & Run All\" \n",
    "# You can also write temporary files to /kaggle/temp/, but they won't be saved outside of the current session"
   ]
  },
  {
   "cell_type": "markdown",
   "id": "177988b9",
   "metadata": {},
   "source": [
    "For running and training model, please find at https://www.kaggle.com/trangdothuy/ner-biltsm-char-emb-model"
   ]
  },
  {
   "cell_type": "code",
   "execution_count": 2,
   "id": "5a8e9720",
   "metadata": {
    "execution": {
     "iopub.execute_input": "2021-12-22T02:55:47.288064Z",
     "iopub.status.busy": "2021-12-22T02:55:47.287506Z",
     "iopub.status.idle": "2021-12-22T02:55:52.394803Z",
     "shell.execute_reply": "2021-12-22T02:55:52.394145Z",
     "shell.execute_reply.started": "2021-12-22T02:44:28.622280Z"
    },
    "papermill": {
     "duration": 5.124523,
     "end_time": "2021-12-22T02:55:52.394938",
     "exception": false,
     "start_time": "2021-12-22T02:55:47.270415",
     "status": "completed"
    },
    "tags": []
   },
   "outputs": [],
   "source": [
    "import tensorflow as tf\n",
    "import keras\n",
    "from keras.models import Model, Input, Sequential\n",
    "from keras.layers import LSTM,GRU, Embedding, Dense, TimeDistributed, Dropout, Bidirectional, BatchNormalization, Activation, Add\n",
    "from tensorflow.keras.utils import to_categorical\n",
    "from tensorflow.keras.optimizers import Adam\n",
    "from numpy.random import seed"
   ]
  },
  {
   "cell_type": "code",
   "execution_count": 3,
   "id": "dac53013",
   "metadata": {
    "execution": {
     "iopub.execute_input": "2021-12-22T02:55:52.425178Z",
     "iopub.status.busy": "2021-12-22T02:55:52.424558Z",
     "iopub.status.idle": "2021-12-22T02:55:54.489803Z",
     "shell.execute_reply": "2021-12-22T02:55:54.489330Z",
     "shell.execute_reply.started": "2021-12-22T02:44:28.637032Z"
    },
    "papermill": {
     "duration": 2.082036,
     "end_time": "2021-12-22T02:55:54.489933",
     "exception": false,
     "start_time": "2021-12-22T02:55:52.407897",
     "status": "completed"
    },
    "tags": []
   },
   "outputs": [],
   "source": [
    "import torch\n",
    "import torch.nn as nn\n",
    "from tqdm import tqdm\n",
    "import transformers \n",
    "\n",
    "import pandas as pd\n",
    "import numpy as np \n",
    "\n",
    "import joblib\n",
    "\n",
    "\n",
    "from sklearn import preprocessing\n",
    "from sklearn import model_selection\n",
    "\n",
    "from transformers import AdamW\n",
    "from transformers import get_linear_schedule_with_warmup"
   ]
  },
  {
   "cell_type": "code",
   "execution_count": 4,
   "id": "a28b800f",
   "metadata": {
    "execution": {
     "iopub.execute_input": "2021-12-22T02:55:54.520490Z",
     "iopub.status.busy": "2021-12-22T02:55:54.519718Z",
     "iopub.status.idle": "2021-12-22T02:55:54.522154Z",
     "shell.execute_reply": "2021-12-22T02:55:54.521748Z",
     "shell.execute_reply.started": "2021-12-22T02:44:28.648217Z"
    },
    "papermill": {
     "duration": 0.019955,
     "end_time": "2021-12-22T02:55:54.522287",
     "exception": false,
     "start_time": "2021-12-22T02:55:54.502332",
     "status": "completed"
    },
    "tags": []
   },
   "outputs": [],
   "source": [
    "class Config:\n",
    "    def __init__(self):\n",
    "        self.MAX_LEN = 128\n",
    "        self.MAX_WORD_LEN = 100\n",
    "        self.TRAIN_BATCH_SIZE = 8\n",
    "        self.VALID_BATCH_SIZE = 8\n",
    "        self.EPOCHS = 5\n",
    "        self.BASE_MODEL_PATH = \"../input/bert-base-uncased\"\n",
    "        self.MODEL_PATH = \"./model.bin\"\n",
    "        self.TRAINING_FILE = \"../input/ner-dataset/ner_dataset.csv\"\n",
    "        \n",
    "\n",
    "config = Config()"
   ]
  },
  {
   "cell_type": "code",
   "execution_count": 5,
   "id": "c1688289",
   "metadata": {
    "execution": {
     "iopub.execute_input": "2021-12-22T02:55:54.566553Z",
     "iopub.status.busy": "2021-12-22T02:55:54.555049Z",
     "iopub.status.idle": "2021-12-22T03:02:09.527694Z",
     "shell.execute_reply": "2021-12-22T03:02:09.526854Z",
     "shell.execute_reply.started": "2021-12-22T02:44:28.658401Z"
    },
    "papermill": {
     "duration": 374.993094,
     "end_time": "2021-12-22T03:02:09.527827",
     "exception": false,
     "start_time": "2021-12-22T02:55:54.534733",
     "status": "completed"
    },
    "tags": []
   },
   "outputs": [
    {
     "name": "stdout",
     "output_type": "stream",
     "text": [
      "finish create dictionary\n",
      "finish char_tokens\n",
      "[2. 3. 4. ... 0. 0. 0.]\n"
     ]
    }
   ],
   "source": [
    "def process_data(data_path):\n",
    "    df = pd.read_csv(data_path,encoding='latin-1')\n",
    "    df.loc[:,\"Sentence #\"] = df[\"Sentence #\"].fillna(method=\"ffill\")\n",
    "\n",
    "    sentences = df.groupby(\"Sentence #\")[\"Word\"].apply(list).values \n",
    "    tag = df.groupby(\"Sentence #\")[\"Tag\"].apply(list).values\n",
    "    \n",
    "    vocab_dict = {'_unk_': 1, '_w_pad_': 0}\n",
    "    tag_dict = {'_t_pad_': 0}\n",
    "    char_dict = {'_unk_': 1, '_c_pad_': 0}\n",
    "    \n",
    "    # add padding token to sentence, and build vocab dict\n",
    "    padded_sents = []\n",
    "    char_sents = []\n",
    "    \n",
    "    for sent in sentences:\n",
    "        padded_sent = []\n",
    "        char_sent = []\n",
    "        for word in sent:\n",
    "            padded_sent.append(word)\n",
    "            char_word = []\n",
    "            if word not in vocab_dict:\n",
    "                vocab_dict[word] = len(vocab_dict)\n",
    "            for c in word:\n",
    "                char_word.append(c)\n",
    "                if c not in char_dict:\n",
    "                    char_dict[c] = len(char_dict)\n",
    "            if len(char_word) < config.MAX_WORD_LEN:\n",
    "                added_len = config.MAX_WORD_LEN - len(char_word)\n",
    "                char_word += ['_c_pad_'] * added_len\n",
    "            assert len(char_word) == config.MAX_WORD_LEN\n",
    "            char_sent.extend(char_word)\n",
    "                \n",
    "        if len(padded_sent) < config.MAX_LEN:\n",
    "            added_len = config.MAX_LEN - len(padded_sent)\n",
    "            padded_sent += ['_w_pad_'] * added_len\n",
    "            char_sent += ['_c_pad_'] * (config.MAX_WORD_LEN * added_len)\n",
    "        assert len(padded_sent) == config.MAX_LEN\n",
    "        assert len(char_sent) == config.MAX_LEN*config.MAX_WORD_LEN\n",
    "        padded_sents.append(padded_sent)\n",
    "        char_sents.append(char_sent)\n",
    "        \n",
    "    assert len(char_sents) == len(padded_sents)\n",
    "    # do the same with tag\n",
    "    tag_seqs = []\n",
    "    for tag_seq in tag:\n",
    "        padded_tags = []\n",
    "        for tag_item in tag_seq:\n",
    "            padded_tags.append(tag_item)\n",
    "            if tag_item not in tag_dict:\n",
    "                tag_dict[tag_item] = len(tag_dict)\n",
    "        if len(padded_tags) < config.MAX_LEN:\n",
    "            added_len = config.MAX_LEN - len(padded_tags)\n",
    "            padded_tags += ['_t_pad_']*added_len\n",
    "        assert len(padded_tags) == config.MAX_LEN\n",
    "        tag_seqs.append(padded_tags)\n",
    "        \n",
    "    word2idx = vocab_dict\n",
    "    char2idx = char_dict\n",
    "    tag2idx = tag_dict\n",
    "    \n",
    "    print(\"finish create dictionary\")\n",
    "    \n",
    "    sent_tokens = np.array([[word2idx[w] for w in doc] for doc in padded_sents])\n",
    "    num_sents = len(char_sents)\n",
    "#     char_tokens = np.array([[[char2idx[c] for c in w] for w in doc] for doc in char_sents])\n",
    "    char_tokens = np.zeros((num_sents, config.MAX_LEN * config.MAX_WORD_LEN))\n",
    "    for i in range(num_sents):\n",
    "        doc = char_sents[i]\n",
    "        for j in range(config.MAX_LEN * config.MAX_WORD_LEN):\n",
    "            char_tokens[i][j] = char2idx[doc[j]]\n",
    "    print(\"finish char_tokens\")\n",
    "    print(char_tokens[0])\n",
    "    tag_tokens = [[tag2idx[t] for t in t_seq] for t_seq in tag_seqs]\n",
    "    tag_tokens = np.array([to_categorical(t_seq, num_classes=len(tag_dict)) for t_seq in tag_tokens])\n",
    "    \n",
    "    return sent_tokens, char_tokens, tag_tokens, word2idx, char2idx, tag2idx\n",
    "\n",
    "if __name__ == '__main__':\n",
    "    sent_tokens, char_tokens, tag_tokens, word2idx, char2idx, tag2idx = process_data(config.TRAINING_FILE)\n",
    "    idx2word = {v:k for k,v in word2idx.items()}\n",
    "    idx2tag = {v:k for k,v in tag2idx.items()} "
   ]
  },
  {
   "cell_type": "code",
   "execution_count": 6,
   "id": "c1efd04e",
   "metadata": {
    "execution": {
     "iopub.execute_input": "2021-12-22T03:02:09.561036Z",
     "iopub.status.busy": "2021-12-22T03:02:09.559030Z",
     "iopub.status.idle": "2021-12-22T03:02:09.693798Z",
     "shell.execute_reply": "2021-12-22T03:02:09.694193Z",
     "shell.execute_reply.started": "2021-12-22T02:50:51.706915Z"
    },
    "papermill": {
     "duration": 0.153681,
     "end_time": "2021-12-22T03:02:09.694381",
     "exception": false,
     "start_time": "2021-12-22T03:02:09.540700",
     "status": "completed"
    },
    "tags": []
   },
   "outputs": [],
   "source": [
    "(\n",
    "        train_tokens, \n",
    "        val_tokens, \n",
    "        train_tags,\n",
    "        val_tags\n",
    "     ) = model_selection.train_test_split(sent_tokens, tag_tokens,random_state = 42,test_size = 0.2)\n",
    "\n"
   ]
  },
  {
   "cell_type": "code",
   "execution_count": 7,
   "id": "cfe71f66",
   "metadata": {
    "execution": {
     "iopub.execute_input": "2021-12-22T03:02:09.734438Z",
     "iopub.status.busy": "2021-12-22T03:02:09.733859Z",
     "iopub.status.idle": "2021-12-22T03:02:09.737625Z",
     "shell.execute_reply": "2021-12-22T03:02:09.736891Z",
     "shell.execute_reply.started": "2021-12-22T02:50:51.837703Z"
    },
    "papermill": {
     "duration": 0.030316,
     "end_time": "2021-12-22T03:02:09.737737",
     "exception": false,
     "start_time": "2021-12-22T03:02:09.707421",
     "status": "completed"
    },
    "tags": []
   },
   "outputs": [],
   "source": [
    "def build_model(max_sent_length, vocab_size, hidden_size, embedding_size, \n",
    "                output_size, learning_rate,num_mlp_layers,activation,dropout_rate):\n",
    "    \n",
    "    \n",
    "    inputs = Input(shape=(max_sent_length,), dtype='int32')\n",
    "    emb = Embedding(input_dim=vocab_size,\n",
    "                    output_dim=embedding_size,\n",
    "                    input_length=max_sent_length,\n",
    "                    embeddings_initializer=keras.initializers.TruncatedNormal(mean=0.0, stddev=0.1, seed=0))(inputs)\n",
    "    \n",
    "    bilstm_layer_1 = Bidirectional(LSTM(hidden_size,\n",
    "                   kernel_initializer=keras.initializers.glorot_uniform(seed=0),\n",
    "                   recurrent_initializer=keras.initializers.Orthogonal(gain=1.0, seed=0),\n",
    "                   return_sequences=True))(emb)\n",
    "    bilstm_layer_1_dropout = Dropout(dropout_rate, seed=0)(bilstm_layer_1)\n",
    "    bilstm_layer_2 = Bidirectional(LSTM(hidden_size,\n",
    "                   kernel_initializer=keras.initializers.glorot_uniform(seed=0),\n",
    "                   recurrent_initializer=keras.initializers.Orthogonal(gain=1.0, seed=0),\n",
    "                   return_sequences=True))(bilstm_layer_1_dropout)\n",
    "    bilstm_layer_2_dropout = Dropout(dropout_rate, seed=0)(bilstm_layer_2)\n",
    "\n",
    "    bilstm_layer_3 = Bidirectional(LSTM(hidden_size,\n",
    "                   kernel_initializer=keras.initializers.glorot_uniform(seed=0),\n",
    "                   recurrent_initializer=keras.initializers.Orthogonal(gain=1.0, seed=0),\n",
    "                   return_sequences=True))(bilstm_layer_2_dropout)\n",
    "    bilstm_layer_3_dropout = Dropout(dropout_rate, seed=0)(bilstm_layer_3)\n",
    "\n",
    "    bilstm_layer_4 = Bidirectional(LSTM(hidden_size,\n",
    "                   kernel_initializer=keras.initializers.glorot_uniform(seed=0),\n",
    "                   recurrent_initializer=keras.initializers.Orthogonal(gain=1.0, seed=0),\n",
    "                   return_sequences=True))(bilstm_layer_3_dropout)\n",
    "    bilstm_layer_4_dropout = Dropout(dropout_rate, seed=0)(bilstm_layer_4)\n",
    "    \n",
    "    h = bilstm_layer_4_dropout\n",
    "    \n",
    "    for i in range(num_mlp_layers-1):\n",
    "        new_h = Dense(hidden_size,\n",
    "                      kernel_initializer=keras.initializers.he_normal(seed=0),\n",
    "                      bias_initializer=\"zeros\",\n",
    "                      kernel_regularizer=keras.regularizers.l2(0.0))(h)\n",
    "        # add batch normalization layer\n",
    "        new_h = BatchNormalization()(new_h)\n",
    "        # add residual connection\n",
    "        if i == 0:\n",
    "            h = new_h\n",
    "        else:\n",
    "            h = Add()([h, new_h])\n",
    "        # add activation\n",
    "        h = Activation(activation)(h)\n",
    "    dense = Dense(output_size,\n",
    "              activation=\"softmax\",\n",
    "              kernel_initializer=keras.initializers.he_normal(seed=0),\n",
    "              bias_initializer=\"zeros\")(h)\n",
    "    \n",
    "    model = Model(inputs, dense)\n",
    "    model.compile(loss=\"categorical_crossentropy\", optimizer=\"Adam\", metrics=[\"accuracy\"])\n",
    "                                 \n",
    "    return model"
   ]
  },
  {
   "cell_type": "code",
   "execution_count": 8,
   "id": "80b39bac",
   "metadata": {
    "execution": {
     "iopub.execute_input": "2021-12-22T03:02:09.778699Z",
     "iopub.status.busy": "2021-12-22T03:02:09.778107Z",
     "iopub.status.idle": "2021-12-22T03:02:09.781854Z",
     "shell.execute_reply": "2021-12-22T03:02:09.781439Z",
     "shell.execute_reply.started": "2021-12-22T02:50:51.854130Z"
    },
    "papermill": {
     "duration": 0.031532,
     "end_time": "2021-12-22T03:02:09.781971",
     "exception": false,
     "start_time": "2021-12-22T03:02:09.750439",
     "status": "completed"
    },
    "tags": []
   },
   "outputs": [],
   "source": [
    "import csv\n",
    "from pathlib import Path\n",
    "\n",
    "checkpointer = keras.callbacks.ModelCheckpoint(\n",
    "    filepath=os.path.join(\"models\", \"LSTM_CRF.hdf5\"),\n",
    "    monitor=\"val_accuracy\",\n",
    "    verbose=0,\n",
    "    save_best_only=True)\n",
    "\n",
    "class StepLogCallback(keras.callbacks.Callback):\n",
    "    def __init__(self):\n",
    "        self.count = 0\n",
    "        self.step_log = []\n",
    "        self.log_fpath = Path('./step_log.csv')\n",
    "    \n",
    "    def on_train_batch_end(self, batch, logs=None):\n",
    "        self.count += 1\n",
    "        self.step_log.append([self.count, logs['loss'], logs['accuracy']])\n",
    "    \n",
    "    def on_epoch_end(self, epoch, logs=None):\n",
    "        log_exists = self.log_fpath.exists()\n",
    "        with open(self.log_fpath, 'a' if log_exists else 'w', newline='') as csvfile:\n",
    "            writer = csv.writer(csvfile)\n",
    "            if not log_exists:\n",
    "                writer.writerow(['step','loss','accuracy'])\n",
    "            for log in self.step_log:\n",
    "                writer.writerow(log)\n",
    "            self.step_log.clear()\n",
    "\n",
    "class TestCallback(keras.callbacks.Callback):\n",
    "    def __init__(self, test_data, ground_file, model):\n",
    "        self.count = 0\n",
    "        self.test_data = test_data\n",
    "        self.model = model\n",
    "        self.ground_file = ground_file\n",
    "        self.epoch_log = []\n",
    "        self.log_fpath = Path('./epoch_log.csv')\n",
    "        \n",
    "    def calc_accuracy(self, preds, tags, padding_id=\"_t_pad_\"):\n",
    "        preds_flatten = preds.flatten()\n",
    "        tags_flatten = tags.flatten()\n",
    "        non_padding_idx = np.where(tags_flatten!=padding_id)[0]\n",
    "        return sum(preds_flatten[non_padding_idx]==tags_flatten[non_padding_idx])/len(non_padding_idx)\n",
    "        \n",
    "    def on_epoch_end(self, epoch, logs=None):\n",
    "        val_preds_numerical = self.model.predict(self.test_data)\n",
    "        val_preds = np.array([[idx2tag[p] for p in preds] for preds in np.argmax(val_preds_numerical,axis=2)])\n",
    "        file_dict = pkl.load(open(self.ground_file, \"rb\"))\n",
    "        val_accuracy = self.calc_accuracy(val_preds, np.array(file_dict[\"tag_seq\"]))\n",
    "        \n",
    "        print('\\nValidation Set Accuracy: %f\\n' % val_accuracy)\n",
    "        \n",
    "        self.count += 1\n",
    "        log_exists = self.log_fpath.exists()\n",
    "        with open(self.log_fpath, 'a' if log_exists else 'w', newline='') as csvfile:\n",
    "            writer = csv.writer(csvfile)\n",
    "            if not log_exists:\n",
    "                writer.writerow(['epoch','loss','train_accuracy','val_accuracy'])\n",
    "            writer.writerow([self.count, logs['loss'], logs['accuracy'], val_accuracy])\n",
    "            self.epoch_log.clear()"
   ]
  },
  {
   "cell_type": "code",
   "execution_count": 9,
   "id": "121ad814",
   "metadata": {
    "execution": {
     "iopub.execute_input": "2021-12-22T03:02:09.812304Z",
     "iopub.status.busy": "2021-12-22T03:02:09.811525Z",
     "iopub.status.idle": "2021-12-22T03:02:09.813937Z",
     "shell.execute_reply": "2021-12-22T03:02:09.813513Z",
     "shell.execute_reply.started": "2021-12-22T02:50:51.872987Z"
    },
    "papermill": {
     "duration": 0.019302,
     "end_time": "2021-12-22T03:02:09.814041",
     "exception": false,
     "start_time": "2021-12-22T03:02:09.794739",
     "status": "completed"
    },
    "tags": []
   },
   "outputs": [],
   "source": [
    "input_length = config.MAX_LEN\n",
    "vocab_size = len(word2idx)\n",
    "hidden_size = 100\n",
    "embedding_size = 300\n",
    "output_size = train_tags.shape[2]\n",
    "learning_rate = 0.0001\n",
    "num_mlp_layers = 3\n",
    "activation = \"tanh\"\n",
    "dropout_rate = 0.5"
   ]
  },
  {
   "cell_type": "code",
   "execution_count": 10,
   "id": "70ecf2e6",
   "metadata": {
    "execution": {
     "iopub.execute_input": "2021-12-22T03:02:09.845864Z",
     "iopub.status.busy": "2021-12-22T03:02:09.845356Z",
     "iopub.status.idle": "2021-12-22T03:02:15.842081Z",
     "shell.execute_reply": "2021-12-22T03:02:15.842952Z",
     "shell.execute_reply.started": "2021-12-22T02:50:51.885497Z"
    },
    "papermill": {
     "duration": 6.016567,
     "end_time": "2021-12-22T03:02:15.843151",
     "exception": false,
     "start_time": "2021-12-22T03:02:09.826584",
     "status": "completed"
    },
    "tags": []
   },
   "outputs": [
    {
     "name": "stderr",
     "output_type": "stream",
     "text": [
      "2021-12-22 03:02:09.932424: I tensorflow/stream_executor/cuda/cuda_gpu_executor.cc:937] successful NUMA node read from SysFS had negative value (-1), but there must be at least one NUMA node, so returning NUMA node zero\n",
      "2021-12-22 03:02:09.933501: I tensorflow/stream_executor/cuda/cuda_gpu_executor.cc:937] successful NUMA node read from SysFS had negative value (-1), but there must be at least one NUMA node, so returning NUMA node zero\n",
      "2021-12-22 03:02:09.934140: I tensorflow/stream_executor/cuda/cuda_gpu_executor.cc:937] successful NUMA node read from SysFS had negative value (-1), but there must be at least one NUMA node, so returning NUMA node zero\n",
      "2021-12-22 03:02:09.934987: I tensorflow/core/platform/cpu_feature_guard.cc:142] This TensorFlow binary is optimized with oneAPI Deep Neural Network Library (oneDNN) to use the following CPU instructions in performance-critical operations:  AVX2 AVX512F FMA\n",
      "To enable them in other operations, rebuild TensorFlow with the appropriate compiler flags.\n",
      "2021-12-22 03:02:09.936561: I tensorflow/stream_executor/cuda/cuda_gpu_executor.cc:937] successful NUMA node read from SysFS had negative value (-1), but there must be at least one NUMA node, so returning NUMA node zero\n",
      "2021-12-22 03:02:09.937225: I tensorflow/stream_executor/cuda/cuda_gpu_executor.cc:937] successful NUMA node read from SysFS had negative value (-1), but there must be at least one NUMA node, so returning NUMA node zero\n",
      "2021-12-22 03:02:09.937865: I tensorflow/stream_executor/cuda/cuda_gpu_executor.cc:937] successful NUMA node read from SysFS had negative value (-1), but there must be at least one NUMA node, so returning NUMA node zero\n",
      "2021-12-22 03:02:14.055571: I tensorflow/stream_executor/cuda/cuda_gpu_executor.cc:937] successful NUMA node read from SysFS had negative value (-1), but there must be at least one NUMA node, so returning NUMA node zero\n",
      "2021-12-22 03:02:14.056343: I tensorflow/stream_executor/cuda/cuda_gpu_executor.cc:937] successful NUMA node read from SysFS had negative value (-1), but there must be at least one NUMA node, so returning NUMA node zero\n",
      "2021-12-22 03:02:14.056987: I tensorflow/stream_executor/cuda/cuda_gpu_executor.cc:937] successful NUMA node read from SysFS had negative value (-1), but there must be at least one NUMA node, so returning NUMA node zero\n",
      "2021-12-22 03:02:14.057629: I tensorflow/core/common_runtime/gpu/gpu_device.cc:1510] Created device /job:localhost/replica:0/task:0/device:GPU:0 with 14959 MB memory:  -> device: 0, name: Tesla P100-PCIE-16GB, pci bus id: 0000:00:04.0, compute capability: 6.0\n"
     ]
    },
    {
     "name": "stdout",
     "output_type": "stream",
     "text": [
      "Model: \"model\"\n",
      "__________________________________________________________________________________________________\n",
      "Layer (type)                    Output Shape         Param #     Connected to                     \n",
      "==================================================================================================\n",
      "input_1 (InputLayer)            [(None, 128)]        0                                            \n",
      "__________________________________________________________________________________________________\n",
      "embedding (Embedding)           (None, 128, 300)     10554000    input_1[0][0]                    \n",
      "__________________________________________________________________________________________________\n",
      "bidirectional (Bidirectional)   (None, 128, 200)     320800      embedding[0][0]                  \n",
      "__________________________________________________________________________________________________\n",
      "dropout (Dropout)               (None, 128, 200)     0           bidirectional[0][0]              \n",
      "__________________________________________________________________________________________________\n",
      "bidirectional_1 (Bidirectional) (None, 128, 200)     240800      dropout[0][0]                    \n",
      "__________________________________________________________________________________________________\n",
      "dropout_1 (Dropout)             (None, 128, 200)     0           bidirectional_1[0][0]            \n",
      "__________________________________________________________________________________________________\n",
      "bidirectional_2 (Bidirectional) (None, 128, 200)     240800      dropout_1[0][0]                  \n",
      "__________________________________________________________________________________________________\n",
      "dropout_2 (Dropout)             (None, 128, 200)     0           bidirectional_2[0][0]            \n",
      "__________________________________________________________________________________________________\n",
      "bidirectional_3 (Bidirectional) (None, 128, 200)     240800      dropout_2[0][0]                  \n",
      "__________________________________________________________________________________________________\n",
      "dropout_3 (Dropout)             (None, 128, 200)     0           bidirectional_3[0][0]            \n",
      "__________________________________________________________________________________________________\n",
      "dense (Dense)                   (None, 128, 100)     20100       dropout_3[0][0]                  \n",
      "__________________________________________________________________________________________________\n",
      "batch_normalization (BatchNorma (None, 128, 100)     400         dense[0][0]                      \n",
      "__________________________________________________________________________________________________\n",
      "activation (Activation)         (None, 128, 100)     0           batch_normalization[0][0]        \n",
      "__________________________________________________________________________________________________\n",
      "dense_1 (Dense)                 (None, 128, 100)     10100       activation[0][0]                 \n",
      "__________________________________________________________________________________________________\n",
      "batch_normalization_1 (BatchNor (None, 128, 100)     400         dense_1[0][0]                    \n",
      "__________________________________________________________________________________________________\n",
      "add (Add)                       (None, 128, 100)     0           activation[0][0]                 \n",
      "                                                                 batch_normalization_1[0][0]      \n",
      "__________________________________________________________________________________________________\n",
      "activation_1 (Activation)       (None, 128, 100)     0           add[0][0]                        \n",
      "__________________________________________________________________________________________________\n",
      "dense_2 (Dense)                 (None, 128, 18)      1818        activation_1[0][0]               \n",
      "==================================================================================================\n",
      "Total params: 11,630,018\n",
      "Trainable params: 11,629,618\n",
      "Non-trainable params: 400\n",
      "__________________________________________________________________________________________________\n"
     ]
    }
   ],
   "source": [
    "np.random.seed(0)\n",
    "tf.random.set_seed(0)\n",
    "model = build_model(input_length, vocab_size, hidden_size, embedding_size, \n",
    "                    output_size, learning_rate, num_mlp_layers, activation, dropout_rate)\n",
    "model.summary()"
   ]
  },
  {
   "cell_type": "code",
   "execution_count": 11,
   "id": "02caf2e8",
   "metadata": {
    "execution": {
     "iopub.execute_input": "2021-12-22T03:02:15.875445Z",
     "iopub.status.busy": "2021-12-22T03:02:15.874849Z",
     "iopub.status.idle": "2021-12-22T03:02:15.878533Z",
     "shell.execute_reply": "2021-12-22T03:02:15.878069Z",
     "shell.execute_reply.started": "2021-12-22T02:50:58.022393Z"
    },
    "papermill": {
     "duration": 0.02129,
     "end_time": "2021-12-22T03:02:15.878646",
     "exception": false,
     "start_time": "2021-12-22T03:02:15.857356",
     "status": "completed"
    },
    "tags": []
   },
   "outputs": [],
   "source": [
    "from keras.callbacks import CSVLogger\n",
    "csv_logger = CSVLogger('rnn-ner-training.log', append=False)\n",
    "earlystopping = keras.callbacks.EarlyStopping(\n",
    "    monitor='val_loss',\n",
    "    patience=5,\n",
    "    verbose=0)"
   ]
  },
  {
   "cell_type": "code",
   "execution_count": 12,
   "id": "ab011717",
   "metadata": {
    "execution": {
     "iopub.execute_input": "2021-12-22T03:02:15.911305Z",
     "iopub.status.busy": "2021-12-22T03:02:15.910526Z",
     "iopub.status.idle": "2021-12-22T03:13:48.302383Z",
     "shell.execute_reply": "2021-12-22T03:13:48.301775Z"
    },
    "papermill": {
     "duration": 692.410547,
     "end_time": "2021-12-22T03:13:48.302544",
     "exception": false,
     "start_time": "2021-12-22T03:02:15.891997",
     "status": "completed"
    },
    "tags": []
   },
   "outputs": [
    {
     "name": "stderr",
     "output_type": "stream",
     "text": [
      "2021-12-22 03:02:16.792799: W tensorflow/core/framework/cpu_allocator_impl.cc:80] Allocation of 353590272 exceeds 10% of free system memory.\n",
      "2021-12-22 03:02:17.072809: W tensorflow/core/framework/cpu_allocator_impl.cc:80] Allocation of 39287808 exceeds 10% of free system memory.\n",
      "2021-12-22 03:02:17.093055: W tensorflow/core/framework/cpu_allocator_impl.cc:80] Allocation of 353590272 exceeds 10% of free system memory.\n",
      "2021-12-22 03:02:17.186496: I tensorflow/compiler/mlir/mlir_graph_optimization_pass.cc:185] None of the MLIR Optimization Passes are enabled (registered 2)\n"
     ]
    },
    {
     "name": "stdout",
     "output_type": "stream",
     "text": [
      "Epoch 1/20\n"
     ]
    },
    {
     "name": "stderr",
     "output_type": "stream",
     "text": [
      "2021-12-22 03:02:27.213447: I tensorflow/stream_executor/cuda/cuda_dnn.cc:369] Loaded cuDNN version 8005\n"
     ]
    },
    {
     "name": "stdout",
     "output_type": "stream",
     "text": [
      "300/300 [==============================] - ETA: 0s - loss: 0.2102 - accuracy: 0.9577"
     ]
    },
    {
     "name": "stderr",
     "output_type": "stream",
     "text": [
      "2021-12-22 03:02:58.814275: W tensorflow/core/framework/cpu_allocator_impl.cc:80] Allocation of 88399872 exceeds 10% of free system memory.\n"
     ]
    },
    {
     "name": "stdout",
     "output_type": "stream",
     "text": [
      "300/300 [==============================] - 47s 118ms/step - loss: 0.2102 - accuracy: 0.9577 - val_loss: 0.1271 - val_accuracy: 0.9737\n"
     ]
    },
    {
     "name": "stderr",
     "output_type": "stream",
     "text": [
      "/opt/conda/lib/python3.7/site-packages/keras/utils/generic_utils.py:497: CustomMaskWarning: Custom mask layers require a config and must override get_config. When loading, the custom mask layer must be passed to the custom_objects argument.\n",
      "  category=CustomMaskWarning)\n",
      "2021-12-22 03:03:04.491928: W tensorflow/core/framework/cpu_allocator_impl.cc:80] Allocation of 42216000 exceeds 10% of free system memory.\n"
     ]
    },
    {
     "name": "stdout",
     "output_type": "stream",
     "text": [
      "Epoch 2/20\n",
      "300/300 [==============================] - 33s 111ms/step - loss: 0.1256 - accuracy: 0.9738 - val_loss: 0.1206 - val_accuracy: 0.9737\n",
      "Epoch 3/20\n",
      "300/300 [==============================] - 33s 110ms/step - loss: 0.0938 - accuracy: 0.9760 - val_loss: 0.0568 - val_accuracy: 0.9819\n",
      "Epoch 4/20\n",
      "300/300 [==============================] - 33s 110ms/step - loss: 0.0473 - accuracy: 0.9850 - val_loss: 0.0386 - val_accuracy: 0.9885\n",
      "Epoch 5/20\n",
      "300/300 [==============================] - 33s 110ms/step - loss: 0.0315 - accuracy: 0.9909 - val_loss: 0.0306 - val_accuracy: 0.9915\n",
      "Epoch 6/20\n",
      "300/300 [==============================] - 33s 110ms/step - loss: 0.0233 - accuracy: 0.9937 - val_loss: 0.0256 - val_accuracy: 0.9930\n",
      "Epoch 7/20\n",
      "300/300 [==============================] - 33s 110ms/step - loss: 0.0187 - accuracy: 0.9950 - val_loss: 0.0244 - val_accuracy: 0.9935\n",
      "Epoch 8/20\n",
      "300/300 [==============================] - 33s 110ms/step - loss: 0.0158 - accuracy: 0.9958 - val_loss: 0.0245 - val_accuracy: 0.9934\n",
      "Epoch 9/20\n",
      "300/300 [==============================] - 33s 111ms/step - loss: 0.0138 - accuracy: 0.9963 - val_loss: 0.0241 - val_accuracy: 0.9939\n",
      "Epoch 10/20\n",
      "300/300 [==============================] - 33s 110ms/step - loss: 0.0121 - accuracy: 0.9968 - val_loss: 0.0244 - val_accuracy: 0.9938\n",
      "Epoch 11/20\n",
      "300/300 [==============================] - 33s 110ms/step - loss: 0.0109 - accuracy: 0.9971 - val_loss: 0.0249 - val_accuracy: 0.9938\n",
      "Epoch 12/20\n",
      "300/300 [==============================] - 33s 110ms/step - loss: 0.0098 - accuracy: 0.9974 - val_loss: 0.0261 - val_accuracy: 0.9938\n",
      "Epoch 13/20\n",
      "300/300 [==============================] - 33s 110ms/step - loss: 0.0087 - accuracy: 0.9977 - val_loss: 0.0271 - val_accuracy: 0.9936\n",
      "Epoch 14/20\n",
      "300/300 [==============================] - 33s 110ms/step - loss: 0.0078 - accuracy: 0.9979 - val_loss: 0.0282 - val_accuracy: 0.9937\n",
      "Epoch 15/20\n",
      "300/300 [==============================] - 33s 110ms/step - loss: 0.0072 - accuracy: 0.9981 - val_loss: 0.0289 - val_accuracy: 0.9937\n",
      "Epoch 16/20\n",
      "300/300 [==============================] - 33s 110ms/step - loss: 0.0066 - accuracy: 0.9982 - val_loss: 0.0302 - val_accuracy: 0.9936\n",
      "Epoch 17/20\n",
      "300/300 [==============================] - 33s 110ms/step - loss: 0.0061 - accuracy: 0.9983 - val_loss: 0.0302 - val_accuracy: 0.9938\n",
      "Epoch 18/20\n",
      "300/300 [==============================] - 33s 111ms/step - loss: 0.0055 - accuracy: 0.9985 - val_loss: 0.0321 - val_accuracy: 0.9936\n",
      "Epoch 19/20\n",
      "300/300 [==============================] - 33s 110ms/step - loss: 0.0049 - accuracy: 0.9987 - val_loss: 0.0329 - val_accuracy: 0.9936\n",
      "Epoch 20/20\n",
      "300/300 [==============================] - 33s 110ms/step - loss: 0.0046 - accuracy: 0.9988 - val_loss: 0.0346 - val_accuracy: 0.9933\n"
     ]
    }
   ],
   "source": [
    "!rm -f *.csv\n",
    "history = model.fit(train_tokens, train_tags,\n",
    "                    batch_size=128, epochs=20, validation_data = (val_tokens, val_tags),\n",
    "                    callbacks=[checkpointer,csv_logger])"
   ]
  },
  {
   "cell_type": "code",
   "execution_count": 13,
   "id": "098b401f",
   "metadata": {
    "execution": {
     "iopub.execute_input": "2021-12-22T03:13:51.617330Z",
     "iopub.status.busy": "2021-12-22T03:13:51.614144Z",
     "iopub.status.idle": "2021-12-22T03:13:51.924390Z",
     "shell.execute_reply": "2021-12-22T03:13:51.924776Z"
    },
    "papermill": {
     "duration": 1.993173,
     "end_time": "2021-12-22T03:13:51.924928",
     "exception": false,
     "start_time": "2021-12-22T03:13:49.931755",
     "status": "completed"
    },
    "tags": []
   },
   "outputs": [
    {
     "data": {
      "image/png": "[encoded data removed]",
      "text/plain": [
       "<Figure size 720x288 with 2 Axes>"
      ]
     },
     "metadata": {
      "needs_background": "light"
     },
     "output_type": "display_data"
    }
   ],
   "source": [
    "import matplotlib.pyplot as plt\n",
    "plt.figure(figsize=(10,4))\n",
    "plt.suptitle(\"BiLTSM_char_emb - learning_rate=0.0001\", fontsize=16)\n",
    "plt.subplot(1,2,1)\n",
    "plt.plot(history.history[\"loss\"], label=\"training\", color=\"blue\", linestyle=\"dashed\")\n",
    "plt.plot(history.history[\"val_loss\"], label=\"validation\", color=\"orange\")\n",
    "plt.xticks((0,5,10,15,20))\n",
    "plt.xlabel(\"Epoch\")\n",
    "plt.ylabel(\"Loss\")\n",
    "plt.legend()\n",
    "plt.subplot(1,2,2)\n",
    "plt.plot(history.history[\"accuracy\"], label=\"training\", color=\"blue\", linestyle=\"dashed\")\n",
    "plt.plot(history.history[\"val_accuracy\"], label=\"validation\", color=\"orange\")\n",
    "plt.xticks((0,5,10,15,20))\n",
    "plt.xlabel(\"Epoch\")\n",
    "plt.ylabel(\"Accuracy\")\n",
    "plt.legend()\n",
    "plt.show()"
   ]
  },
  {
   "cell_type": "code",
   "execution_count": 14,
   "id": "2f262682",
   "metadata": {
    "execution": {
     "iopub.execute_input": "2021-12-22T03:13:55.212980Z",
     "iopub.status.busy": "2021-12-22T03:13:55.212154Z",
     "iopub.status.idle": "2021-12-22T03:13:55.477576Z",
     "shell.execute_reply": "2021-12-22T03:13:55.476540Z"
    },
    "papermill": {
     "duration": 1.882591,
     "end_time": "2021-12-22T03:13:55.477711",
     "exception": false,
     "start_time": "2021-12-22T03:13:53.595120",
     "status": "completed"
    },
    "tags": []
   },
   "outputs": [],
   "source": [
    "# save model\n",
    "model.save('models/BiLTSM_char_emb_model.h5')"
   ]
  },
  {
   "cell_type": "markdown",
   "id": "867bc800",
   "metadata": {
    "papermill": {
     "duration": 1.873357,
     "end_time": "2021-12-22T03:13:58.990842",
     "exception": false,
     "start_time": "2021-12-22T03:13:57.117485",
     "status": "completed"
    },
    "tags": []
   },
   "source": [
    "## Prediction"
   ]
  },
  {
   "cell_type": "code",
   "execution_count": 15,
   "id": "197456f8",
   "metadata": {
    "execution": {
     "iopub.execute_input": "2021-12-22T03:14:02.284684Z",
     "iopub.status.busy": "2021-12-22T03:14:02.281178Z",
     "iopub.status.idle": "2021-12-22T03:14:04.131227Z",
     "shell.execute_reply": "2021-12-22T03:14:04.130339Z"
    },
    "papermill": {
     "duration": 3.474571,
     "end_time": "2021-12-22T03:14:04.131364",
     "exception": false,
     "start_time": "2021-12-22T03:14:00.656793",
     "status": "completed"
    },
    "tags": []
   },
   "outputs": [],
   "source": [
    "model =  keras.models.load_model('models/BiLTSM_char_emb_model.h5')\n"
   ]
  },
  {
   "cell_type": "code",
   "execution_count": 16,
   "id": "4c9f9ef3",
   "metadata": {
    "execution": {
     "iopub.execute_input": "2021-12-22T03:14:07.380543Z",
     "iopub.status.busy": "2021-12-22T03:14:07.379951Z",
     "iopub.status.idle": "2021-12-22T03:14:09.672078Z",
     "shell.execute_reply": "2021-12-22T03:14:09.671259Z"
    },
    "papermill": {
     "duration": 3.933637,
     "end_time": "2021-12-22T03:14:09.672258",
     "exception": false,
     "start_time": "2021-12-22T03:14:05.738621",
     "status": "completed"
    },
    "tags": []
   },
   "outputs": [
    {
     "name": "stdout",
     "output_type": "stream",
     "text": [
      "(1, 128)\n",
      "['O' 'O' 'B-org' 'O' 'O' 'O' 'O' 'O' 'O' 'O' 'B-org' 'O' 'O' 'O' 'B-tim'\n",
      " 'I-tim' '_t_pad_' '_t_pad_' '_t_pad_' '_t_pad_' '_t_pad_' '_t_pad_'\n",
      " '_t_pad_' '_t_pad_' '_t_pad_' '_t_pad_' '_t_pad_' '_t_pad_' '_t_pad_'\n",
      " '_t_pad_' '_t_pad_' '_t_pad_' '_t_pad_' '_t_pad_' '_t_pad_' '_t_pad_'\n",
      " '_t_pad_' '_t_pad_' '_t_pad_' '_t_pad_' '_t_pad_' '_t_pad_' '_t_pad_'\n",
      " '_t_pad_' '_t_pad_' '_t_pad_' '_t_pad_' '_t_pad_' '_t_pad_' '_t_pad_'\n",
      " '_t_pad_' '_t_pad_' '_t_pad_' '_t_pad_' '_t_pad_' '_t_pad_' '_t_pad_'\n",
      " '_t_pad_' '_t_pad_' '_t_pad_' '_t_pad_' '_t_pad_' '_t_pad_' '_t_pad_'\n",
      " '_t_pad_' '_t_pad_' '_t_pad_' '_t_pad_' '_t_pad_' '_t_pad_' '_t_pad_'\n",
      " '_t_pad_' '_t_pad_' '_t_pad_' '_t_pad_' '_t_pad_' '_t_pad_' '_t_pad_'\n",
      " '_t_pad_' '_t_pad_' '_t_pad_' '_t_pad_' '_t_pad_' '_t_pad_' '_t_pad_'\n",
      " '_t_pad_' '_t_pad_' '_t_pad_' '_t_pad_' '_t_pad_' '_t_pad_' '_t_pad_'\n",
      " '_t_pad_' '_t_pad_' '_t_pad_' '_t_pad_' '_t_pad_' '_t_pad_' '_t_pad_'\n",
      " '_t_pad_' '_t_pad_' '_t_pad_' '_t_pad_' '_t_pad_' '_t_pad_' '_t_pad_'\n",
      " '_t_pad_' '_t_pad_' '_t_pad_' '_t_pad_' '_t_pad_' '_t_pad_' '_t_pad_'\n",
      " '_t_pad_' '_t_pad_' '_t_pad_' '_t_pad_' '_t_pad_' '_t_pad_' '_t_pad_'\n",
      " '_t_pad_' '_t_pad_' '_t_pad_' '_t_pad_' '_t_pad_' '_t_pad_' '_t_pad_'\n",
      " '_t_pad_']\n"
     ]
    }
   ],
   "source": [
    "sentence = \"HKUST honors faculty and staff members who have served the University for at least two decades.\"\n",
    "sent = sentence.split(\" \")\n",
    "encoded_sent = []\n",
    "for word in sent:\n",
    "    if word in word2idx:\n",
    "        encoded_sent.append(word2idx[word])\n",
    "    else:\n",
    "        encoded_sent.append(1)\n",
    "if len(encoded_sent) < config.MAX_LEN:\n",
    "    encoded_sent += [0]*(config.MAX_LEN - len(encoded_sent))\n",
    "assert len(encoded_sent) == config.MAX_LEN\n",
    "\n",
    "test_dataset = []\n",
    "test_dataset.append(encoded_sent)\n",
    "test_dataset = np.array(test_dataset)\n",
    "test_preds_numerical = model.predict(test_dataset)\n",
    "test_preds = np.array([[idx2tag[p] for p in preds] for preds in np.argmax(test_preds_numerical,axis=2)])\n",
    "print(test_preds.shape)\n",
    "print(test_preds[0])"
   ]
  }
 ],
 "metadata": {
  "kernelspec": {
   "display_name": "Python 3",
   "language": "python",
   "name": "python3"
  },
  "language_info": {
   "codemirror_mode": {
    "name": "ipython",
    "version": 3
   },
   "file_extension": ".py",
   "mimetype": "text/x-python",
   "name": "python",
   "nbconvert_exporter": "python",
   "pygments_lexer": "ipython3",
   "version": "3.7.12"
  },
  "papermill": {
   "default_parameters": {},
   "duration": 1116.278902,
   "end_time": "2021-12-22T03:14:14.886201",
   "environment_variables": {},
   "exception": null,
   "input_path": "__notebook__.ipynb",
   "output_path": "__notebook__.ipynb",
   "parameters": {},
   "start_time": "2021-12-22T02:55:38.607299",
   "version": "2.3.3"
  }
 },
 "nbformat": 4,
 "nbformat_minor": 5
}
