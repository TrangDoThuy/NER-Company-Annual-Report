{
 "cells": [
  {
   "cell_type": "code",
   "execution_count": 1,
   "id": "58d207bf",
   "metadata": {
    "_cell_guid": "b1076dfc-b9ad-4769-8c92-a6c4dae69d19",
    "_uuid": "8f2839f25d086af736a60e9eeb907d3b93b6e0e5",
    "execution": {
     "iopub.execute_input": "2021-12-23T06:51:52.120885Z",
     "iopub.status.busy": "2021-12-23T06:51:52.119369Z",
     "iopub.status.idle": "2021-12-23T06:51:52.147396Z",
     "shell.execute_reply": "2021-12-23T06:51:52.147804Z",
     "shell.execute_reply.started": "2021-12-16T07:30:23.485443Z"
    },
    "papermill": {
     "duration": 0.041484,
     "end_time": "2021-12-23T06:51:52.148023",
     "exception": false,
     "start_time": "2021-12-23T06:51:52.106539",
     "status": "completed"
    },
    "tags": []
   },
   "outputs": [
    {
     "name": "stdout",
     "output_type": "stream",
     "text": [
      "/kaggle/input/bert-base-uncased/config.json\n",
      "/kaggle/input/bert-base-uncased/pytorch_model.bin\n",
      "/kaggle/input/bert-base-uncased/vocab.txt\n",
      "/kaggle/input/ner-dataset/ner_dataset.csv\n"
     ]
    }
   ],
   "source": [
    "# This Python 3 environment comes with many helpful analytics libraries installed\n",
    "# It is defined by the kaggle/python Docker image: https://github.com/kaggle/docker-python\n",
    "# For example, here's several helpful packages to load\n",
    "\n",
    "import numpy as np # linear algebra\n",
    "import pandas as pd # data processing, CSV file I/O (e.g. pd.read_csv)\n",
    "\n",
    "# Input data files are available in the read-only \"../input/\" directory\n",
    "# For example, running this (by clicking run or pressing Shift+Enter) will list all files under the input directory\n",
    "\n",
    "import os\n",
    "for dirname, _, filenames in os.walk('/kaggle/input'):\n",
    "    for filename in filenames:\n",
    "        print(os.path.join(dirname, filename))\n",
    "\n",
    "# You can write up to 20GB to the current directory (/kaggle/working/) that gets preserved as output when you create a version using \"Save & Run All\" \n",
    "# You can also write temporary files to /kaggle/temp/, but they won't be saved outside of the current session"
   ]
  },
  {
   "cell_type": "markdown",
   "id": "d8e881a0",
   "metadata": {},
   "source": [
    "For running and training model, please find at https://www.kaggle.com/trangdothuy/ner-bert-crf-model"
   ]
  },
  {
   "cell_type": "code",
   "execution_count": 2,
   "id": "49ed8215",
   "metadata": {
    "execution": {
     "iopub.execute_input": "2021-12-23T06:51:52.168973Z",
     "iopub.status.busy": "2021-12-23T06:51:52.168170Z",
     "iopub.status.idle": "2021-12-23T06:52:01.315933Z",
     "shell.execute_reply": "2021-12-23T06:52:01.316511Z",
     "shell.execute_reply.started": "2021-12-16T07:30:23.502647Z"
    },
    "papermill": {
     "duration": 9.158271,
     "end_time": "2021-12-23T06:52:01.316716",
     "exception": false,
     "start_time": "2021-12-23T06:51:52.158445",
     "status": "completed"
    },
    "tags": []
   },
   "outputs": [
    {
     "name": "stdout",
     "output_type": "stream",
     "text": [
      "Collecting pytorch-crf\r\n",
      "  Downloading pytorch_crf-0.7.2-py3-none-any.whl (9.5 kB)\r\n",
      "Installing collected packages: pytorch-crf\r\n",
      "Successfully installed pytorch-crf-0.7.2\r\n",
      "\u001b[33mWARNING: Running pip as the 'root' user can result in broken permissions and conflicting behaviour with the system package manager. It is recommended to use a virtual environment instead: https://pip.pypa.io/warnings/venv\u001b[0m\r\n",
      "Note: you may need to restart the kernel to use updated packages.\n"
     ]
    }
   ],
   "source": [
    "pip install pytorch-crf"
   ]
  },
  {
   "cell_type": "code",
   "execution_count": 3,
   "id": "017b92d7",
   "metadata": {
    "execution": {
     "iopub.execute_input": "2021-12-23T06:52:01.341834Z",
     "iopub.status.busy": "2021-12-23T06:52:01.341052Z",
     "iopub.status.idle": "2021-12-23T06:52:07.601516Z",
     "shell.execute_reply": "2021-12-23T06:52:07.601040Z",
     "shell.execute_reply.started": "2021-12-16T07:30:30.491719Z"
    },
    "papermill": {
     "duration": 6.274947,
     "end_time": "2021-12-23T06:52:07.601648",
     "exception": false,
     "start_time": "2021-12-23T06:52:01.326701",
     "status": "completed"
    },
    "tags": []
   },
   "outputs": [],
   "source": [
    "import torch\n",
    "import torch.nn as nn\n",
    "from torchcrf import CRF\n",
    "from tqdm import tqdm\n",
    "import transformers \n",
    "\n",
    "import pandas as pd\n",
    "import numpy as np \n",
    "\n",
    "import joblib\n",
    "\n",
    "\n",
    "from sklearn import preprocessing\n",
    "from sklearn import model_selection\n",
    "\n",
    "from transformers import AdamW\n",
    "from transformers import get_linear_schedule_with_warmup"
   ]
  },
  {
   "cell_type": "code",
   "execution_count": 4,
   "id": "aa2daf57",
   "metadata": {
    "execution": {
     "iopub.execute_input": "2021-12-23T06:52:07.625564Z",
     "iopub.status.busy": "2021-12-23T06:52:07.624894Z",
     "iopub.status.idle": "2021-12-23T06:52:08.809308Z",
     "shell.execute_reply": "2021-12-23T06:52:08.809831Z",
     "shell.execute_reply.started": "2021-12-16T07:30:30.50569Z"
    },
    "papermill": {
     "duration": 1.199291,
     "end_time": "2021-12-23T06:52:08.810146",
     "exception": false,
     "start_time": "2021-12-23T06:52:07.610855",
     "status": "completed"
    },
    "tags": []
   },
   "outputs": [],
   "source": [
    "class Config:\n",
    "    def __init__(self):\n",
    "        self.MAX_LEN = 128\n",
    "        self.TRAIN_BATCH_SIZE = 8\n",
    "        self.VALID_BATCH_SIZE = 8\n",
    "        self.EPOCHS = 5\n",
    "        self.BASE_MODEL_PATH = \"../input/bert-base-uncased\"\n",
    "        self.MODEL_PATH = \"./model.bin\"\n",
    "        self.TRAINING_FILE = \"../input/ner-dataset/ner_dataset.csv\"\n",
    "        self.TOKENIZER = transformers.BertTokenizer.from_pretrained(\n",
    "                self.BASE_MODEL_PATH,\n",
    "                do_lower_case=True\n",
    "            )\n",
    "config = Config()"
   ]
  },
  {
   "cell_type": "code",
   "execution_count": 5,
   "id": "9616330f",
   "metadata": {
    "execution": {
     "iopub.execute_input": "2021-12-23T06:52:08.844154Z",
     "iopub.status.busy": "2021-12-23T06:52:08.843396Z",
     "iopub.status.idle": "2021-12-23T06:52:08.845827Z",
     "shell.execute_reply": "2021-12-23T06:52:08.845412Z",
     "shell.execute_reply.started": "2021-12-16T07:30:30.574387Z"
    },
    "papermill": {
     "duration": 0.025999,
     "end_time": "2021-12-23T06:52:08.845939",
     "exception": false,
     "start_time": "2021-12-23T06:52:08.819940",
     "status": "completed"
    },
    "tags": []
   },
   "outputs": [],
   "source": [
    "class EntityDataset:\n",
    "    def __init__(self,texts,tags):\n",
    "        # texts: [[\"hi\",\",\",\"I\",\"am\",\"learning\"],[\"hello\",\" \",\"nice\",\"to\",\"meet\",\"you\"]]\n",
    "        # pos/tags: [[1 2 3 4 5],[2 3 4 5 6]]\n",
    "        self.texts = texts\n",
    "        self.tags = tags\n",
    "\n",
    "    def __len__(self):\n",
    "        return len(self.texts)\n",
    "    def __getitem__(self,item):\n",
    "        text = self.texts[item]\n",
    "        tags = self.tags[item]\n",
    "\n",
    "\n",
    "        ids = []\n",
    "        target_tag = tags\n",
    "        valid_mask = []\n",
    "\n",
    "        for i,s in enumerate(text):\n",
    "            inputs = config.TOKENIZER.tokenize(s)\n",
    "            for j,token in enumerate(inputs):\n",
    "                if j == 0:\n",
    "                    valid_mask.append(1)\n",
    "                else:\n",
    "                    valid_mask.append(0)\n",
    "            # hello: he ##llo\n",
    "            ids.extend(inputs)\n",
    "            \n",
    "        ids = config.TOKENIZER.convert_tokens_to_ids(ids)\n",
    "        ids = ids[:config.MAX_LEN -2]\n",
    "        valid_mask = valid_mask[:config.MAX_LEN -2]\n",
    "        target_tag = target_tag[:config.MAX_LEN -2]\n",
    "\n",
    "        mask = [1]*len(ids)\n",
    "        mask_crf = [1]*len(ids)\n",
    "\n",
    "        ids = [101] + ids + [102]\n",
    "        target_tag = [0] + target_tag + [0]\n",
    "        valid_mask = [1] + valid_mask + [1]\n",
    "        mask = [0]+mask+[0]\n",
    "        mask_crf = [1] + mask_crf + [1]\n",
    "\n",
    "        token_type_ids = [0]*config.MAX_LEN\n",
    "\n",
    "        padding_len = config.MAX_LEN - len(ids)\n",
    "\n",
    "        ids = ids + [0]*padding_len\n",
    "        mask = mask + [0]*padding_len\n",
    "        mask_crf = mask_crf + [0]*padding_len\n",
    "        valid_mask = valid_mask + [0]*padding_len\n",
    "        \n",
    "        other_padding_len = config.MAX_LEN - len(target_tag)\n",
    "        target_tag = target_tag + [0]*other_padding_len\n",
    "\n",
    "        assert len(ids) == config.MAX_LEN \n",
    "        assert len(mask) == config.MAX_LEN \n",
    "        assert len(mask_crf) == config.MAX_LEN\n",
    "        assert len(token_type_ids) == config.MAX_LEN \n",
    "        assert len(target_tag) == config.MAX_LEN \n",
    "        assert len(valid_mask) == config.MAX_LEN \n",
    "\n",
    "        return {\n",
    "            \"ids\":torch.tensor(ids, dtype=torch.long),\n",
    "            \"mask\":torch.tensor(mask, dtype=torch.long),\n",
    "            \"mask_crf\":torch.tensor(mask_crf,dtype=torch.long),\n",
    "            \"token_type_ids\":torch.tensor(token_type_ids, dtype=torch.long),\n",
    "            \"target_tag\":torch.tensor(target_tag, dtype=torch.long),\n",
    "            \"valid_mask\":torch.tensor(valid_mask, dtype=torch.long)\n",
    "        }"
   ]
  },
  {
   "cell_type": "code",
   "execution_count": 6,
   "id": "5da4c8fd",
   "metadata": {
    "execution": {
     "iopub.execute_input": "2021-12-23T06:52:08.872583Z",
     "iopub.status.busy": "2021-12-23T06:52:08.871863Z",
     "iopub.status.idle": "2021-12-23T06:52:08.873859Z",
     "shell.execute_reply": "2021-12-23T06:52:08.874240Z",
     "shell.execute_reply.started": "2021-12-16T07:30:30.590747Z"
    },
    "papermill": {
     "duration": 0.019236,
     "end_time": "2021-12-23T06:52:08.874366",
     "exception": false,
     "start_time": "2021-12-23T06:52:08.855130",
     "status": "completed"
    },
    "tags": []
   },
   "outputs": [],
   "source": [
    "def train_fn(data_loader,model, optimizer, device, scheduler):\n",
    "    model.train()\n",
    "    final_loss = 0\n",
    "    final_accuracy = 0\n",
    "    for data in tqdm(data_loader,total=len(data_loader)):\n",
    "        for k,v in data.items():\n",
    "            data[k] = v.to(device)\n",
    "        optimizer.zero_grad()\n",
    "        _,loss,accuracy_score = model(**data)\n",
    "        loss.backward()\n",
    "        optimizer.step()\n",
    "        scheduler.step()\n",
    "        final_loss += loss.item()\n",
    "        final_accuracy += accuracy_score\n",
    "    return final_loss/len(data_loader), final_accuracy/len(data_loader)\n",
    "\n",
    "def eval_fn(data_loader,model, device):\n",
    "    model.eval()\n",
    "    final_loss = 0\n",
    "    final_accuracy = 0\n",
    "    for data in tqdm(data_loader,total=len(data_loader)):\n",
    "        for k,v in data.items():\n",
    "            data[k] = v.to(device)\n",
    "        _,loss,accuracy_score = model(**data)\n",
    "        final_loss += loss.item()\n",
    "        final_accuracy += accuracy_score\n",
    "    return final_loss/len(data_loader), final_accuracy/len(data_loader)"
   ]
  },
  {
   "cell_type": "code",
   "execution_count": 7,
   "id": "c9ffa751",
   "metadata": {
    "execution": {
     "iopub.execute_input": "2021-12-23T06:52:08.904258Z",
     "iopub.status.busy": "2021-12-23T06:52:08.903498Z",
     "iopub.status.idle": "2021-12-23T06:52:08.905402Z",
     "shell.execute_reply": "2021-12-23T06:52:08.905805Z",
     "shell.execute_reply.started": "2021-12-16T07:30:30.604633Z"
    },
    "papermill": {
     "duration": 0.022655,
     "end_time": "2021-12-23T06:52:08.905942",
     "exception": false,
     "start_time": "2021-12-23T06:52:08.883287",
     "status": "completed"
    },
    "tags": []
   },
   "outputs": [],
   "source": [
    "def loss_fn(output,target,mask, num_lables):\n",
    "    lfn = nn.CrossEntropyLoss()\n",
    "    active_loss = mask.view(-1) == 1\n",
    "    active_logits = output.view(-1,num_lables)\n",
    "    active_labels = torch.where(\n",
    "        active_loss,\n",
    "        target.view(-1),\n",
    "        torch.tensor(lfn.ignore_index).type_as(target)\n",
    "    )\n",
    "    loss = lfn(active_logits,active_labels)\n",
    "    return loss\n",
    "\n",
    "def accuracy_fn(output,target,mask):\n",
    "    #output = output.argmax(2)\n",
    "    real_output = torch.flatten(mask*output)\n",
    "    real_target = torch.flatten(mask*target)\n",
    "    score = 0.0\n",
    "    total = 0\n",
    "    for i in range(len(real_target)):\n",
    "        if real_target[i] !=0:\n",
    "            total += 1\n",
    "            if real_target[i] == real_output[i]:\n",
    "                score +=1\n",
    "    return score/total\n",
    "\n",
    "\n",
    "class EntityModel(nn.Module):\n",
    "    def __init__(self, num_tag):\n",
    "        super(EntityModel, self).__init__()\n",
    "        self.num_tag = num_tag\n",
    "        self.bert = transformers.BertModel.from_pretrained(config.BASE_MODEL_PATH,return_dict=False)\n",
    "        self.bert_drop_1 = nn.Dropout(0.3)\n",
    "        self.out_tag = nn.Linear(768,self.num_tag)\n",
    "        self.crf = CRF(self.num_tag, batch_first = True)\n",
    "\n",
    "\n",
    "    def forward(self,ids,mask,mask_crf,token_type_ids,target_tag,valid_mask):\n",
    "        o1, _ = self.bert(ids,attention_mask=mask,token_type_ids=token_type_ids)\n",
    "        bo_tag = self.bert_drop_1(o1)\n",
    "        emissions = self.out_tag(bo_tag)\n",
    "        log_likelihood, sequence_of_tags = self.crf(emissions, target_tag,mask = mask_crf.bool(), reduction='mean'), self.crf.decode(emissions, mask = mask_crf.bool(),)\n",
    "        \n",
    "        tag, mask = valid_sequence_output(sequence_of_tags,valid_mask,mask)\n",
    "        \n",
    "        #loss = loss_fn(tag,target_tag,mask,self.num_tag)\n",
    "        loss = -1 * log_likelihood\n",
    "        accuracy_score = accuracy_fn(tag,target_tag,mask)\n",
    "        return tag,loss,accuracy_score\n"
   ]
  },
  {
   "cell_type": "code",
   "execution_count": 8,
   "id": "1749939d",
   "metadata": {
    "execution": {
     "iopub.execute_input": "2021-12-23T06:52:08.932001Z",
     "iopub.status.busy": "2021-12-23T06:52:08.931193Z",
     "iopub.status.idle": "2021-12-23T06:52:08.933180Z",
     "shell.execute_reply": "2021-12-23T06:52:08.933583Z",
     "shell.execute_reply.started": "2021-12-16T07:30:30.619947Z"
    },
    "papermill": {
     "duration": 0.018415,
     "end_time": "2021-12-23T06:52:08.933705",
     "exception": false,
     "start_time": "2021-12-23T06:52:08.915290",
     "status": "completed"
    },
    "tags": []
   },
   "outputs": [],
   "source": [
    "def valid_sequence_output(sequence_output, valid_mask, attention_mask): # convert token back to word\n",
    "\n",
    "    # batch_size, max_len, feat_dim = sequence_output.shape\n",
    "    batch_size = len(sequence_output)\n",
    "    max_len = config.MAX_LEN\n",
    "    current_len = len(sequence_output[0])\n",
    "    valid_output = torch.zeros(batch_size, max_len, dtype = torch.long,\n",
    "                                device='cuda' if torch.cuda.is_available() else 'cpu')\n",
    "    valid_attention_mask = torch.zeros(batch_size, max_len, dtype = torch.long,\n",
    "                                device='cuda' if torch.cuda.is_available() else 'cpu')\n",
    "\n",
    "\n",
    "    for i in range(batch_size):\n",
    "        jj = -1\n",
    "        for j in range(current_len):\n",
    "            if valid_mask[i][j].item() == 1:\n",
    "                jj += 1\n",
    "                valid_output[i][jj] = sequence_output[i][j]*attention_mask[i][j]\n",
    "                valid_attention_mask[i][jj] = attention_mask[i][j]\n",
    "\n",
    "    return valid_output, valid_attention_mask"
   ]
  },
  {
   "cell_type": "code",
   "execution_count": 9,
   "id": "691641b4",
   "metadata": {
    "execution": {
     "iopub.execute_input": "2021-12-23T06:52:08.967927Z",
     "iopub.status.busy": "2021-12-23T06:52:08.967368Z",
     "iopub.status.idle": "2021-12-23T09:20:47.540135Z",
     "shell.execute_reply": "2021-12-23T09:20:47.539643Z"
    },
    "papermill": {
     "duration": 8918.597688,
     "end_time": "2021-12-23T09:20:47.540267",
     "exception": false,
     "start_time": "2021-12-23T06:52:08.942579",
     "status": "completed"
    },
    "tags": []
   },
   "outputs": [
    {
     "name": "stderr",
     "output_type": "stream",
     "text": [
      "/opt/conda/lib/python3.7/site-packages/torch/utils/data/dataloader.py:481: UserWarning: This DataLoader will create 4 worker processes in total. Our suggested max number of worker in current system is 2, which is smaller than what this DataLoader is going to create. Please be aware that excessive worker creation might get DataLoader running slow or even freeze, lower the worker number to avoid potential slowness/freeze if necessary.\n",
      "  cpuset_checked))\n",
      "Some weights of the model checkpoint at ../input/bert-base-uncased were not used when initializing BertModel: ['cls.predictions.transform.dense.bias', 'cls.predictions.transform.dense.weight', 'cls.predictions.bias', 'cls.seq_relationship.bias', 'cls.predictions.decoder.weight', 'cls.seq_relationship.weight', 'cls.predictions.transform.LayerNorm.bias', 'cls.predictions.transform.LayerNorm.weight']\n",
      "- This IS expected if you are initializing BertModel from the checkpoint of a model trained on another task or with another architecture (e.g. initializing a BertForSequenceClassification model from a BertForPreTraining model).\n",
      "- This IS NOT expected if you are initializing BertModel from the checkpoint of a model that you expect to be exactly identical (initializing a BertForSequenceClassification model from a BertForSequenceClassification model).\n",
      "100%|██████████| 5396/5396 [27:16<00:00,  3.30it/s]\n",
      "100%|██████████| 600/600 [01:30<00:00,  6.61it/s]\n"
     ]
    },
    {
     "name": "stdout",
     "output_type": "stream",
     "text": [
      "Train loss = 6.686323683336101 Valid loss = 3.7516463486353557 \n",
      "Train accuracy = 0.8306724592240401 Valid accuracy = 0.8280946494027132 \n"
     ]
    },
    {
     "name": "stderr",
     "output_type": "stream",
     "text": [
      "100%|██████████| 5396/5396 [28:01<00:00,  3.21it/s]\n",
      "100%|██████████| 600/600 [01:34<00:00,  6.33it/s]\n"
     ]
    },
    {
     "name": "stdout",
     "output_type": "stream",
     "text": [
      "Train loss = 3.4712855979369426 Valid loss = 3.0786762579282123 \n",
      "Train accuracy = 0.8323102995590129 Valid accuracy = 0.8296607741129537 \n"
     ]
    },
    {
     "name": "stderr",
     "output_type": "stream",
     "text": [
      "100%|██████████| 5396/5396 [28:14<00:00,  3.18it/s]\n",
      "100%|██████████| 600/600 [01:32<00:00,  6.51it/s]\n"
     ]
    },
    {
     "name": "stdout",
     "output_type": "stream",
     "text": [
      "Train loss = 2.5266765379039686 Valid loss = 2.796115957101186 \n",
      "Train accuracy = 0.8341821036083973 Valid accuracy = 0.8311459042102092 \n"
     ]
    },
    {
     "name": "stderr",
     "output_type": "stream",
     "text": [
      "100%|██████████| 5396/5396 [28:18<00:00,  3.18it/s]\n",
      "100%|██████████| 600/600 [01:32<00:00,  6.49it/s]\n"
     ]
    },
    {
     "name": "stdout",
     "output_type": "stream",
     "text": [
      "Train loss = 1.8934881603876867 Valid loss = 2.720780169169108 \n",
      "Train accuracy = 0.8363193812199786 Valid accuracy = 0.8297682031090342 \n"
     ]
    },
    {
     "name": "stderr",
     "output_type": "stream",
     "text": [
      "100%|██████████| 5396/5396 [28:40<00:00,  3.14it/s]\n",
      "100%|██████████| 600/600 [01:33<00:00,  6.43it/s]"
     ]
    },
    {
     "name": "stdout",
     "output_type": "stream",
     "text": [
      "Train loss = 1.4345686365446397 Valid loss = 2.7760127568244934 \n",
      "Train accuracy = 0.8380309910865494 Valid accuracy = 0.8304265368720529 \n"
     ]
    },
    {
     "name": "stderr",
     "output_type": "stream",
     "text": [
      "\n"
     ]
    }
   ],
   "source": [
    "\n",
    "def process_data(data_path):\n",
    "    df = pd.read_csv(data_path,encoding='latin-1')\n",
    "    df.loc[:,\"Sentence #\"] = df[\"Sentence #\"].fillna(method=\"ffill\")\n",
    "\n",
    "    \n",
    "    enc_tag = preprocessing.LabelEncoder()\n",
    "    tag_list = list(df[\"Tag\"])\n",
    "    tag_list.insert(0,\"0\")\n",
    "    \n",
    "    enc_tag.fit(tag_list)\n",
    "    df.loc[:,\"Tag\"] = enc_tag.transform(df[\"Tag\"])\n",
    "\n",
    "    sentences = df.groupby(\"Sentence #\")[\"Word\"].apply(list).values \n",
    "    tag = df.groupby(\"Sentence #\")[\"Tag\"].apply(list).values\n",
    "\n",
    "    return sentences, tag, enc_tag\n",
    "\n",
    "\n",
    "if __name__ == '__main__':\n",
    "    sentences, tag, enc_tag = process_data(config.TRAINING_FILE)\n",
    "    \n",
    "    meta_data = {\n",
    "        \"enc_tag\": enc_tag\n",
    "    }\n",
    "\n",
    "    joblib.dump(meta_data,\"meta.bin\")\n",
    "\n",
    "    num_tag = len(list(enc_tag.classes_))\n",
    "\n",
    "    (\n",
    "        train_sentences, \n",
    "        test_sentences, \n",
    "        train_tag,\n",
    "        test_tag\n",
    "     ) = model_selection.train_test_split(sentences,tag,random_state = 42,test_size = 0.1)\n",
    "\n",
    "    train_dataset = EntityDataset(texts = train_sentences, tags =train_tag)\n",
    "    valid_dataset = EntityDataset(texts = test_sentences, tags = test_tag)\n",
    "\n",
    "    train_data_loader = torch.utils.data.DataLoader(train_dataset,batch_size=config.TRAIN_BATCH_SIZE,num_workers = 4)\n",
    "    valid_data_loader = torch.utils.data.DataLoader(valid_dataset,batch_size=config.VALID_BATCH_SIZE,num_workers=1)\n",
    "\n",
    "    device = torch.device(\"cuda\")\n",
    "    model = EntityModel(num_tag = num_tag)\n",
    "    model.to(device)\n",
    "\n",
    "\n",
    "    # print(\"========================================\")\n",
    "    # print(summary(model,\n",
    "    #  torch.ones(8,128,dtype = torch.long,device='cuda'),\n",
    "    #  torch.ones(8,128,dtype = torch.long,device='cuda'),\n",
    "    #  torch.ones(8,128,dtype = torch.long,device='cuda'),\n",
    "    #  torch.ones(8,128,dtype = torch.long,device='cuda'),\n",
    "    #  torch.ones(8,128,dtype = torch.long,device='cuda'),\n",
    "    #  torch.ones(8,128,dtype = torch.long,device='cuda')\n",
    "    #  ))\n",
    "\n",
    "    param_optimizer = list(model.named_parameters())\n",
    "    no_decay = [\"bias\",\"LayerNorm.bias\",\"LayerNorm.weight\"]\n",
    "    optimizer_parameters = [{\n",
    "        \"params\":[p for n,p in param_optimizer if not any(nd in n for nd in no_decay)],\n",
    "        \"weight_decay\":0.001,\n",
    "    },{\n",
    "        \"params\":[p for n,p in param_optimizer if any(nd in n for nd in no_decay)],\n",
    "        \"weight_decay\":0.0,\n",
    "    }]\n",
    "    num_train_steps = int(len(train_sentences)/config.TRAIN_BATCH_SIZE*config.EPOCHS)\n",
    "    optimizer = AdamW(optimizer_parameters,lr=3e-5)\n",
    "    scheduler = get_linear_schedule_with_warmup(\n",
    "        optimizer,num_warmup_steps=0,num_training_steps=num_train_steps\n",
    "    )\n",
    "\n",
    "    best_loss = np.inf\n",
    "    for epoch in range(config.EPOCHS):\n",
    "        train_loss, train_accuracy = train_fn(train_data_loader,model,optimizer,device, scheduler)\n",
    "        test_loss, test_accuracy = eval_fn(valid_data_loader,model,device)\n",
    "        print(f\"Train loss = {train_loss} Valid loss = {test_loss} \")\n",
    "        print(f\"Train accuracy = {train_accuracy} Valid accuracy = {test_accuracy} \")\n",
    "        if test_loss < best_loss:\n",
    "            torch.save(model.state_dict(),config.MODEL_PATH)\n",
    "            best_loss = test_loss\n"
   ]
  }
 ],
 "metadata": {
  "kernelspec": {
   "display_name": "Python 3",
   "language": "python",
   "name": "python3"
  },
  "language_info": {
   "codemirror_mode": {
    "name": "ipython",
    "version": 3
   },
   "file_extension": ".py",
   "mimetype": "text/x-python",
   "name": "python",
   "nbconvert_exporter": "python",
   "pygments_lexer": "ipython3",
   "version": "3.7.12"
  },
  "papermill": {
   "default_parameters": {},
   "duration": 8954.088449,
   "end_time": "2021-12-23T09:20:58.412337",
   "environment_variables": {},
   "exception": null,
   "input_path": "__notebook__.ipynb",
   "output_path": "__notebook__.ipynb",
   "parameters": {},
   "start_time": "2021-12-23T06:51:44.323888",
   "version": "2.3.3"
  }
 },
 "nbformat": 4,
 "nbformat_minor": 5
}
