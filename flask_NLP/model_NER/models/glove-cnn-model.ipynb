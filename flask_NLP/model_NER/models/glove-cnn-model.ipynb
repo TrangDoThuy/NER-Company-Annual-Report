{
 "cells": [
  {
   "cell_type": "code",
   "execution_count": 1,
   "id": "9034646c",
   "metadata": {
    "_cell_guid": "b1076dfc-b9ad-4769-8c92-a6c4dae69d19",
    "_uuid": "8f2839f25d086af736a60e9eeb907d3b93b6e0e5",
    "execution": {
     "iopub.execute_input": "2021-12-22T09:37:12.906437Z",
     "iopub.status.busy": "2021-12-22T09:37:12.905702Z",
     "iopub.status.idle": "2021-12-22T09:37:12.929099Z",
     "shell.execute_reply": "2021-12-22T09:37:12.928426Z",
     "shell.execute_reply.started": "2021-12-22T09:34:41.400704Z"
    },
    "papermill": {
     "duration": 0.050237,
     "end_time": "2021-12-22T09:37:12.929270",
     "exception": false,
     "start_time": "2021-12-22T09:37:12.879033",
     "status": "completed"
    },
    "tags": []
   },
   "outputs": [
    {
     "name": "stdout",
     "output_type": "stream",
     "text": [
      "/kaggle/input/bert-base-uncased/config.json\n",
      "/kaggle/input/bert-base-uncased/pytorch_model.bin\n",
      "/kaggle/input/bert-base-uncased/vocab.txt\n",
      "/kaggle/input/ner-dataset/ner_dataset.csv\n",
      "/kaggle/input/glove-emb/glove.6B.100d.txt\n"
     ]
    }
   ],
   "source": [
    "# This Python 3 environment comes with many helpful analytics libraries installed\n",
    "# It is defined by the kaggle/python Docker image: https://github.com/kaggle/docker-python\n",
    "# For example, here's several helpful packages to load\n",
    "\n",
    "import numpy as np # linear algebra\n",
    "import pandas as pd # data processing, CSV file I/O (e.g. pd.read_csv)\n",
    "\n",
    "# Input data files are available in the read-only \"../input/\" directory\n",
    "# For example, running this (by clicking run or pressing Shift+Enter) will list all files under the input directory\n",
    "\n",
    "import os\n",
    "for dirname, _, filenames in os.walk('/kaggle/input'):\n",
    "    for filename in filenames:\n",
    "        print(os.path.join(dirname, filename))\n",
    "\n",
    "# You can write up to 20GB to the current directory (/kaggle/working/) that gets preserved as output when you create a version using \"Save & Run All\" \n",
    "# You can also write temporary files to /kaggle/temp/, but they won't be saved outside of the current session"
   ]
  },
  {
   "cell_type": "markdown",
   "id": "6fd5dffc",
   "metadata": {},
   "source": [
    "For the running and training model, please find at https://www.kaggle.com/trangdothuy/ner-glove-cnn-model"
   ]
  },
  {
   "cell_type": "code",
   "execution_count": 2,
   "id": "d1858038",
   "metadata": {
    "execution": {
     "iopub.execute_input": "2021-12-22T09:37:12.964676Z",
     "iopub.status.busy": "2021-12-22T09:37:12.964010Z",
     "iopub.status.idle": "2021-12-22T09:37:18.021715Z",
     "shell.execute_reply": "2021-12-22T09:37:18.020957Z",
     "shell.execute_reply.started": "2021-12-22T09:34:41.417542Z"
    },
    "papermill": {
     "duration": 5.07667,
     "end_time": "2021-12-22T09:37:18.021854",
     "exception": false,
     "start_time": "2021-12-22T09:37:12.945184",
     "status": "completed"
    },
    "tags": []
   },
   "outputs": [],
   "source": [
    "import os\n",
    "import tensorflow as tf\n",
    "from tensorflow import keras\n",
    "from keras.models import Model, Input, Sequential\n",
    "from keras.layers import Conv1D,Embedding, Dense, TimeDistributed, Dropout, MaxPooling1D, BatchNormalization, Activation, Add\n",
    "from tensorflow.keras.utils import to_categorical\n",
    "from tensorflow.keras.optimizers import Adam\n",
    "from tensorflow.keras.layers import TextVectorization\n",
    "from numpy.random import seed"
   ]
  },
  {
   "cell_type": "code",
   "execution_count": 3,
   "id": "eff0b32a",
   "metadata": {
    "execution": {
     "iopub.execute_input": "2021-12-22T09:37:18.056042Z",
     "iopub.status.busy": "2021-12-22T09:37:18.055430Z",
     "iopub.status.idle": "2021-12-22T09:37:18.618441Z",
     "shell.execute_reply": "2021-12-22T09:37:18.617963Z",
     "shell.execute_reply.started": "2021-12-22T09:34:41.425766Z"
    },
    "papermill": {
     "duration": 0.581375,
     "end_time": "2021-12-22T09:37:18.618580",
     "exception": false,
     "start_time": "2021-12-22T09:37:18.037205",
     "status": "completed"
    },
    "tags": []
   },
   "outputs": [],
   "source": [
    "from tqdm import tqdm\n",
    "import pandas as pd\n",
    "import numpy as np \n",
    "\n",
    "from sklearn import preprocessing\n",
    "from sklearn import model_selection"
   ]
  },
  {
   "cell_type": "code",
   "execution_count": 4,
   "id": "450b86ae",
   "metadata": {
    "execution": {
     "iopub.execute_input": "2021-12-22T09:37:18.654315Z",
     "iopub.status.busy": "2021-12-22T09:37:18.653492Z",
     "iopub.status.idle": "2021-12-22T09:37:18.655241Z",
     "shell.execute_reply": "2021-12-22T09:37:18.655726Z",
     "shell.execute_reply.started": "2021-12-22T09:34:41.435538Z"
    },
    "papermill": {
     "duration": 0.022648,
     "end_time": "2021-12-22T09:37:18.655852",
     "exception": false,
     "start_time": "2021-12-22T09:37:18.633204",
     "status": "completed"
    },
    "tags": []
   },
   "outputs": [],
   "source": [
    "from tensorflow.keras.layers import TextVectorization\n",
    "\n",
    "class Config:\n",
    "    def __init__(self):\n",
    "        self.MAX_LEN = 128\n",
    "        self.TRAIN_BATCH_SIZE = 8\n",
    "        self.VALID_BATCH_SIZE = 8\n",
    "        self.EPOCHS = 5\n",
    "        self.BASE_MODEL_PATH = \"../input/bert-base-uncased\"\n",
    "        self.MODEL_PATH = \"./model.bin\"\n",
    "        self.TRAINING_FILE = \"../input/ner-dataset/ner_dataset.csv\"\n",
    "config = Config()\n",
    "\n"
   ]
  },
  {
   "cell_type": "code",
   "execution_count": 5,
   "id": "48d78fe7",
   "metadata": {
    "execution": {
     "iopub.execute_input": "2021-12-22T09:37:18.689128Z",
     "iopub.status.busy": "2021-12-22T09:37:18.688628Z",
     "iopub.status.idle": "2021-12-22T09:37:31.218326Z",
     "shell.execute_reply": "2021-12-22T09:37:31.218767Z",
     "shell.execute_reply.started": "2021-12-22T09:34:41.446769Z"
    },
    "papermill": {
     "duration": 12.548876,
     "end_time": "2021-12-22T09:37:31.218926",
     "exception": false,
     "start_time": "2021-12-22T09:37:18.670050",
     "status": "completed"
    },
    "tags": []
   },
   "outputs": [
    {
     "name": "stdout",
     "output_type": "stream",
     "text": [
      "Found 400000 word vectors.\n"
     ]
    }
   ],
   "source": [
    "path_to_glove_file = \"../input/glove-emb/glove.6B.100d.txt\"\n",
    "\n",
    "embeddings_index = {}\n",
    "with open(path_to_glove_file) as f:\n",
    "    for line in f:\n",
    "        word, coefs = line.split(maxsplit=1)\n",
    "        coefs = np.fromstring(coefs, \"f\", sep=\" \")\n",
    "        embeddings_index[word] = coefs\n",
    "\n",
    "print(\"Found %s word vectors.\" % len(embeddings_index))"
   ]
  },
  {
   "cell_type": "code",
   "execution_count": 6,
   "id": "c3f6c556",
   "metadata": {
    "execution": {
     "iopub.execute_input": "2021-12-22T09:37:31.260892Z",
     "iopub.status.busy": "2021-12-22T09:37:31.260367Z",
     "iopub.status.idle": "2021-12-22T09:37:40.951367Z",
     "shell.execute_reply": "2021-12-22T09:37:40.951904Z",
     "shell.execute_reply.started": "2021-12-22T09:34:53.416425Z"
    },
    "papermill": {
     "duration": 9.717837,
     "end_time": "2021-12-22T09:37:40.952074",
     "exception": false,
     "start_time": "2021-12-22T09:37:31.234237",
     "status": "completed"
    },
    "tags": []
   },
   "outputs": [
    {
     "name": "stderr",
     "output_type": "stream",
     "text": [
      "2021-12-22 09:37:37.836422: I tensorflow/stream_executor/cuda/cuda_gpu_executor.cc:937] successful NUMA node read from SysFS had negative value (-1), but there must be at least one NUMA node, so returning NUMA node zero\n",
      "2021-12-22 09:37:37.924999: I tensorflow/stream_executor/cuda/cuda_gpu_executor.cc:937] successful NUMA node read from SysFS had negative value (-1), but there must be at least one NUMA node, so returning NUMA node zero\n",
      "2021-12-22 09:37:37.925698: I tensorflow/stream_executor/cuda/cuda_gpu_executor.cc:937] successful NUMA node read from SysFS had negative value (-1), but there must be at least one NUMA node, so returning NUMA node zero\n",
      "2021-12-22 09:37:37.926918: I tensorflow/core/platform/cpu_feature_guard.cc:142] This TensorFlow binary is optimized with oneAPI Deep Neural Network Library (oneDNN) to use the following CPU instructions in performance-critical operations:  AVX2 AVX512F FMA\n",
      "To enable them in other operations, rebuild TensorFlow with the appropriate compiler flags.\n",
      "2021-12-22 09:37:37.927874: I tensorflow/stream_executor/cuda/cuda_gpu_executor.cc:937] successful NUMA node read from SysFS had negative value (-1), but there must be at least one NUMA node, so returning NUMA node zero\n",
      "2021-12-22 09:37:37.928778: I tensorflow/stream_executor/cuda/cuda_gpu_executor.cc:937] successful NUMA node read from SysFS had negative value (-1), but there must be at least one NUMA node, so returning NUMA node zero\n",
      "2021-12-22 09:37:37.929622: I tensorflow/stream_executor/cuda/cuda_gpu_executor.cc:937] successful NUMA node read from SysFS had negative value (-1), but there must be at least one NUMA node, so returning NUMA node zero\n",
      "2021-12-22 09:37:39.715243: I tensorflow/stream_executor/cuda/cuda_gpu_executor.cc:937] successful NUMA node read from SysFS had negative value (-1), but there must be at least one NUMA node, so returning NUMA node zero\n",
      "2021-12-22 09:37:39.716095: I tensorflow/stream_executor/cuda/cuda_gpu_executor.cc:937] successful NUMA node read from SysFS had negative value (-1), but there must be at least one NUMA node, so returning NUMA node zero\n",
      "2021-12-22 09:37:39.716777: I tensorflow/stream_executor/cuda/cuda_gpu_executor.cc:937] successful NUMA node read from SysFS had negative value (-1), but there must be at least one NUMA node, so returning NUMA node zero\n",
      "2021-12-22 09:37:39.717343: I tensorflow/core/common_runtime/gpu/gpu_device.cc:1510] Created device /job:localhost/replica:0/task:0/device:GPU:0 with 15403 MB memory:  -> device: 0, name: Tesla P100-PCIE-16GB, pci bus id: 0000:00:04.0, compute capability: 6.0\n",
      "2021-12-22 09:37:40.308900: I tensorflow/compiler/mlir/mlir_graph_optimization_pass.cc:185] None of the MLIR Optimization Passes are enabled (registered 2)\n"
     ]
    }
   ],
   "source": [
    "data_path = config.TRAINING_FILE\n",
    "\n",
    "df = pd.read_csv(data_path,encoding='latin-1')\n",
    "df.loc[:,\"Sentence #\"] = df[\"Sentence #\"].fillna(method=\"ffill\")\n",
    "\n",
    "sentences = df.groupby(\"Sentence #\")[\"Word\"].apply(list).values \n",
    "tag = df.groupby(\"Sentence #\")[\"Tag\"].apply(list).values\n",
    "\n",
    "vocab_dict = {'_unk_': 1, '_w_pad_': 0}\n",
    "tag_dict = {'_t_pad_': 0}\n",
    "\n",
    "tag_seqs = []\n",
    "for tag_seq in tag:\n",
    "    padded_tags = []\n",
    "    for tag_item in tag_seq:\n",
    "        padded_tags.append(tag_item)\n",
    "        if tag_item not in tag_dict:\n",
    "            tag_dict[tag_item] = len(tag_dict)\n",
    "    if len(padded_tags) < config.MAX_LEN:\n",
    "        added_len = config.MAX_LEN - len(padded_tags)\n",
    "        padded_tags += ['_t_pad_']*added_len\n",
    "    assert len(padded_tags) == config.MAX_LEN\n",
    "    tag_seqs.append(padded_tags)\n",
    "tag2idx = tag_dict\n",
    "tag_tokens = [[tag2idx[t] for t in t_seq] for t_seq in tag_seqs]\n",
    "tag_tokens = np.array([to_categorical(t_seq, num_classes=len(tag_dict)) for t_seq in tag_tokens])\n",
    "idx2tag = {v:k for k,v in tag2idx.items()} \n",
    "\n",
    "sent_list = []\n",
    "for sent in sentences:\n",
    "    sent_list.append(\" \".join(sent))\n",
    "    \n",
    "\n",
    "(\n",
    "        train_sent, \n",
    "        val_sent, \n",
    "        train_tags,\n",
    "        val_tags\n",
    "     ) = model_selection.train_test_split(sent_list, tag_tokens,random_state = 42,test_size = 0.2)\n",
    "    \n",
    "\n",
    "vectorizer = TextVectorization(max_tokens=20000, output_sequence_length=config.MAX_LEN)\n",
    "text_ds = tf.data.Dataset.from_tensor_slices(train_sent).batch(128)\n",
    "vectorizer.adapt(text_ds)\n",
    "\n",
    "voc = vectorizer.get_vocabulary()\n",
    "word_index = dict(zip(voc, range(len(voc))))"
   ]
  },
  {
   "cell_type": "code",
   "execution_count": 7,
   "id": "b02729c2",
   "metadata": {
    "execution": {
     "iopub.execute_input": "2021-12-22T09:37:40.991134Z",
     "iopub.status.busy": "2021-12-22T09:37:40.990346Z",
     "iopub.status.idle": "2021-12-22T09:37:41.034980Z",
     "shell.execute_reply": "2021-12-22T09:37:41.035571Z",
     "shell.execute_reply.started": "2021-12-22T09:35:00.693738Z"
    },
    "papermill": {
     "duration": 0.067517,
     "end_time": "2021-12-22T09:37:41.035765",
     "exception": false,
     "start_time": "2021-12-22T09:37:40.968248",
     "status": "completed"
    },
    "tags": []
   },
   "outputs": [
    {
     "name": "stdout",
     "output_type": "stream",
     "text": [
      "Converted 18358 words (1642 misses)\n"
     ]
    }
   ],
   "source": [
    "num_tokens = len(voc) + 2\n",
    "embedding_dim = 100\n",
    "hits = 0\n",
    "misses = 0\n",
    "# Prepare embedding matrix\n",
    "embedding_matrix = np.zeros((num_tokens, embedding_dim))\n",
    "for word, i in word_index.items():\n",
    "    embedding_vector = embeddings_index.get(word)\n",
    "    if embedding_vector is not None:\n",
    "        # Words not found in embedding index will be all-zeros.\n",
    "        # This includes the representation for \"padding\" and \"OOV\"\n",
    "        embedding_matrix[i] = embedding_vector\n",
    "        hits += 1\n",
    "    else:\n",
    "        misses += 1\n",
    "print(\"Converted %d words (%d misses)\" % (hits, misses))"
   ]
  },
  {
   "cell_type": "code",
   "execution_count": 8,
   "id": "f6361253",
   "metadata": {
    "execution": {
     "iopub.execute_input": "2021-12-22T09:37:41.218379Z",
     "iopub.status.busy": "2021-12-22T09:37:41.189160Z",
     "iopub.status.idle": "2021-12-22T09:37:41.577467Z",
     "shell.execute_reply": "2021-12-22T09:37:41.576843Z",
     "shell.execute_reply.started": "2021-12-22T09:35:00.741714Z"
    },
    "papermill": {
     "duration": 0.524689,
     "end_time": "2021-12-22T09:37:41.577593",
     "exception": false,
     "start_time": "2021-12-22T09:37:41.052904",
     "status": "completed"
    },
    "tags": []
   },
   "outputs": [],
   "source": [
    "x_train = vectorizer(np.array([[s] for s in train_sent])).numpy()\n",
    "x_val = vectorizer(np.array([[s] for s in val_sent])).numpy()"
   ]
  },
  {
   "cell_type": "code",
   "execution_count": 9,
   "id": "11adff31",
   "metadata": {
    "execution": {
     "iopub.execute_input": "2021-12-22T09:37:41.617702Z",
     "iopub.status.busy": "2021-12-22T09:37:41.617103Z",
     "iopub.status.idle": "2021-12-22T09:37:41.619841Z",
     "shell.execute_reply": "2021-12-22T09:37:41.620204Z",
     "shell.execute_reply.started": "2021-12-22T09:35:01.112318Z"
    },
    "papermill": {
     "duration": 0.026871,
     "end_time": "2021-12-22T09:37:41.620327",
     "exception": false,
     "start_time": "2021-12-22T09:37:41.593456",
     "status": "completed"
    },
    "tags": []
   },
   "outputs": [],
   "source": [
    "def build_model(max_sent_length, vocab_size, hidden_size, embedding_size, \n",
    "                output_size, learning_rate,num_mlp_layers,activation,dropout_rate):\n",
    "    \n",
    "    \n",
    "    inputs = Input(shape=(max_sent_length,), dtype='int32')\n",
    "    emb = Embedding(input_dim=vocab_size,\n",
    "                    output_dim = embedding_size,\n",
    "                    embeddings_initializer=keras.initializers.Constant(embedding_matrix),\n",
    "                    trainable = False,\n",
    "                   )(inputs)\n",
    "    \n",
    "    ##############\n",
    "\n",
    "    x1 = Conv1D(128, 5, activation=\"relu\",padding=\"same\")(emb)\n",
    "#     x2 = MaxPooling1D(5)(x1)\n",
    "    x3 = Conv1D(128, 5, activation=\"relu\",padding=\"same\")(x1)\n",
    "#     x4 = MaxPooling1D(5)(x3)\n",
    "    x5 = Conv1D(128, 5, activation=\"relu\",padding=\"same\")(x3)\n",
    "    x6 = Dense(128, activation=\"relu\")(x5)\n",
    "    x7 = Dropout(0.5)(x6)\n",
    "        \n",
    "    ##########\n",
    "    pred = Dense(output_size,\n",
    "              activation=\"softmax\",\n",
    "              kernel_initializer=keras.initializers.he_normal(seed=0),\n",
    "              bias_initializer=\"zeros\")(x7)\n",
    "    \n",
    "    model = Model(inputs, pred)\n",
    "    model.compile(loss=\"categorical_crossentropy\", optimizer=\"Adam\", metrics=[\"accuracy\"])\n",
    "                                 \n",
    "    return model"
   ]
  },
  {
   "cell_type": "code",
   "execution_count": 10,
   "id": "425e4b4f",
   "metadata": {
    "execution": {
     "iopub.execute_input": "2021-12-22T09:37:41.668328Z",
     "iopub.status.busy": "2021-12-22T09:37:41.665006Z",
     "iopub.status.idle": "2021-12-22T09:37:41.671345Z",
     "shell.execute_reply": "2021-12-22T09:37:41.670959Z",
     "shell.execute_reply.started": "2021-12-22T09:35:01.126317Z"
    },
    "papermill": {
     "duration": 0.03563,
     "end_time": "2021-12-22T09:37:41.671474",
     "exception": false,
     "start_time": "2021-12-22T09:37:41.635844",
     "status": "completed"
    },
    "tags": []
   },
   "outputs": [],
   "source": [
    "import csv\n",
    "from pathlib import Path\n",
    "\n",
    "checkpointer = keras.callbacks.ModelCheckpoint(\n",
    "    filepath=os.path.join(\"models\", \"GloVe_CNN.hdf5\"),\n",
    "    monitor=\"val_accuracy\",\n",
    "    verbose=0,\n",
    "    save_best_only=True)\n",
    "\n",
    "class StepLogCallback(keras.callbacks.Callback):\n",
    "    def __init__(self):\n",
    "        self.count = 0\n",
    "        self.step_log = []\n",
    "        self.log_fpath = Path('./step_log.csv')\n",
    "    \n",
    "    def on_train_batch_end(self, batch, logs=None):\n",
    "        self.count += 1\n",
    "        self.step_log.append([self.count, logs['loss'], logs['accuracy']])\n",
    "    \n",
    "    def on_epoch_end(self, epoch, logs=None):\n",
    "        log_exists = self.log_fpath.exists()\n",
    "        with open(self.log_fpath, 'a' if log_exists else 'w', newline='') as csvfile:\n",
    "            writer = csv.writer(csvfile)\n",
    "            if not log_exists:\n",
    "                writer.writerow(['step','loss','accuracy'])\n",
    "            for log in self.step_log:\n",
    "                writer.writerow(log)\n",
    "            self.step_log.clear()\n",
    "\n",
    "class TestCallback(keras.callbacks.Callback):\n",
    "    def __init__(self, test_data, ground_file, model):\n",
    "        self.count = 0\n",
    "        self.test_data = test_data\n",
    "        self.model = model\n",
    "        self.ground_file = ground_file\n",
    "        self.epoch_log = []\n",
    "        self.log_fpath = Path('./epoch_log.csv')\n",
    "        \n",
    "    def calc_accuracy(self, preds, tags, padding_id=\"_t_pad_\"):\n",
    "        preds_flatten = preds.flatten()\n",
    "        tags_flatten = tags.flatten()\n",
    "        non_padding_idx = np.where(tags_flatten!=padding_id)[0]\n",
    "        return sum(preds_flatten[non_padding_idx]==tags_flatten[non_padding_idx])/len(non_padding_idx)\n",
    "        \n",
    "    def on_epoch_end(self, epoch, logs=None):\n",
    "        val_preds_numerical = self.model.predict(self.test_data)\n",
    "        val_preds = np.array([[idx2tag[p] for p in preds] for preds in np.argmax(val_preds_numerical,axis=2)])\n",
    "        file_dict = pkl.load(open(self.ground_file, \"rb\"))\n",
    "        val_accuracy = self.calc_accuracy(val_preds, np.array(file_dict[\"tag_seq\"]))\n",
    "        \n",
    "        print('\\nValidation Set Accuracy: %f\\n' % val_accuracy)\n",
    "        \n",
    "        self.count += 1\n",
    "        log_exists = self.log_fpath.exists()\n",
    "        with open(self.log_fpath, 'a' if log_exists else 'w', newline='') as csvfile:\n",
    "            writer = csv.writer(csvfile)\n",
    "            if not log_exists:\n",
    "                writer.writerow(['epoch','loss','train_accuracy','val_accuracy'])\n",
    "            writer.writerow([self.count, logs['loss'], logs['accuracy'], val_accuracy])\n",
    "            self.epoch_log.clear()"
   ]
  },
  {
   "cell_type": "code",
   "execution_count": 11,
   "id": "7e8e1c05",
   "metadata": {
    "execution": {
     "iopub.execute_input": "2021-12-22T09:37:41.708573Z",
     "iopub.status.busy": "2021-12-22T09:37:41.707741Z",
     "iopub.status.idle": "2021-12-22T09:37:41.710168Z",
     "shell.execute_reply": "2021-12-22T09:37:41.709780Z",
     "shell.execute_reply.started": "2021-12-22T09:35:01.143500Z"
    },
    "papermill": {
     "duration": 0.023101,
     "end_time": "2021-12-22T09:37:41.710268",
     "exception": false,
     "start_time": "2021-12-22T09:37:41.687167",
     "status": "completed"
    },
    "tags": []
   },
   "outputs": [],
   "source": [
    "input_length = config.MAX_LEN\n",
    "vocab_size = num_tokens\n",
    "hidden_size = 100\n",
    "embedding_size = 100\n",
    "output_size = train_tags.shape[2]\n",
    "learning_rate = 0.0001\n",
    "num_mlp_layers = 3\n",
    "activation = \"tanh\"\n",
    "dropout_rate = 0.5"
   ]
  },
  {
   "cell_type": "code",
   "execution_count": 12,
   "id": "3ea38c14",
   "metadata": {
    "execution": {
     "iopub.execute_input": "2021-12-22T09:37:41.751122Z",
     "iopub.status.busy": "2021-12-22T09:37:41.750297Z",
     "iopub.status.idle": "2021-12-22T09:37:41.857635Z",
     "shell.execute_reply": "2021-12-22T09:37:41.857153Z",
     "shell.execute_reply.started": "2021-12-22T09:35:01.157864Z"
    },
    "papermill": {
     "duration": 0.13185,
     "end_time": "2021-12-22T09:37:41.857751",
     "exception": false,
     "start_time": "2021-12-22T09:37:41.725901",
     "status": "completed"
    },
    "tags": []
   },
   "outputs": [
    {
     "name": "stdout",
     "output_type": "stream",
     "text": [
      "Model: \"model\"\n",
      "_________________________________________________________________\n",
      "Layer (type)                 Output Shape              Param #   \n",
      "=================================================================\n",
      "input_1 (InputLayer)         [(None, 128)]             0         \n",
      "_________________________________________________________________\n",
      "embedding (Embedding)        (None, 128, 100)          2000200   \n",
      "_________________________________________________________________\n",
      "conv1d (Conv1D)              (None, 128, 128)          64128     \n",
      "_________________________________________________________________\n",
      "conv1d_1 (Conv1D)            (None, 128, 128)          82048     \n",
      "_________________________________________________________________\n",
      "conv1d_2 (Conv1D)            (None, 128, 128)          82048     \n",
      "_________________________________________________________________\n",
      "dense (Dense)                (None, 128, 128)          16512     \n",
      "_________________________________________________________________\n",
      "dropout (Dropout)            (None, 128, 128)          0         \n",
      "_________________________________________________________________\n",
      "dense_1 (Dense)              (None, 128, 18)           2322      \n",
      "=================================================================\n",
      "Total params: 2,247,258\n",
      "Trainable params: 247,058\n",
      "Non-trainable params: 2,000,200\n",
      "_________________________________________________________________\n"
     ]
    }
   ],
   "source": [
    "np.random.seed(0)\n",
    "tf.random.set_seed(0)\n",
    "model = build_model(input_length, vocab_size, hidden_size, embedding_size, \n",
    "                    output_size, learning_rate, num_mlp_layers, activation, dropout_rate)\n",
    "model.summary()"
   ]
  },
  {
   "cell_type": "code",
   "execution_count": 13,
   "id": "d64fec68",
   "metadata": {
    "execution": {
     "iopub.execute_input": "2021-12-22T09:37:41.894162Z",
     "iopub.status.busy": "2021-12-22T09:37:41.893433Z",
     "iopub.status.idle": "2021-12-22T09:37:41.895375Z",
     "shell.execute_reply": "2021-12-22T09:37:41.895818Z",
     "shell.execute_reply.started": "2021-12-22T09:35:01.252505Z"
    },
    "papermill": {
     "duration": 0.022198,
     "end_time": "2021-12-22T09:37:41.895934",
     "exception": false,
     "start_time": "2021-12-22T09:37:41.873736",
     "status": "completed"
    },
    "tags": []
   },
   "outputs": [],
   "source": [
    "from keras.callbacks import CSVLogger\n",
    "csv_logger = CSVLogger('glove-cnn-ner-training.log', append=False)\n",
    "earlystopping = keras.callbacks.EarlyStopping(\n",
    "    monitor='val_loss',\n",
    "    patience=5,\n",
    "    verbose=0)"
   ]
  },
  {
   "cell_type": "code",
   "execution_count": 14,
   "id": "681f21e7",
   "metadata": {
    "execution": {
     "iopub.execute_input": "2021-12-22T09:37:41.932915Z",
     "iopub.status.busy": "2021-12-22T09:37:41.932158Z",
     "iopub.status.idle": "2021-12-22T09:39:15.922512Z",
     "shell.execute_reply": "2021-12-22T09:39:15.922028Z",
     "shell.execute_reply.started": "2021-12-22T09:35:01.259149Z"
    },
    "papermill": {
     "duration": 94.010873,
     "end_time": "2021-12-22T09:39:15.922647",
     "exception": false,
     "start_time": "2021-12-22T09:37:41.911774",
     "status": "completed"
    },
    "tags": []
   },
   "outputs": [
    {
     "name": "stdout",
     "output_type": "stream",
     "text": [
      "Epoch 1/20\n"
     ]
    },
    {
     "name": "stderr",
     "output_type": "stream",
     "text": [
      "2021-12-22 09:37:44.699936: I tensorflow/stream_executor/cuda/cuda_dnn.cc:369] Loaded cuDNN version 8005\n"
     ]
    },
    {
     "name": "stdout",
     "output_type": "stream",
     "text": [
      "300/300 [==============================] - 10s 13ms/step - loss: 0.2366 - accuracy: 0.9653 - val_loss: 0.0834 - val_accuracy: 0.9733\n",
      "Epoch 2/20\n",
      "300/300 [==============================] - 4s 13ms/step - loss: 0.0809 - accuracy: 0.9742 - val_loss: 0.0749 - val_accuracy: 0.9755\n",
      "Epoch 3/20\n",
      "300/300 [==============================] - 3s 11ms/step - loss: 0.0739 - accuracy: 0.9757 - val_loss: 0.0714 - val_accuracy: 0.9760\n",
      "Epoch 4/20\n",
      "300/300 [==============================] - 4s 12ms/step - loss: 0.0701 - accuracy: 0.9766 - val_loss: 0.0699 - val_accuracy: 0.9765\n",
      "Epoch 5/20\n",
      "300/300 [==============================] - 3s 11ms/step - loss: 0.0672 - accuracy: 0.9772 - val_loss: 0.0689 - val_accuracy: 0.9768\n",
      "Epoch 6/20\n",
      "300/300 [==============================] - 4s 12ms/step - loss: 0.0650 - accuracy: 0.9778 - val_loss: 0.0682 - val_accuracy: 0.9770\n",
      "Epoch 7/20\n",
      "300/300 [==============================] - 3s 11ms/step - loss: 0.0631 - accuracy: 0.9782 - val_loss: 0.0679 - val_accuracy: 0.9770\n",
      "Epoch 8/20\n",
      "300/300 [==============================] - 4s 12ms/step - loss: 0.0611 - accuracy: 0.9787 - val_loss: 0.0680 - val_accuracy: 0.9772\n",
      "Epoch 9/20\n",
      "300/300 [==============================] - 3s 11ms/step - loss: 0.0596 - accuracy: 0.9791 - val_loss: 0.0675 - val_accuracy: 0.9770\n",
      "Epoch 10/20\n",
      "300/300 [==============================] - 3s 11ms/step - loss: 0.0579 - accuracy: 0.9794 - val_loss: 0.0686 - val_accuracy: 0.9773\n",
      "Epoch 11/20\n",
      "300/300 [==============================] - 4s 12ms/step - loss: 0.0564 - accuracy: 0.9798 - val_loss: 0.0706 - val_accuracy: 0.9771\n",
      "Epoch 12/20\n",
      "300/300 [==============================] - 3s 11ms/step - loss: 0.0550 - accuracy: 0.9803 - val_loss: 0.0721 - val_accuracy: 0.9772\n",
      "Epoch 13/20\n",
      "300/300 [==============================] - 3s 11ms/step - loss: 0.0536 - accuracy: 0.9806 - val_loss: 0.0713 - val_accuracy: 0.9770\n",
      "Epoch 14/20\n",
      "300/300 [==============================] - 3s 12ms/step - loss: 0.0523 - accuracy: 0.9810 - val_loss: 0.0724 - val_accuracy: 0.9769\n",
      "Epoch 15/20\n",
      "300/300 [==============================] - 3s 11ms/step - loss: 0.0511 - accuracy: 0.9813 - val_loss: 0.0741 - val_accuracy: 0.9769\n",
      "Epoch 16/20\n",
      "300/300 [==============================] - 4s 12ms/step - loss: 0.0498 - accuracy: 0.9817 - val_loss: 0.0748 - val_accuracy: 0.9765\n",
      "Epoch 17/20\n",
      "300/300 [==============================] - 3s 12ms/step - loss: 0.0487 - accuracy: 0.9821 - val_loss: 0.0808 - val_accuracy: 0.9768\n",
      "Epoch 18/20\n",
      "300/300 [==============================] - 3s 11ms/step - loss: 0.0474 - accuracy: 0.9824 - val_loss: 0.0807 - val_accuracy: 0.9765\n",
      "Epoch 19/20\n",
      "300/300 [==============================] - 3s 11ms/step - loss: 0.0461 - accuracy: 0.9828 - val_loss: 0.0803 - val_accuracy: 0.9765\n",
      "Epoch 20/20\n",
      "300/300 [==============================] - 4s 12ms/step - loss: 0.0453 - accuracy: 0.9831 - val_loss: 0.0816 - val_accuracy: 0.9761\n"
     ]
    }
   ],
   "source": [
    "!rm -f *.csv\n",
    "history = model.fit(x_train, train_tags,\n",
    "                    batch_size=128, epochs=20, validation_data = (x_val, val_tags),\n",
    "                    callbacks=[checkpointer,csv_logger])"
   ]
  },
  {
   "cell_type": "code",
   "execution_count": 15,
   "id": "182206a4",
   "metadata": {
    "execution": {
     "iopub.execute_input": "2021-12-22T09:39:16.560873Z",
     "iopub.status.busy": "2021-12-22T09:39:16.557315Z",
     "iopub.status.idle": "2021-12-22T09:39:16.859127Z",
     "shell.execute_reply": "2021-12-22T09:39:16.859568Z",
     "shell.execute_reply.started": "2021-12-22T09:36:31.165905Z"
    },
    "papermill": {
     "duration": 0.623182,
     "end_time": "2021-12-22T09:39:16.859719",
     "exception": false,
     "start_time": "2021-12-22T09:39:16.236537",
     "status": "completed"
    },
    "tags": []
   },
   "outputs": [
    {
     "data": {
      "image/png": "[encoded data removed]",
      "text/plain": [
       "<Figure size 720x288 with 2 Axes>"
      ]
     },
     "metadata": {
      "needs_background": "light"
     },
     "output_type": "display_data"
    }
   ],
   "source": [
    "import matplotlib.pyplot as plt\n",
    "plt.figure(figsize=(10,4))\n",
    "plt.suptitle(\"GloVe_CNN - learning_rate=0.0001\", fontsize=16)\n",
    "plt.subplot(1,2,1)\n",
    "plt.plot(history.history[\"loss\"], label=\"training\", color=\"blue\", linestyle=\"dashed\")\n",
    "plt.plot(history.history[\"val_loss\"], label=\"validation\", color=\"orange\")\n",
    "plt.xticks((0,5,10,15,20))\n",
    "plt.xlabel(\"Epoch\")\n",
    "plt.ylabel(\"Loss\")\n",
    "plt.legend()\n",
    "plt.subplot(1,2,2)\n",
    "plt.plot(history.history[\"accuracy\"], label=\"training\", color=\"blue\", linestyle=\"dashed\")\n",
    "plt.plot(history.history[\"val_accuracy\"], label=\"validation\", color=\"orange\")\n",
    "plt.xticks((0,5,10,15,20))\n",
    "plt.xlabel(\"Epoch\")\n",
    "plt.ylabel(\"Accuracy\")\n",
    "plt.legend()\n",
    "plt.show()"
   ]
  },
  {
   "cell_type": "code",
   "execution_count": 16,
   "id": "00d79344",
   "metadata": {
    "execution": {
     "iopub.execute_input": "2021-12-22T09:39:17.496295Z",
     "iopub.status.busy": "2021-12-22T09:39:17.493199Z",
     "iopub.status.idle": "2021-12-22T09:39:19.410538Z",
     "shell.execute_reply": "2021-12-22T09:39:19.410021Z",
     "shell.execute_reply.started": "2021-12-22T09:36:31.593483Z"
    },
    "papermill": {
     "duration": 2.236442,
     "end_time": "2021-12-22T09:39:19.410678",
     "exception": false,
     "start_time": "2021-12-22T09:39:17.174236",
     "status": "completed"
    },
    "tags": []
   },
   "outputs": [],
   "source": [
    "# save model\n",
    "model.save('models/GloVe_CNN_model.h5')"
   ]
  },
  {
   "cell_type": "markdown",
   "id": "0a99348f",
   "metadata": {
    "papermill": {
     "duration": 0.311401,
     "end_time": "2021-12-22T09:39:20.038986",
     "exception": false,
     "start_time": "2021-12-22T09:39:19.727585",
     "status": "completed"
    },
    "tags": []
   },
   "source": [
    "## Prediction"
   ]
  },
  {
   "cell_type": "code",
   "execution_count": 17,
   "id": "b79412c7",
   "metadata": {
    "execution": {
     "iopub.execute_input": "2021-12-22T09:39:21.814992Z",
     "iopub.status.busy": "2021-12-22T09:39:21.810016Z",
     "iopub.status.idle": "2021-12-22T09:39:21.985011Z",
     "shell.execute_reply": "2021-12-22T09:39:21.985494Z",
     "shell.execute_reply.started": "2021-12-22T09:36:33.786119Z"
    },
    "papermill": {
     "duration": 1.631556,
     "end_time": "2021-12-22T09:39:21.985662",
     "exception": false,
     "start_time": "2021-12-22T09:39:20.354106",
     "status": "completed"
    },
    "tags": []
   },
   "outputs": [],
   "source": [
    "model =  keras.models.load_model('models/GloVe_CNN_model.h5')\n"
   ]
  },
  {
   "cell_type": "code",
   "execution_count": 18,
   "id": "8d721df1",
   "metadata": {
    "execution": {
     "iopub.execute_input": "2021-12-22T09:39:22.628763Z",
     "iopub.status.busy": "2021-12-22T09:39:22.627081Z",
     "iopub.status.idle": "2021-12-22T09:39:22.630457Z",
     "shell.execute_reply": "2021-12-22T09:39:22.629862Z",
     "shell.execute_reply.started": "2021-12-22T09:36:35.075170Z"
    },
    "papermill": {
     "duration": 0.3215,
     "end_time": "2021-12-22T09:39:22.630638",
     "exception": false,
     "start_time": "2021-12-22T09:39:22.309138",
     "status": "completed"
    },
    "tags": []
   },
   "outputs": [],
   "source": [
    "idx2tag = {v:k for k,v in tag2idx.items()} "
   ]
  },
  {
   "cell_type": "code",
   "execution_count": 19,
   "id": "b8063fbe",
   "metadata": {
    "execution": {
     "iopub.execute_input": "2021-12-22T09:39:23.269822Z",
     "iopub.status.busy": "2021-12-22T09:39:23.268792Z",
     "iopub.status.idle": "2021-12-22T09:39:23.577050Z",
     "shell.execute_reply": "2021-12-22T09:39:23.577764Z",
     "shell.execute_reply.started": "2021-12-22T09:36:35.081489Z"
    },
    "papermill": {
     "duration": 0.632848,
     "end_time": "2021-12-22T09:39:23.577953",
     "exception": false,
     "start_time": "2021-12-22T09:39:22.945105",
     "status": "completed"
    },
    "tags": []
   },
   "outputs": [
    {
     "name": "stdout",
     "output_type": "stream",
     "text": [
      "(1, 128)\n",
      "['O' 'B-org' 'I-org' 'O' 'O' 'O' 'O' 'O' 'O' 'O' 'O' 'O' 'O' 'O' 'O' 'O'\n",
      " 'O' 'O' '_t_pad_' '_t_pad_' '_t_pad_' '_t_pad_' '_t_pad_' '_t_pad_'\n",
      " '_t_pad_' '_t_pad_' '_t_pad_' '_t_pad_' '_t_pad_' '_t_pad_' '_t_pad_'\n",
      " '_t_pad_' '_t_pad_' '_t_pad_' '_t_pad_' '_t_pad_' '_t_pad_' '_t_pad_'\n",
      " '_t_pad_' '_t_pad_' '_t_pad_' '_t_pad_' '_t_pad_' '_t_pad_' '_t_pad_'\n",
      " '_t_pad_' '_t_pad_' '_t_pad_' '_t_pad_' '_t_pad_' '_t_pad_' '_t_pad_'\n",
      " '_t_pad_' '_t_pad_' '_t_pad_' '_t_pad_' '_t_pad_' '_t_pad_' '_t_pad_'\n",
      " '_t_pad_' '_t_pad_' '_t_pad_' '_t_pad_' '_t_pad_' '_t_pad_' '_t_pad_'\n",
      " '_t_pad_' '_t_pad_' '_t_pad_' '_t_pad_' '_t_pad_' '_t_pad_' '_t_pad_'\n",
      " '_t_pad_' '_t_pad_' '_t_pad_' '_t_pad_' '_t_pad_' '_t_pad_' '_t_pad_'\n",
      " '_t_pad_' '_t_pad_' '_t_pad_' '_t_pad_' '_t_pad_' '_t_pad_' '_t_pad_'\n",
      " '_t_pad_' '_t_pad_' '_t_pad_' '_t_pad_' '_t_pad_' '_t_pad_' '_t_pad_'\n",
      " '_t_pad_' '_t_pad_' '_t_pad_' '_t_pad_' '_t_pad_' '_t_pad_' '_t_pad_'\n",
      " '_t_pad_' '_t_pad_' '_t_pad_' '_t_pad_' '_t_pad_' '_t_pad_' '_t_pad_'\n",
      " '_t_pad_' '_t_pad_' '_t_pad_' '_t_pad_' '_t_pad_' '_t_pad_' '_t_pad_'\n",
      " '_t_pad_' '_t_pad_' '_t_pad_' '_t_pad_' '_t_pad_' '_t_pad_' '_t_pad_'\n",
      " '_t_pad_' '_t_pad_' '_t_pad_' '_t_pad_' '_t_pad_' '_t_pad_']\n"
     ]
    }
   ],
   "source": [
    "string_input = keras.Input(shape=(1,), dtype=\"string\")\n",
    "x = vectorizer(string_input)\n",
    "preds = model(x)\n",
    "end_to_end_model = keras.Model(string_input, preds)\n",
    "\n",
    "test_preds_numerical = end_to_end_model.predict(\n",
    "    [[\"HKUST honors faculty and staff members who have served the University for at least two decades.\"]]\n",
    ")\n",
    "\n",
    "\n",
    "test_preds = np.array([[idx2tag[p] for p in preds] for preds in np.argmax(test_preds_numerical,axis=2)])\n",
    "print(test_preds.shape)\n",
    "print(test_preds[0])"
   ]
  }
 ],
 "metadata": {
  "kernelspec": {
   "display_name": "Python 3",
   "language": "python",
   "name": "python3"
  },
  "language_info": {
   "codemirror_mode": {
    "name": "ipython",
    "version": 3
   },
   "file_extension": ".py",
   "mimetype": "text/x-python",
   "name": "python",
   "nbconvert_exporter": "python",
   "pygments_lexer": "ipython3",
   "version": "3.7.12"
  },
  "papermill": {
   "default_parameters": {},
   "duration": 142.448898,
   "end_time": "2021-12-22T09:39:27.185870",
   "environment_variables": {},
   "exception": null,
   "input_path": "__notebook__.ipynb",
   "output_path": "__notebook__.ipynb",
   "parameters": {},
   "start_time": "2021-12-22T09:37:04.736972",
   "version": "2.3.3"
  }
 },
 "nbformat": 4,
 "nbformat_minor": 5
}
