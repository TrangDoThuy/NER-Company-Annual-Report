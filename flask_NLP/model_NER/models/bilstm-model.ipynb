{
 "cells": [
  {
   "cell_type": "code",
   "execution_count": 1,
   "id": "72ee2ff8",
   "metadata": {
    "_cell_guid": "b1076dfc-b9ad-4769-8c92-a6c4dae69d19",
    "_uuid": "8f2839f25d086af736a60e9eeb907d3b93b6e0e5",
    "execution": {
     "iopub.execute_input": "2021-12-20T08:50:06.196699Z",
     "iopub.status.busy": "2021-12-20T08:50:06.195712Z",
     "iopub.status.idle": "2021-12-20T08:50:06.231267Z",
     "shell.execute_reply": "2021-12-20T08:50:06.232060Z",
     "shell.execute_reply.started": "2021-12-20T02:07:57.840841Z"
    },
    "papermill": {
     "duration": 0.061746,
     "end_time": "2021-12-20T08:50:06.232415",
     "exception": false,
     "start_time": "2021-12-20T08:50:06.170669",
     "status": "completed"
    },
    "tags": []
   },
   "outputs": [
    {
     "name": "stdout",
     "output_type": "stream",
     "text": [
      "/kaggle/input/bert-base-uncased/config.json\n",
      "/kaggle/input/bert-base-uncased/pytorch_model.bin\n",
      "/kaggle/input/bert-base-uncased/vocab.txt\n",
      "/kaggle/input/ner-dataset/ner_dataset.csv\n"
     ]
    }
   ],
   "source": [
    "# This Python 3 environment comes with many helpful analytics libraries installed\n",
    "# It is defined by the kaggle/python Docker image: https://github.com/kaggle/docker-python\n",
    "# For example, here's several helpful packages to load\n",
    "\n",
    "import numpy as np # linear algebra\n",
    "import pandas as pd # data processing, CSV file I/O (e.g. pd.read_csv)\n",
    "\n",
    "# Input data files are available in the read-only \"../input/\" directory\n",
    "# For example, running this (by clicking run or pressing Shift+Enter) will list all files under the input directory\n",
    "\n",
    "import os\n",
    "for dirname, _, filenames in os.walk('/kaggle/input'):\n",
    "    for filename in filenames:\n",
    "        print(os.path.join(dirname, filename))\n",
    "\n",
    "# You can write up to 20GB to the current directory (/kaggle/working/) that gets preserved as output when you create a version using \"Save & Run All\" \n",
    "# You can also write temporary files to /kaggle/temp/, but they won't be saved outside of the current session"
   ]
  },
  {
   "cell_type": "markdown",
   "id": "f9fc51a0",
   "metadata": {},
   "source": [
    "For running and training model, please find at https://www.kaggle.com/trangdothuy/ner-bilstm-model/notebook"
   ]
  },
  {
   "cell_type": "code",
   "execution_count": 2,
   "id": "8d73bd22",
   "metadata": {
    "execution": {
     "iopub.execute_input": "2021-12-20T08:50:06.272603Z",
     "iopub.status.busy": "2021-12-20T08:50:06.271880Z",
     "iopub.status.idle": "2021-12-20T08:50:12.067083Z",
     "shell.execute_reply": "2021-12-20T08:50:12.065804Z",
     "shell.execute_reply.started": "2021-12-20T02:55:04.751457Z"
    },
    "papermill": {
     "duration": 5.816578,
     "end_time": "2021-12-20T08:50:12.067255",
     "exception": false,
     "start_time": "2021-12-20T08:50:06.250677",
     "status": "completed"
    },
    "tags": []
   },
   "outputs": [],
   "source": [
    "import tensorflow as tf\n",
    "import keras\n",
    "from keras.models import Model, Input, Sequential\n",
    "from keras.layers import LSTM,GRU, Embedding, Dense, TimeDistributed, Dropout, Bidirectional, BatchNormalization, Activation, Add\n",
    "from tensorflow.keras.utils import to_categorical\n",
    "from tensorflow.keras.optimizers import Adam\n",
    "from numpy.random import seed"
   ]
  },
  {
   "cell_type": "code",
   "execution_count": 3,
   "id": "7617990a",
   "metadata": {
    "execution": {
     "iopub.execute_input": "2021-12-20T08:50:12.104561Z",
     "iopub.status.busy": "2021-12-20T08:50:12.103758Z",
     "iopub.status.idle": "2021-12-20T08:50:14.327563Z",
     "shell.execute_reply": "2021-12-20T08:50:14.326987Z",
     "shell.execute_reply.started": "2021-12-20T02:07:57.881714Z"
    },
    "papermill": {
     "duration": 2.243924,
     "end_time": "2021-12-20T08:50:14.327711",
     "exception": false,
     "start_time": "2021-12-20T08:50:12.083787",
     "status": "completed"
    },
    "tags": []
   },
   "outputs": [],
   "source": [
    "import torch\n",
    "import torch.nn as nn\n",
    "from tqdm import tqdm\n",
    "import transformers \n",
    "\n",
    "import pandas as pd\n",
    "import numpy as np \n",
    "\n",
    "import joblib\n",
    "\n",
    "\n",
    "from sklearn import preprocessing\n",
    "from sklearn import model_selection\n",
    "\n",
    "from transformers import AdamW\n",
    "from transformers import get_linear_schedule_with_warmup"
   ]
  },
  {
   "cell_type": "code",
   "execution_count": 4,
   "id": "42bac364",
   "metadata": {
    "execution": {
     "iopub.execute_input": "2021-12-20T08:50:14.379886Z",
     "iopub.status.busy": "2021-12-20T08:50:14.378860Z",
     "iopub.status.idle": "2021-12-20T08:50:14.813287Z",
     "shell.execute_reply": "2021-12-20T08:50:14.812578Z",
     "shell.execute_reply.started": "2021-12-20T02:08:04.389915Z"
    },
    "papermill": {
     "duration": 0.45983,
     "end_time": "2021-12-20T08:50:14.813453",
     "exception": false,
     "start_time": "2021-12-20T08:50:14.353623",
     "status": "completed"
    },
    "tags": []
   },
   "outputs": [],
   "source": [
    "class Config:\n",
    "    def __init__(self):\n",
    "        self.MAX_LEN = 128\n",
    "        self.TRAIN_BATCH_SIZE = 8\n",
    "        self.VALID_BATCH_SIZE = 8\n",
    "        self.EPOCHS = 5\n",
    "        self.BASE_MODEL_PATH = \"../input/bert-base-uncased\"\n",
    "        self.MODEL_PATH = \"./model.bin\"\n",
    "        self.TRAINING_FILE = \"../input/ner-dataset/ner_dataset.csv\"\n",
    "        self.TOKENIZER = transformers.BertTokenizer.from_pretrained(\n",
    "                self.BASE_MODEL_PATH,\n",
    "                do_lower_case=True\n",
    "            )\n",
    "config = Config()"
   ]
  },
  {
   "cell_type": "code",
   "execution_count": 5,
   "id": "a298e37f",
   "metadata": {
    "execution": {
     "iopub.execute_input": "2021-12-20T08:50:14.863267Z",
     "iopub.status.busy": "2021-12-20T08:50:14.849254Z",
     "iopub.status.idle": "2021-12-20T08:50:25.479277Z",
     "shell.execute_reply": "2021-12-20T08:50:25.478138Z",
     "shell.execute_reply.started": "2021-12-20T03:10:48.208255Z"
    },
    "papermill": {
     "duration": 10.649924,
     "end_time": "2021-12-20T08:50:25.479441",
     "exception": false,
     "start_time": "2021-12-20T08:50:14.829517",
     "status": "completed"
    },
    "tags": []
   },
   "outputs": [],
   "source": [
    "\n",
    "def process_data(data_path):\n",
    "    df = pd.read_csv(data_path,encoding='latin-1')\n",
    "    df.loc[:,\"Sentence #\"] = df[\"Sentence #\"].fillna(method=\"ffill\")\n",
    "\n",
    "    sentences = df.groupby(\"Sentence #\")[\"Word\"].apply(list).values \n",
    "    tag = df.groupby(\"Sentence #\")[\"Tag\"].apply(list).values\n",
    "    \n",
    "    vocab_dict = {'_unk_': 1, '_w_pad_': 0}\n",
    "    tag_dict = {'_t_pad_': 0}\n",
    "    \n",
    "    # add padding token to sentence, and build vocab dict\n",
    "    padded_sents = []\n",
    "    for sent in sentences:\n",
    "        padded_sent = []\n",
    "        for word in sent:\n",
    "            padded_sent.append(word)\n",
    "            if word not in vocab_dict:\n",
    "                vocab_dict[word] = len(vocab_dict)\n",
    "        if len(padded_sent) < config.MAX_LEN:\n",
    "            added_len = config.MAX_LEN - len(padded_sent)\n",
    "            padded_sent += ['_w_pad_']*added_len\n",
    "        assert len(padded_sent) == config.MAX_LEN\n",
    "        padded_sents.append(padded_sent)\n",
    "        \n",
    "    # do the same with tag\n",
    "    tag_seqs = []\n",
    "    for tag_seq in tag:\n",
    "        padded_tags = []\n",
    "        for tag_item in tag_seq:\n",
    "            padded_tags.append(tag_item)\n",
    "            if tag_item not in tag_dict:\n",
    "                tag_dict[tag_item] = len(tag_dict)\n",
    "        if len(padded_tags) < config.MAX_LEN:\n",
    "            added_len = config.MAX_LEN - len(padded_tags)\n",
    "            padded_tags += ['_t_pad_']*added_len\n",
    "        assert len(padded_tags) == config.MAX_LEN\n",
    "        tag_seqs.append(padded_tags)\n",
    "        \n",
    "    word2idx = vocab_dict\n",
    "    tag2idx = tag_dict\n",
    "    \n",
    "    sent_tokens = np.array([[word2idx[w] for w in doc] for doc in padded_sents])\n",
    "    tag_tokens = [[tag2idx[t] for t in t_seq] for t_seq in tag_seqs]\n",
    "    tag_tokens = np.array([to_categorical(t_seq, num_classes=len(tag_dict)) for t_seq in tag_tokens])\n",
    "    \n",
    "    return sent_tokens, tag_tokens, word2idx, tag2idx\n",
    "\n",
    "if __name__ == '__main__':\n",
    "    sent_tokens, tag_tokens, word2idx, tag2idx = process_data(config.TRAINING_FILE)\n",
    "    idx2word = {v:k for k,v in word2idx.items()}\n",
    "    idx2tag = {v:k for k,v in tag2idx.items()} "
   ]
  },
  {
   "cell_type": "code",
   "execution_count": 6,
   "id": "7ca12e1d",
   "metadata": {
    "execution": {
     "iopub.execute_input": "2021-12-20T08:50:25.522369Z",
     "iopub.status.busy": "2021-12-20T08:50:25.519484Z",
     "iopub.status.idle": "2021-12-20T08:50:25.653790Z",
     "shell.execute_reply": "2021-12-20T08:50:25.653220Z",
     "shell.execute_reply.started": "2021-12-20T02:58:06.776653Z"
    },
    "papermill": {
     "duration": 0.15811,
     "end_time": "2021-12-20T08:50:25.653937",
     "exception": false,
     "start_time": "2021-12-20T08:50:25.495827",
     "status": "completed"
    },
    "tags": []
   },
   "outputs": [],
   "source": [
    "(\n",
    "        train_tokens, \n",
    "        val_tokens, \n",
    "        train_tags,\n",
    "        val_tags\n",
    "     ) = model_selection.train_test_split(sent_tokens, tag_tokens,random_state = 42,test_size = 0.2)\n",
    "\n"
   ]
  },
  {
   "cell_type": "code",
   "execution_count": 7,
   "id": "38e79518",
   "metadata": {
    "execution": {
     "iopub.execute_input": "2021-12-20T08:50:25.703209Z",
     "iopub.status.busy": "2021-12-20T08:50:25.699254Z",
     "iopub.status.idle": "2021-12-20T08:50:25.705587Z",
     "shell.execute_reply": "2021-12-20T08:50:25.706147Z",
     "shell.execute_reply.started": "2021-12-20T02:50:14.261678Z"
    },
    "papermill": {
     "duration": 0.03633,
     "end_time": "2021-12-20T08:50:25.706319",
     "exception": false,
     "start_time": "2021-12-20T08:50:25.669989",
     "status": "completed"
    },
    "tags": []
   },
   "outputs": [],
   "source": [
    "def build_model(max_sent_length, vocab_size, hidden_size, embedding_size, \n",
    "                output_size, learning_rate,num_mlp_layers,activation,dropout_rate):\n",
    "    \n",
    "    \n",
    "    inputs = Input(shape=(max_sent_length,), dtype='int32')\n",
    "    emb = Embedding(input_dim=vocab_size,\n",
    "                    output_dim=embedding_size,\n",
    "                    input_length=max_sent_length,\n",
    "                    embeddings_initializer=keras.initializers.TruncatedNormal(mean=0.0, stddev=0.1, seed=0))(inputs)\n",
    "    \n",
    "    bilstm_layer_1 = Bidirectional(LSTM(hidden_size,\n",
    "                   kernel_initializer=keras.initializers.glorot_uniform(seed=0),\n",
    "                   recurrent_initializer=keras.initializers.Orthogonal(gain=1.0, seed=0),\n",
    "                   return_sequences=True))(emb)\n",
    "    bilstm_layer_1_dropout = Dropout(dropout_rate, seed=0)(bilstm_layer_1)\n",
    "    bilstm_layer_2 = Bidirectional(LSTM(hidden_size,\n",
    "                   kernel_initializer=keras.initializers.glorot_uniform(seed=0),\n",
    "                   recurrent_initializer=keras.initializers.Orthogonal(gain=1.0, seed=0),\n",
    "                   return_sequences=True))(bilstm_layer_1_dropout)\n",
    "    bilstm_layer_2_dropout = Dropout(dropout_rate, seed=0)(bilstm_layer_2)\n",
    "\n",
    "    bilstm_layer_3 = Bidirectional(LSTM(hidden_size,\n",
    "                   kernel_initializer=keras.initializers.glorot_uniform(seed=0),\n",
    "                   recurrent_initializer=keras.initializers.Orthogonal(gain=1.0, seed=0),\n",
    "                   return_sequences=True))(bilstm_layer_2_dropout)\n",
    "    bilstm_layer_3_dropout = Dropout(dropout_rate, seed=0)(bilstm_layer_3)\n",
    "\n",
    "    bilstm_layer_4 = Bidirectional(LSTM(hidden_size,\n",
    "                   kernel_initializer=keras.initializers.glorot_uniform(seed=0),\n",
    "                   recurrent_initializer=keras.initializers.Orthogonal(gain=1.0, seed=0),\n",
    "                   return_sequences=True))(bilstm_layer_3_dropout)\n",
    "    bilstm_layer_4_dropout = Dropout(dropout_rate, seed=0)(bilstm_layer_4)\n",
    "    \n",
    "    h = bilstm_layer_4_dropout\n",
    "    \n",
    "    for i in range(num_mlp_layers-1):\n",
    "        new_h = Dense(hidden_size,\n",
    "                      kernel_initializer=keras.initializers.he_normal(seed=0),\n",
    "                      bias_initializer=\"zeros\",\n",
    "                      kernel_regularizer=keras.regularizers.l2(0.0))(h)\n",
    "        # add batch normalization layer\n",
    "        new_h = BatchNormalization()(new_h)\n",
    "        # add residual connection\n",
    "        if i == 0:\n",
    "            h = new_h\n",
    "        else:\n",
    "            h = Add()([h, new_h])\n",
    "        # add activation\n",
    "        h = Activation(activation)(h)\n",
    "    dense = Dense(output_size,\n",
    "              activation=\"softmax\",\n",
    "              kernel_initializer=keras.initializers.he_normal(seed=0),\n",
    "              bias_initializer=\"zeros\")(h)\n",
    "    \n",
    "    model = Model(inputs, dense)\n",
    "    model.compile(loss=\"categorical_crossentropy\", optimizer=\"Adam\", metrics=[\"accuracy\"])\n",
    "                                 \n",
    "    return model"
   ]
  },
  {
   "cell_type": "code",
   "execution_count": 8,
   "id": "8bef4a22",
   "metadata": {
    "execution": {
     "iopub.execute_input": "2021-12-20T08:50:25.756254Z",
     "iopub.status.busy": "2021-12-20T08:50:25.755036Z",
     "iopub.status.idle": "2021-12-20T08:50:25.759758Z",
     "shell.execute_reply": "2021-12-20T08:50:25.760741Z",
     "shell.execute_reply.started": "2021-12-20T02:58:18.063042Z"
    },
    "papermill": {
     "duration": 0.039212,
     "end_time": "2021-12-20T08:50:25.761038",
     "exception": false,
     "start_time": "2021-12-20T08:50:25.721826",
     "status": "completed"
    },
    "tags": []
   },
   "outputs": [],
   "source": [
    "import csv\n",
    "from pathlib import Path\n",
    "\n",
    "checkpointer = keras.callbacks.ModelCheckpoint(\n",
    "    filepath=os.path.join(\"models\", \"LSTM_CRF.hdf5\"),\n",
    "    monitor=\"val_accuracy\",\n",
    "    verbose=0,\n",
    "    save_best_only=True)\n",
    "\n",
    "class StepLogCallback(keras.callbacks.Callback):\n",
    "    def __init__(self):\n",
    "        self.count = 0\n",
    "        self.step_log = []\n",
    "        self.log_fpath = Path('./step_log.csv')\n",
    "    \n",
    "    def on_train_batch_end(self, batch, logs=None):\n",
    "        self.count += 1\n",
    "        self.step_log.append([self.count, logs['loss'], logs['accuracy']])\n",
    "    \n",
    "    def on_epoch_end(self, epoch, logs=None):\n",
    "        log_exists = self.log_fpath.exists()\n",
    "        with open(self.log_fpath, 'a' if log_exists else 'w', newline='') as csvfile:\n",
    "            writer = csv.writer(csvfile)\n",
    "            if not log_exists:\n",
    "                writer.writerow(['step','loss','accuracy'])\n",
    "            for log in self.step_log:\n",
    "                writer.writerow(log)\n",
    "            self.step_log.clear()\n",
    "\n",
    "class TestCallback(keras.callbacks.Callback):\n",
    "    def __init__(self, test_data, ground_file, model):\n",
    "        self.count = 0\n",
    "        self.test_data = test_data\n",
    "        self.model = model\n",
    "        self.ground_file = ground_file\n",
    "        self.epoch_log = []\n",
    "        self.log_fpath = Path('./epoch_log.csv')\n",
    "        \n",
    "    def calc_accuracy(self, preds, tags, padding_id=\"_t_pad_\"):\n",
    "        preds_flatten = preds.flatten()\n",
    "        tags_flatten = tags.flatten()\n",
    "        non_padding_idx = np.where(tags_flatten!=padding_id)[0]\n",
    "        return sum(preds_flatten[non_padding_idx]==tags_flatten[non_padding_idx])/len(non_padding_idx)\n",
    "        \n",
    "    def on_epoch_end(self, epoch, logs=None):\n",
    "        val_preds_numerical = self.model.predict(self.test_data)\n",
    "        val_preds = np.array([[idx2tag[p] for p in preds] for preds in np.argmax(val_preds_numerical,axis=2)])\n",
    "        file_dict = pkl.load(open(self.ground_file, \"rb\"))\n",
    "        val_accuracy = self.calc_accuracy(val_preds, np.array(file_dict[\"tag_seq\"]))\n",
    "        \n",
    "        print('\\nValidation Set Accuracy: %f\\n' % val_accuracy)\n",
    "        \n",
    "        self.count += 1\n",
    "        log_exists = self.log_fpath.exists()\n",
    "        with open(self.log_fpath, 'a' if log_exists else 'w', newline='') as csvfile:\n",
    "            writer = csv.writer(csvfile)\n",
    "            if not log_exists:\n",
    "                writer.writerow(['epoch','loss','train_accuracy','val_accuracy'])\n",
    "            writer.writerow([self.count, logs['loss'], logs['accuracy'], val_accuracy])\n",
    "            self.epoch_log.clear()"
   ]
  },
  {
   "cell_type": "code",
   "execution_count": 9,
   "id": "6c922268",
   "metadata": {
    "execution": {
     "iopub.execute_input": "2021-12-20T08:50:25.797647Z",
     "iopub.status.busy": "2021-12-20T08:50:25.796719Z",
     "iopub.status.idle": "2021-12-20T08:50:25.799375Z",
     "shell.execute_reply": "2021-12-20T08:50:25.799919Z",
     "shell.execute_reply.started": "2021-12-20T03:11:29.208651Z"
    },
    "papermill": {
     "duration": 0.023408,
     "end_time": "2021-12-20T08:50:25.800050",
     "exception": false,
     "start_time": "2021-12-20T08:50:25.776642",
     "status": "completed"
    },
    "tags": []
   },
   "outputs": [],
   "source": [
    "input_length = config.MAX_LEN\n",
    "vocab_size = len(word2idx)\n",
    "hidden_size = 100\n",
    "embedding_size = 300\n",
    "output_size = train_tags.shape[2]\n",
    "learning_rate = 0.0001\n",
    "num_mlp_layers = 3\n",
    "activation = \"tanh\"\n",
    "dropout_rate = 0.5"
   ]
  },
  {
   "cell_type": "code",
   "execution_count": 10,
   "id": "273d259f",
   "metadata": {
    "execution": {
     "iopub.execute_input": "2021-12-20T08:50:25.835404Z",
     "iopub.status.busy": "2021-12-20T08:50:25.834421Z",
     "iopub.status.idle": "2021-12-20T08:50:33.728070Z",
     "shell.execute_reply": "2021-12-20T08:50:33.728647Z",
     "shell.execute_reply.started": "2021-12-20T03:11:48.974194Z"
    },
    "papermill": {
     "duration": 7.913288,
     "end_time": "2021-12-20T08:50:33.728845",
     "exception": false,
     "start_time": "2021-12-20T08:50:25.815557",
     "status": "completed"
    },
    "tags": []
   },
   "outputs": [
    {
     "name": "stderr",
     "output_type": "stream",
     "text": [
      "2021-12-20 08:50:25.935527: I tensorflow/stream_executor/cuda/cuda_gpu_executor.cc:937] successful NUMA node read from SysFS had negative value (-1), but there must be at least one NUMA node, so returning NUMA node zero\n",
      "2021-12-20 08:50:25.937084: I tensorflow/stream_executor/cuda/cuda_gpu_executor.cc:937] successful NUMA node read from SysFS had negative value (-1), but there must be at least one NUMA node, so returning NUMA node zero\n",
      "2021-12-20 08:50:25.938186: I tensorflow/stream_executor/cuda/cuda_gpu_executor.cc:937] successful NUMA node read from SysFS had negative value (-1), but there must be at least one NUMA node, so returning NUMA node zero\n",
      "2021-12-20 08:50:25.939476: I tensorflow/core/platform/cpu_feature_guard.cc:142] This TensorFlow binary is optimized with oneAPI Deep Neural Network Library (oneDNN) to use the following CPU instructions in performance-critical operations:  AVX2 FMA\n",
      "To enable them in other operations, rebuild TensorFlow with the appropriate compiler flags.\n",
      "2021-12-20 08:50:25.940834: I tensorflow/stream_executor/cuda/cuda_gpu_executor.cc:937] successful NUMA node read from SysFS had negative value (-1), but there must be at least one NUMA node, so returning NUMA node zero\n",
      "2021-12-20 08:50:25.941903: I tensorflow/stream_executor/cuda/cuda_gpu_executor.cc:937] successful NUMA node read from SysFS had negative value (-1), but there must be at least one NUMA node, so returning NUMA node zero\n",
      "2021-12-20 08:50:25.942878: I tensorflow/stream_executor/cuda/cuda_gpu_executor.cc:937] successful NUMA node read from SysFS had negative value (-1), but there must be at least one NUMA node, so returning NUMA node zero\n",
      "2021-12-20 08:50:31.120534: I tensorflow/stream_executor/cuda/cuda_gpu_executor.cc:937] successful NUMA node read from SysFS had negative value (-1), but there must be at least one NUMA node, so returning NUMA node zero\n",
      "2021-12-20 08:50:31.121558: I tensorflow/stream_executor/cuda/cuda_gpu_executor.cc:937] successful NUMA node read from SysFS had negative value (-1), but there must be at least one NUMA node, so returning NUMA node zero\n",
      "2021-12-20 08:50:31.122485: I tensorflow/stream_executor/cuda/cuda_gpu_executor.cc:937] successful NUMA node read from SysFS had negative value (-1), but there must be at least one NUMA node, so returning NUMA node zero\n",
      "2021-12-20 08:50:31.123374: I tensorflow/core/common_runtime/gpu/gpu_device.cc:1510] Created device /job:localhost/replica:0/task:0/device:GPU:0 with 14959 MB memory:  -> device: 0, name: Tesla P100-PCIE-16GB, pci bus id: 0000:00:04.0, compute capability: 6.0\n"
     ]
    },
    {
     "name": "stdout",
     "output_type": "stream",
     "text": [
      "Model: \"model\"\n",
      "__________________________________________________________________________________________________\n",
      "Layer (type)                    Output Shape         Param #     Connected to                     \n",
      "==================================================================================================\n",
      "input_1 (InputLayer)            [(None, 128)]        0                                            \n",
      "__________________________________________________________________________________________________\n",
      "embedding (Embedding)           (None, 128, 300)     10554000    input_1[0][0]                    \n",
      "__________________________________________________________________________________________________\n",
      "bidirectional (Bidirectional)   (None, 128, 200)     320800      embedding[0][0]                  \n",
      "__________________________________________________________________________________________________\n",
      "dropout (Dropout)               (None, 128, 200)     0           bidirectional[0][0]              \n",
      "__________________________________________________________________________________________________\n",
      "bidirectional_1 (Bidirectional) (None, 128, 200)     240800      dropout[0][0]                    \n",
      "__________________________________________________________________________________________________\n",
      "dropout_1 (Dropout)             (None, 128, 200)     0           bidirectional_1[0][0]            \n",
      "__________________________________________________________________________________________________\n",
      "bidirectional_2 (Bidirectional) (None, 128, 200)     240800      dropout_1[0][0]                  \n",
      "__________________________________________________________________________________________________\n",
      "dropout_2 (Dropout)             (None, 128, 200)     0           bidirectional_2[0][0]            \n",
      "__________________________________________________________________________________________________\n",
      "bidirectional_3 (Bidirectional) (None, 128, 200)     240800      dropout_2[0][0]                  \n",
      "__________________________________________________________________________________________________\n",
      "dropout_3 (Dropout)             (None, 128, 200)     0           bidirectional_3[0][0]            \n",
      "__________________________________________________________________________________________________\n",
      "dense (Dense)                   (None, 128, 100)     20100       dropout_3[0][0]                  \n",
      "__________________________________________________________________________________________________\n",
      "batch_normalization (BatchNorma (None, 128, 100)     400         dense[0][0]                      \n",
      "__________________________________________________________________________________________________\n",
      "activation (Activation)         (None, 128, 100)     0           batch_normalization[0][0]        \n",
      "__________________________________________________________________________________________________\n",
      "dense_1 (Dense)                 (None, 128, 100)     10100       activation[0][0]                 \n",
      "__________________________________________________________________________________________________\n",
      "batch_normalization_1 (BatchNor (None, 128, 100)     400         dense_1[0][0]                    \n",
      "__________________________________________________________________________________________________\n",
      "add (Add)                       (None, 128, 100)     0           activation[0][0]                 \n",
      "                                                                 batch_normalization_1[0][0]      \n",
      "__________________________________________________________________________________________________\n",
      "activation_1 (Activation)       (None, 128, 100)     0           add[0][0]                        \n",
      "__________________________________________________________________________________________________\n",
      "dense_2 (Dense)                 (None, 128, 18)      1818        activation_1[0][0]               \n",
      "==================================================================================================\n",
      "Total params: 11,630,018\n",
      "Trainable params: 11,629,618\n",
      "Non-trainable params: 400\n",
      "__________________________________________________________________________________________________\n"
     ]
    }
   ],
   "source": [
    "np.random.seed(0)\n",
    "tf.random.set_seed(0)\n",
    "model = build_model(input_length, vocab_size, hidden_size, embedding_size, \n",
    "                    output_size, learning_rate, num_mlp_layers, activation, dropout_rate)\n",
    "model.summary()"
   ]
  },
  {
   "cell_type": "code",
   "execution_count": 11,
   "id": "29b9d20e",
   "metadata": {
    "execution": {
     "iopub.execute_input": "2021-12-20T08:50:33.767759Z",
     "iopub.status.busy": "2021-12-20T08:50:33.767062Z",
     "iopub.status.idle": "2021-12-20T08:50:33.771134Z",
     "shell.execute_reply": "2021-12-20T08:50:33.771877Z",
     "shell.execute_reply.started": "2021-12-20T03:12:51.536888Z"
    },
    "papermill": {
     "duration": 0.026278,
     "end_time": "2021-12-20T08:50:33.772078",
     "exception": false,
     "start_time": "2021-12-20T08:50:33.745800",
     "status": "completed"
    },
    "tags": []
   },
   "outputs": [],
   "source": [
    "from keras.callbacks import CSVLogger\n",
    "csv_logger = CSVLogger('rnn-ner-training.log', append=False)\n",
    "earlystopping = keras.callbacks.EarlyStopping(\n",
    "    monitor='val_loss',\n",
    "    patience=5,\n",
    "    verbose=0)"
   ]
  },
  {
   "cell_type": "code",
   "execution_count": 12,
   "id": "fff552fa",
   "metadata": {
    "execution": {
     "iopub.execute_input": "2021-12-20T08:50:33.810884Z",
     "iopub.status.busy": "2021-12-20T08:50:33.809926Z",
     "iopub.status.idle": "2021-12-20T09:02:36.950088Z",
     "shell.execute_reply": "2021-12-20T09:02:36.950942Z",
     "shell.execute_reply.started": "2021-12-20T03:13:03.273002Z"
    },
    "papermill": {
     "duration": 723.1625,
     "end_time": "2021-12-20T09:02:36.951289",
     "exception": false,
     "start_time": "2021-12-20T08:50:33.788789",
     "status": "completed"
    },
    "tags": []
   },
   "outputs": [
    {
     "name": "stderr",
     "output_type": "stream",
     "text": [
      "2021-12-20 08:50:35.343807: I tensorflow/compiler/mlir/mlir_graph_optimization_pass.cc:185] None of the MLIR Optimization Passes are enabled (registered 2)\n"
     ]
    },
    {
     "name": "stdout",
     "output_type": "stream",
     "text": [
      "Epoch 1/20\n"
     ]
    },
    {
     "name": "stderr",
     "output_type": "stream",
     "text": [
      "2021-12-20 08:50:48.261980: I tensorflow/stream_executor/cuda/cuda_dnn.cc:369] Loaded cuDNN version 8005\n"
     ]
    },
    {
     "name": "stdout",
     "output_type": "stream",
     "text": [
      "300/300 [==============================] - 54s 129ms/step - loss: 0.2102 - accuracy: 0.9577 - val_loss: 0.1271 - val_accuracy: 0.9737\n"
     ]
    },
    {
     "name": "stderr",
     "output_type": "stream",
     "text": [
      "/opt/conda/lib/python3.7/site-packages/keras/utils/generic_utils.py:497: CustomMaskWarning: Custom mask layers require a config and must override get_config. When loading, the custom mask layer must be passed to the custom_objects argument.\n",
      "  category=CustomMaskWarning)\n"
     ]
    },
    {
     "name": "stdout",
     "output_type": "stream",
     "text": [
      "Epoch 2/20\n",
      "300/300 [==============================] - 35s 116ms/step - loss: 0.1256 - accuracy: 0.9738 - val_loss: 0.1205 - val_accuracy: 0.9737\n",
      "Epoch 3/20\n",
      "300/300 [==============================] - 35s 117ms/step - loss: 0.0936 - accuracy: 0.9760 - val_loss: 0.0567 - val_accuracy: 0.9819\n",
      "Epoch 4/20\n",
      "300/300 [==============================] - 35s 116ms/step - loss: 0.0472 - accuracy: 0.9849 - val_loss: 0.0385 - val_accuracy: 0.9887\n",
      "Epoch 5/20\n",
      "300/300 [==============================] - 35s 117ms/step - loss: 0.0316 - accuracy: 0.9909 - val_loss: 0.0309 - val_accuracy: 0.9914\n",
      "Epoch 6/20\n",
      "300/300 [==============================] - 35s 117ms/step - loss: 0.0233 - accuracy: 0.9937 - val_loss: 0.0254 - val_accuracy: 0.9932\n",
      "Epoch 7/20\n",
      "300/300 [==============================] - 35s 118ms/step - loss: 0.0186 - accuracy: 0.9951 - val_loss: 0.0241 - val_accuracy: 0.9937\n",
      "Epoch 8/20\n",
      "300/300 [==============================] - 35s 116ms/step - loss: 0.0157 - accuracy: 0.9958 - val_loss: 0.0243 - val_accuracy: 0.9935\n",
      "Epoch 9/20\n",
      "300/300 [==============================] - 35s 116ms/step - loss: 0.0137 - accuracy: 0.9963 - val_loss: 0.0237 - val_accuracy: 0.9939\n",
      "Epoch 10/20\n",
      "300/300 [==============================] - 35s 116ms/step - loss: 0.0120 - accuracy: 0.9968 - val_loss: 0.0245 - val_accuracy: 0.9937\n",
      "Epoch 11/20\n",
      "300/300 [==============================] - 35s 116ms/step - loss: 0.0108 - accuracy: 0.9971 - val_loss: 0.0252 - val_accuracy: 0.9939\n",
      "Epoch 12/20\n",
      "300/300 [==============================] - 35s 116ms/step - loss: 0.0096 - accuracy: 0.9974 - val_loss: 0.0260 - val_accuracy: 0.9938\n",
      "Epoch 13/20\n",
      "300/300 [==============================] - 34s 115ms/step - loss: 0.0086 - accuracy: 0.9977 - val_loss: 0.0272 - val_accuracy: 0.9937\n",
      "Epoch 14/20\n",
      "300/300 [==============================] - 35s 117ms/step - loss: 0.0077 - accuracy: 0.9980 - val_loss: 0.0283 - val_accuracy: 0.9938\n",
      "Epoch 15/20\n",
      "300/300 [==============================] - 35s 115ms/step - loss: 0.0071 - accuracy: 0.9981 - val_loss: 0.0289 - val_accuracy: 0.9938\n",
      "Epoch 16/20\n",
      "300/300 [==============================] - 35s 116ms/step - loss: 0.0065 - accuracy: 0.9983 - val_loss: 0.0294 - val_accuracy: 0.9936\n",
      "Epoch 17/20\n",
      "300/300 [==============================] - 35s 115ms/step - loss: 0.0059 - accuracy: 0.9984 - val_loss: 0.0305 - val_accuracy: 0.9937\n",
      "Epoch 18/20\n",
      "300/300 [==============================] - 35s 116ms/step - loss: 0.0054 - accuracy: 0.9986 - val_loss: 0.0325 - val_accuracy: 0.9937\n",
      "Epoch 19/20\n",
      "300/300 [==============================] - 35s 116ms/step - loss: 0.0049 - accuracy: 0.9987 - val_loss: 0.0336 - val_accuracy: 0.9936\n",
      "Epoch 20/20\n",
      "300/300 [==============================] - 35s 116ms/step - loss: 0.0046 - accuracy: 0.9988 - val_loss: 0.0352 - val_accuracy: 0.9936\n"
     ]
    }
   ],
   "source": [
    "!rm -f *.csv\n",
    "history = model.fit(train_tokens, train_tags,\n",
    "                    batch_size=128, epochs=20, validation_data = (val_tokens, val_tags),\n",
    "                    callbacks=[checkpointer,csv_logger])"
   ]
  },
  {
   "cell_type": "code",
   "execution_count": 13,
   "id": "4cb152a8",
   "metadata": {
    "execution": {
     "iopub.execute_input": "2021-12-20T09:02:41.004122Z",
     "iopub.status.busy": "2021-12-20T09:02:41.002977Z",
     "iopub.status.idle": "2021-12-20T09:02:41.373384Z",
     "shell.execute_reply": "2021-12-20T09:02:41.373966Z",
     "shell.execute_reply.started": "2021-12-20T03:24:39.108359Z"
    },
    "papermill": {
     "duration": 2.424923,
     "end_time": "2021-12-20T09:02:41.374189",
     "exception": false,
     "start_time": "2021-12-20T09:02:38.949266",
     "status": "completed"
    },
    "tags": []
   },
   "outputs": [
    {
     "data": {
      "image/png": "[encoded data removed]",
      "text/plain": [
       "<Figure size 720x288 with 2 Axes>"
      ]
     },
     "metadata": {
      "needs_background": "light"
     },
     "output_type": "display_data"
    }
   ],
   "source": [
    "import matplotlib.pyplot as plt\n",
    "plt.figure(figsize=(10,4))\n",
    "plt.suptitle(\"RNN - learning_rate=0.0001\", fontsize=16)\n",
    "plt.subplot(1,2,1)\n",
    "plt.plot(history.history[\"loss\"], label=\"training\", color=\"blue\", linestyle=\"dashed\")\n",
    "plt.plot(history.history[\"val_loss\"], label=\"validation\", color=\"orange\")\n",
    "plt.xticks((0,5,10,15,20))\n",
    "plt.xlabel(\"Epoch\")\n",
    "plt.ylabel(\"Loss\")\n",
    "plt.legend()\n",
    "plt.subplot(1,2,2)\n",
    "plt.plot(history.history[\"accuracy\"], label=\"training\", color=\"blue\", linestyle=\"dashed\")\n",
    "plt.plot(history.history[\"val_accuracy\"], label=\"validation\", color=\"orange\")\n",
    "plt.xticks((0,5,10,15,20))\n",
    "plt.xlabel(\"Epoch\")\n",
    "plt.ylabel(\"Accuracy\")\n",
    "plt.legend()\n",
    "plt.show()"
   ]
  },
  {
   "cell_type": "code",
   "execution_count": 14,
   "id": "8edebac6",
   "metadata": {
    "execution": {
     "iopub.execute_input": "2021-12-20T09:02:45.417917Z",
     "iopub.status.busy": "2021-12-20T09:02:45.416802Z",
     "iopub.status.idle": "2021-12-20T09:02:45.949536Z",
     "shell.execute_reply": "2021-12-20T09:02:45.950794Z",
     "shell.execute_reply.started": "2021-12-20T04:39:41.055948Z"
    },
    "papermill": {
     "duration": 2.571448,
     "end_time": "2021-12-20T09:02:45.951044",
     "exception": false,
     "start_time": "2021-12-20T09:02:43.379596",
     "status": "completed"
    },
    "tags": []
   },
   "outputs": [],
   "source": [
    "# save model\n",
    "model.save('models/BiLSTM_model.h5')"
   ]
  },
  {
   "cell_type": "markdown",
   "id": "65160341",
   "metadata": {
    "papermill": {
     "duration": 1.994525,
     "end_time": "2021-12-20T09:02:49.989095",
     "exception": false,
     "start_time": "2021-12-20T09:02:47.994570",
     "status": "completed"
    },
    "tags": []
   },
   "source": [
    "## Prediction"
   ]
  },
  {
   "cell_type": "code",
   "execution_count": 15,
   "id": "d0be451b",
   "metadata": {
    "execution": {
     "iopub.execute_input": "2021-12-20T09:02:54.107057Z",
     "iopub.status.busy": "2021-12-20T09:02:54.086739Z",
     "iopub.status.idle": "2021-12-20T09:02:57.371335Z",
     "shell.execute_reply": "2021-12-20T09:02:57.372598Z",
     "shell.execute_reply.started": "2021-12-20T04:40:21.64782Z"
    },
    "papermill": {
     "duration": 5.338256,
     "end_time": "2021-12-20T09:02:57.372863",
     "exception": false,
     "start_time": "2021-12-20T09:02:52.034607",
     "status": "completed"
    },
    "tags": []
   },
   "outputs": [],
   "source": [
    "model =  keras.models.load_model('models/BiLSTM_model.h5')\n"
   ]
  },
  {
   "cell_type": "code",
   "execution_count": 16,
   "id": "fce674c8",
   "metadata": {
    "execution": {
     "iopub.execute_input": "2021-12-20T09:03:01.802678Z",
     "iopub.status.busy": "2021-12-20T09:03:01.801672Z",
     "iopub.status.idle": "2021-12-20T09:03:04.947021Z",
     "shell.execute_reply": "2021-12-20T09:03:04.947704Z",
     "shell.execute_reply.started": "2021-12-20T04:40:27.870908Z"
    },
    "papermill": {
     "duration": 5.112517,
     "end_time": "2021-12-20T09:03:04.947929",
     "exception": false,
     "start_time": "2021-12-20T09:02:59.835412",
     "status": "completed"
    },
    "tags": []
   },
   "outputs": [
    {
     "name": "stdout",
     "output_type": "stream",
     "text": [
      "(1, 128)\n",
      "['O' 'O' 'B-org' 'O' 'O' 'O' 'O' 'O' 'O' 'O' 'B-org' 'O' 'O' 'O' 'B-tim'\n",
      " '_t_pad_' '_t_pad_' '_t_pad_' '_t_pad_' '_t_pad_' '_t_pad_' '_t_pad_'\n",
      " '_t_pad_' '_t_pad_' '_t_pad_' '_t_pad_' '_t_pad_' '_t_pad_' '_t_pad_'\n",
      " '_t_pad_' '_t_pad_' '_t_pad_' '_t_pad_' '_t_pad_' '_t_pad_' '_t_pad_'\n",
      " '_t_pad_' '_t_pad_' '_t_pad_' '_t_pad_' '_t_pad_' '_t_pad_' '_t_pad_'\n",
      " '_t_pad_' '_t_pad_' '_t_pad_' '_t_pad_' '_t_pad_' '_t_pad_' '_t_pad_'\n",
      " '_t_pad_' '_t_pad_' '_t_pad_' '_t_pad_' '_t_pad_' '_t_pad_' '_t_pad_'\n",
      " '_t_pad_' '_t_pad_' '_t_pad_' '_t_pad_' '_t_pad_' '_t_pad_' '_t_pad_'\n",
      " '_t_pad_' '_t_pad_' '_t_pad_' '_t_pad_' '_t_pad_' '_t_pad_' '_t_pad_'\n",
      " '_t_pad_' '_t_pad_' '_t_pad_' '_t_pad_' '_t_pad_' '_t_pad_' '_t_pad_'\n",
      " '_t_pad_' '_t_pad_' '_t_pad_' '_t_pad_' '_t_pad_' '_t_pad_' '_t_pad_'\n",
      " '_t_pad_' '_t_pad_' '_t_pad_' '_t_pad_' '_t_pad_' '_t_pad_' '_t_pad_'\n",
      " '_t_pad_' '_t_pad_' '_t_pad_' '_t_pad_' '_t_pad_' '_t_pad_' '_t_pad_'\n",
      " '_t_pad_' '_t_pad_' '_t_pad_' '_t_pad_' '_t_pad_' '_t_pad_' '_t_pad_'\n",
      " '_t_pad_' '_t_pad_' '_t_pad_' '_t_pad_' '_t_pad_' '_t_pad_' '_t_pad_'\n",
      " '_t_pad_' '_t_pad_' '_t_pad_' '_t_pad_' '_t_pad_' '_t_pad_' '_t_pad_'\n",
      " '_t_pad_' '_t_pad_' '_t_pad_' '_t_pad_' '_t_pad_' '_t_pad_' '_t_pad_'\n",
      " '_t_pad_']\n"
     ]
    }
   ],
   "source": [
    "sentence = \"HKUST honors faculty and staff members who have served the University for at least two decades.\"\n",
    "sent = sentence.split(\" \")\n",
    "encoded_sent = []\n",
    "for word in sent:\n",
    "    if word in word2idx:\n",
    "        encoded_sent.append(word2idx[word])\n",
    "    else:\n",
    "        encoded_sent.append(1)\n",
    "if len(encoded_sent) < config.MAX_LEN:\n",
    "    encoded_sent += [0]*(config.MAX_LEN - len(encoded_sent))\n",
    "assert len(encoded_sent) == config.MAX_LEN\n",
    "\n",
    "test_dataset = []\n",
    "test_dataset.append(encoded_sent)\n",
    "test_dataset = np.array(test_dataset)\n",
    "test_preds_numerical = model.predict(test_dataset)\n",
    "test_preds = np.array([[idx2tag[p] for p in preds] for preds in np.argmax(test_preds_numerical,axis=2)])\n",
    "print(test_preds.shape)\n",
    "print(test_preds[0])"
   ]
  }
 ],
 "metadata": {
  "kernelspec": {
   "display_name": "Python 3",
   "language": "python",
   "name": "python3"
  },
  "language_info": {
   "codemirror_mode": {
    "name": "ipython",
    "version": 3
   },
   "file_extension": ".py",
   "mimetype": "text/x-python",
   "name": "python",
   "nbconvert_exporter": "python",
   "pygments_lexer": "ipython3",
   "version": "3.7.12"
  },
  "papermill": {
   "default_parameters": {},
   "duration": 793.596943,
   "end_time": "2021-12-20T09:03:10.093393",
   "environment_variables": {},
   "exception": null,
   "input_path": "__notebook__.ipynb",
   "output_path": "__notebook__.ipynb",
   "parameters": {},
   "start_time": "2021-12-20T08:49:56.496450",
   "version": "2.3.3"
  }
 },
 "nbformat": 4,
 "nbformat_minor": 5
}
